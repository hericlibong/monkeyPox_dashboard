{
 "cells": [
  {
   "cell_type": "code",
   "execution_count": 1,
   "id": "6c8f8884",
   "metadata": {},
   "outputs": [],
   "source": [
    "import pandas as pd\n",
    "import plotly.express as px\n",
    "import plotly.graph_objects as go\n",
    "\n",
    "import bamboolib as bam"
   ]
  },
  {
   "cell_type": "code",
   "execution_count": 2,
   "id": "ec47a10e",
   "metadata": {},
   "outputs": [],
   "source": [
    "data = pd.read_csv('df_monkeyPox.csv')"
   ]
  },
  {
   "cell_type": "code",
   "execution_count": 3,
   "id": "db981d32",
   "metadata": {},
   "outputs": [
    {
     "data": {
      "application/vnd.jupyter.widget-view+json": {
       "model_id": "3e29df6ab14246b29caf5db3f92671c1"
      },
      "text/plain": [
       "        Country        date  confirmed  acc_confirmed   latitude  longitude\n",
       "0     Argentina  2022-05-01          0              0 -38.416097 -63.616672\n",
       "1     Argentina  2022-05-02          0              0 -38.416097 -63.616672\n",
       "2     Argentina  2022-05-03          0              0 -38.416097 -63.616672\n",
       "3     Argentina  2022-05-04          0              0 -38.416097 -63.616672\n",
       "4     Argentina  2022-05-05          0              0 -38.416097 -63.616672\n",
       "...         ...         ...        ...            ...        ...        ...\n",
       "2335      World  2022-06-17        195           2594   0.000000   0.000000\n",
       "2336      World  2022-06-18          1           2595   0.000000   0.000000\n",
       "2337      World  2022-06-19          1           2596   0.000000   0.000000\n",
       "2338      World  2022-06-20        289           2885   0.000000   0.000000\n",
       "2339      World  2022-06-21        271           3156   0.000000   0.000000\n",
       "\n",
       "[2340 rows x 6 columns]"
      ]
     },
     "metadata": {},
     "output_type": "display_data"
    }
   ],
   "source": [
    "data"
   ]
  },
  {
   "cell_type": "code",
   "execution_count": 4,
   "id": "fd9a738e",
   "metadata": {},
   "outputs": [
    {
     "data": {
      "application/vnd.jupyter.widget-view+json": {
       "model_id": "49db301af63645f0b5bef8aaf531ce03"
      },
      "text/plain": [
       "        Country        date  confirmed  acc_confirmed   latitude  longitude\n",
       "0     Argentina  2022-05-01          0              0 -38.416097 -63.616672\n",
       "1     Argentina  2022-05-02          0              0 -38.416097 -63.616672\n",
       "2     Argentina  2022-05-03          0              0 -38.416097 -63.616672\n",
       "3     Argentina  2022-05-04          0              0 -38.416097 -63.616672\n",
       "4     Argentina  2022-05-05          0              0 -38.416097 -63.616672\n",
       "...         ...         ...        ...            ...        ...        ...\n",
       "2335      World  2022-06-17        195           2594   0.000000   0.000000\n",
       "2336      World  2022-06-18          1           2595   0.000000   0.000000\n",
       "2337      World  2022-06-19          1           2596   0.000000   0.000000\n",
       "2338      World  2022-06-20        289           2885   0.000000   0.000000\n",
       "2339      World  2022-06-21        271           3156   0.000000   0.000000\n",
       "\n",
       "[2340 rows x 6 columns]"
      ]
     },
     "metadata": {},
     "output_type": "display_data"
    }
   ],
   "source": [
    "data"
   ]
  },
  {
   "cell_type": "code",
   "execution_count": 5,
   "id": "1bcdb0e9",
   "metadata": {},
   "outputs": [],
   "source": [
    "table = data.groupby('Country')['acc_confirmed'].max().sort_values(ascending=False).to_frame()"
   ]
  },
  {
   "cell_type": "code",
   "execution_count": 6,
   "id": "90b9318a",
   "metadata": {},
   "outputs": [],
   "source": [
    "table = table.reset_index()\n"
   ]
  },
  {
   "cell_type": "code",
   "execution_count": 7,
   "id": "d1e85b49",
   "metadata": {},
   "outputs": [
    {
     "data": {
      "application/vnd.jupyter.widget-view+json": {
       "model_id": "3e39a1f7e37a49b8a41e65f32b8a2603"
      },
      "text/plain": [
       "        Country        date  daily_confirmed  acc_confirmed   latitude  \\\n",
       "0     Argentina  2022-05-01                0              0 -38.416097   \n",
       "1     Argentina  2022-05-02                0              0 -38.416097   \n",
       "2     Argentina  2022-05-03                0              0 -38.416097   \n",
       "3     Argentina  2022-05-04                0              0 -38.416097   \n",
       "4     Argentina  2022-05-05                0              0 -38.416097   \n",
       "...         ...         ...              ...            ...        ...   \n",
       "2335      World  2022-06-17              195           2594   0.000000   \n",
       "2336      World  2022-06-18                1           2595   0.000000   \n",
       "2337      World  2022-06-19                1           2596   0.000000   \n",
       "2338      World  2022-06-20              289           2885   0.000000   \n",
       "2339      World  2022-06-21              271           3156   0.000000   \n",
       "\n",
       "      longitude  \n",
       "0    -63.616672  \n",
       "1    -63.616672  \n",
       "2    -63.616672  \n",
       "3    -63.616672  \n",
       "4    -63.616672  \n",
       "...         ...  \n",
       "2335   0.000000  \n",
       "2336   0.000000  \n",
       "2337   0.000000  \n",
       "2338   0.000000  \n",
       "2339   0.000000  \n",
       "\n",
       "[2340 rows x 6 columns]"
      ]
     },
     "metadata": {},
     "output_type": "display_data"
    }
   ],
   "source": [
    "data = data.rename(columns={'confirmed': 'daily_confirmed'})\n",
    "data"
   ]
  },
  {
   "cell_type": "code",
   "execution_count": 8,
   "id": "9790b062",
   "metadata": {},
   "outputs": [],
   "source": [
    "new_cases_ALL = (data\n",
    " .sort_values(by = ['Country', 'date'])\n",
    " .filter(['Country','daily_confirmed', 'acc_confirmed'])\n",
    " .groupby(['Country'])\n",
    " .acc_confirmed\n",
    " .diff()\n",
    ")"
   ]
  },
  {
   "cell_type": "code",
   "execution_count": 10,
   "id": "34298554",
   "metadata": {},
   "outputs": [
    {
     "data": {
      "text/plain": [
       "0         NaN\n",
       "1         0.0\n",
       "2         0.0\n",
       "3         0.0\n",
       "4         0.0\n",
       "        ...  \n",
       "2335    195.0\n",
       "2336      1.0\n",
       "2337      1.0\n",
       "2338    289.0\n",
       "2339    271.0\n",
       "Name: acc_confirmed, Length: 2340, dtype: float64"
      ]
     },
     "execution_count": 10,
     "metadata": {},
     "output_type": "execute_result"
    }
   ],
   "source": [
    "new_cases_ALL"
   ]
  },
  {
   "cell_type": "code",
   "execution_count": 11,
   "id": "e861200a",
   "metadata": {},
   "outputs": [
    {
     "data": {
      "text/plain": [
       "0         0\n",
       "1         0\n",
       "2         0\n",
       "3         0\n",
       "4         0\n",
       "       ... \n",
       "2335    195\n",
       "2336      1\n",
       "2337      1\n",
       "2338    289\n",
       "2339    271\n",
       "Name: daily_confirmed, Length: 2340, dtype: int64"
      ]
     },
     "execution_count": 11,
     "metadata": {},
     "output_type": "execute_result"
    }
   ],
   "source": [
    "data.daily_confirmed"
   ]
  },
  {
   "cell_type": "code",
   "execution_count": null,
   "id": "c80b2dbc",
   "metadata": {},
   "outputs": [],
   "source": []
  }
 ],
 "metadata": {
  "kernelspec": {
   "display_name": "Python 3",
   "language": "python",
   "name": "python3"
  },
  "language_info": {
   "codemirror_mode": {
    "name": "ipython",
    "version": 3
   },
   "file_extension": ".py",
   "mimetype": "text/x-python",
   "name": "python",
   "nbconvert_exporter": "python",
   "pygments_lexer": "ipython3",
   "version": "3.7.7"
  },
  "nbTranslate": {
   "displayLangs": [
    "*"
   ],
   "hotkey": "alt-t",
   "langInMainMenu": true,
   "sourceLang": "en",
   "targetLang": "fr",
   "useGoogleTranslate": true
  }
 },
 "nbformat": 4,
 "nbformat_minor": 5
}
