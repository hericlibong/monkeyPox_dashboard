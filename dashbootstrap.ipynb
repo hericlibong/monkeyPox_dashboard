{
 "cells": [
  {
   "cell_type": "code",
   "execution_count": 57,
   "id": "6c8f8884",
   "metadata": {},
   "outputs": [],
   "source": [
    "import pandas as pd\n",
    "import plotly.express as px\n",
    "import plotly.graph_objects as go\n",
    "\n",
    "import bamboolib as bam"
   ]
  },
  {
   "cell_type": "code",
   "execution_count": 58,
   "id": "ec47a10e",
   "metadata": {},
   "outputs": [],
   "source": [
    "data = pd.read_csv('df_monkeyPox.csv')"
   ]
  },
  {
   "cell_type": "code",
   "execution_count": 59,
   "id": "db981d32",
   "metadata": {},
   "outputs": [
    {
     "data": {
      "application/vnd.jupyter.widget-view+json": {
       "model_id": "4021ab553e184a82b96d48d37af6d831"
      },
      "text/plain": [
       "        Country        date  confirmed  acc_confirmed   latitude  longitude\n",
       "0     Argentina  2022-05-01          0              0 -38.416097 -63.616672\n",
       "1     Argentina  2022-05-02          0              0 -38.416097 -63.616672\n",
       "2     Argentina  2022-05-03          0              0 -38.416097 -63.616672\n",
       "3     Argentina  2022-05-04          0              0 -38.416097 -63.616672\n",
       "4     Argentina  2022-05-05          0              0 -38.416097 -63.616672\n",
       "...         ...         ...        ...            ...        ...        ...\n",
       "2335      World  2022-06-17        195           2594   0.000000   0.000000\n",
       "2336      World  2022-06-18          1           2595   0.000000   0.000000\n",
       "2337      World  2022-06-19          1           2596   0.000000   0.000000\n",
       "2338      World  2022-06-20        289           2885   0.000000   0.000000\n",
       "2339      World  2022-06-21        271           3156   0.000000   0.000000\n",
       "\n",
       "[2340 rows x 6 columns]"
      ]
     },
     "metadata": {},
     "output_type": "display_data"
    }
   ],
   "source": [
    "data"
   ]
  },
  {
   "cell_type": "code",
   "execution_count": 60,
   "id": "fd9a738e",
   "metadata": {},
   "outputs": [
    {
     "data": {
      "application/vnd.jupyter.widget-view+json": {
       "model_id": "95676c3806824c83a4b0fcf518de9579"
      },
      "text/plain": [
       "        Country        date  confirmed  acc_confirmed   latitude  longitude\n",
       "0     Argentina  2022-05-01          0              0 -38.416097 -63.616672\n",
       "1     Argentina  2022-05-02          0              0 -38.416097 -63.616672\n",
       "2     Argentina  2022-05-03          0              0 -38.416097 -63.616672\n",
       "3     Argentina  2022-05-04          0              0 -38.416097 -63.616672\n",
       "4     Argentina  2022-05-05          0              0 -38.416097 -63.616672\n",
       "...         ...         ...        ...            ...        ...        ...\n",
       "2335      World  2022-06-17        195           2594   0.000000   0.000000\n",
       "2336      World  2022-06-18          1           2595   0.000000   0.000000\n",
       "2337      World  2022-06-19          1           2596   0.000000   0.000000\n",
       "2338      World  2022-06-20        289           2885   0.000000   0.000000\n",
       "2339      World  2022-06-21        271           3156   0.000000   0.000000\n",
       "\n",
       "[2340 rows x 6 columns]"
      ]
     },
     "metadata": {},
     "output_type": "display_data"
    }
   ],
   "source": [
    "data"
   ]
  },
  {
   "cell_type": "code",
   "execution_count": 61,
   "id": "1bcdb0e9",
   "metadata": {},
   "outputs": [],
   "source": [
    "#table = data.groupby('Country')['acc_confirmed'].max().sort_values(ascending=False).to_frame()"
   ]
  },
  {
   "cell_type": "code",
   "execution_count": 62,
   "id": "90b9318a",
   "metadata": {},
   "outputs": [],
   "source": [
    "#table = table.reset_index()\n"
   ]
  },
  {
   "cell_type": "code",
   "execution_count": 63,
   "id": "d1e85b49",
   "metadata": {},
   "outputs": [],
   "source": [
    "# data = data.rename(columns={'confirmed': 'daily_confirmed'})\n",
    "# new_df = data.groupby(['Country']).agg(daily_confirmed_last=('daily_confirmed', 'last'), acc_confirmed_max=('acc_confirmed', 'max')).reset_index()\n",
    "# new_df"
   ]
  },
  {
   "cell_type": "code",
   "execution_count": 64,
   "id": "e861200a",
   "metadata": {},
   "outputs": [],
   "source": [
    "# #columns = ['daily_confirmed_last', 'acc_confirmed_max']\n",
    "# infos = {\n",
    "#     'labels':columns,\n",
    "#     'data':[new_df[new_df['Country']=='Romania'][col].iloc[0]for col in columns]\n",
    "# }\n"
   ]
  },
  {
   "cell_type": "code",
   "execution_count": 65,
   "id": "c80b2dbc",
   "metadata": {},
   "outputs": [],
   "source": [
    "#table = pd.DataFrame(infos)"
   ]
  },
  {
   "cell_type": "code",
   "execution_count": 66,
   "id": "82816d1f",
   "metadata": {},
   "outputs": [],
   "source": [
    "#table"
   ]
  },
  {
   "cell_type": "code",
   "execution_count": 67,
   "id": "3d717f15",
   "metadata": {},
   "outputs": [],
   "source": [
    "#data = table.to_dict('rows')"
   ]
  },
  {
   "cell_type": "code",
   "execution_count": 68,
   "id": "b93a5d8f",
   "metadata": {},
   "outputs": [],
   "source": [
    "#data"
   ]
  },
  {
   "cell_type": "code",
   "execution_count": 69,
   "id": "5f0793ad",
   "metadata": {},
   "outputs": [],
   "source": [
    "#header =[ {'id':'label',  'name':'Labels'}, {'id':'data', 'name':'Romania'}]"
   ]
  },
  {
   "cell_type": "code",
   "execution_count": 70,
   "id": "e774bdb2",
   "metadata": {},
   "outputs": [],
   "source": [
    "#headerbb"
   ]
  },
  {
   "cell_type": "code",
   "execution_count": null,
   "id": "c2f9f0bb",
   "metadata": {},
   "outputs": [],
   "source": []
  },
  {
   "cell_type": "code",
   "execution_count": null,
   "id": "72874c60",
   "metadata": {},
   "outputs": [],
   "source": []
  },
  {
   "cell_type": "code",
   "execution_count": null,
   "id": "69e5c09c",
   "metadata": {},
   "outputs": [],
   "source": []
  },
  {
   "cell_type": "code",
   "execution_count": null,
   "id": "a9d1b29b",
   "metadata": {},
   "outputs": [],
   "source": []
  },
  {
   "cell_type": "code",
   "execution_count": 71,
   "id": "e4da5599",
   "metadata": {},
   "outputs": [
    {
     "data": {
      "application/vnd.jupyter.widget-view+json": {
       "model_id": "70e9dd1a0a80432898d37bcb475efb41"
      },
      "text/plain": [
       "        Country        date  confirmed  acc_confirmed   latitude  longitude\n",
       "0     Argentina  2022-05-01          0              0 -38.416097 -63.616672\n",
       "1     Argentina  2022-05-02          0              0 -38.416097 -63.616672\n",
       "2     Argentina  2022-05-03          0              0 -38.416097 -63.616672\n",
       "3     Argentina  2022-05-04          0              0 -38.416097 -63.616672\n",
       "4     Argentina  2022-05-05          0              0 -38.416097 -63.616672\n",
       "...         ...         ...        ...            ...        ...        ...\n",
       "2283      Wales  2022-06-17          0              6  55.378051  -3.435973\n",
       "2284      Wales  2022-06-18          0              6  55.378051  -3.435973\n",
       "2285      Wales  2022-06-19          0              6  55.378051  -3.435973\n",
       "2286      Wales  2022-06-20          0              6  55.378051  -3.435973\n",
       "2287      Wales  2022-06-21          0              6  55.378051  -3.435973\n",
       "\n",
       "[2288 rows x 6 columns]"
      ]
     },
     "metadata": {},
     "output_type": "display_data"
    }
   ],
   "source": [
    "data_map = data.loc[~(data['Country'].isin(['World']))]\n",
    "data_map"
   ]
  },
  {
   "cell_type": "code",
   "execution_count": 72,
   "id": "f5b691a4",
   "metadata": {},
   "outputs": [],
   "source": [
    "# import plotly.express as px\n",
    "\n",
    "# fig = px.scatter_geo(data_map, lat='latitude', lon = 'longitude', color=\"Country\",\n",
    "#                      hover_name=\"Country\", size=\"acc_confirmed\",\n",
    "#                      animation_frame=\"date\",\n",
    "#                      projection=\"natural earth\")\n",
    "# fig.show()"
   ]
  },
  {
   "cell_type": "code",
   "execution_count": 73,
   "id": "af2ff1d7",
   "metadata": {},
   "outputs": [
    {
     "data": {
      "text/plain": [
       "'2022-05-01'"
      ]
     },
     "execution_count": 73,
     "metadata": {},
     "output_type": "execute_result"
    }
   ],
   "source": [
    "date = data.date.unique()\n",
    "date[0]"
   ]
  },
  {
   "cell_type": "code",
   "execution_count": 74,
   "id": "b4adf967",
   "metadata": {},
   "outputs": [],
   "source": [
    "data_map1 = data_map.groupby(['Country','latitude', 'longitude'])['acc_confirmed'].max().reset_index()\n"
   ]
  },
  {
   "cell_type": "code",
   "execution_count": 75,
   "id": "01b2eec2",
   "metadata": {},
   "outputs": [],
   "source": [
    "# fig = px.scatter_geo(data_map,\n",
    "#                      lat='latitude',\n",
    "#                      lon='longitude',\n",
    "#                     hover_name='Country',\n",
    "#                     size = 'acc_confirmed',\n",
    "#                     size_max = 30,\n",
    "#                     scope = 'world',\n",
    "#                     color='Country',\n",
    "#                     projection = 'equirectangular', \n",
    "#                     animation_frame='date')\n",
    "# fig.show()"
   ]
  },
  {
   "cell_type": "code",
   "execution_count": 76,
   "id": "712410c9",
   "metadata": {},
   "outputs": [],
   "source": [
    "data_test = data.groupby('Country')['acc_confirmed'].max().astype('object').reset_index()\n",
    "\n"
   ]
  },
  {
   "cell_type": "code",
   "execution_count": 77,
   "id": "3ecfe0ff",
   "metadata": {},
   "outputs": [],
   "source": [
    "#data_test.to_dict('records') #[{'name':i, 'id':i} for i in df_table.columns.to_list()]"
   ]
  },
  {
   "cell_type": "code",
   "execution_count": 78,
   "id": "caaa5428",
   "metadata": {},
   "outputs": [],
   "source": [
    "#[{'name':i, 'id':i} for i in data_test.columns]"
   ]
  },
  {
   "cell_type": "code",
   "execution_count": 79,
   "id": "b654257c",
   "metadata": {},
   "outputs": [],
   "source": [
    "#df = pd.read_csv('https://raw.githubusercontent.com/plotly/datasets/master/solar.csv')\n"
   ]
  },
  {
   "cell_type": "code",
   "execution_count": 80,
   "id": "86cf4179",
   "metadata": {},
   "outputs": [],
   "source": [
    "#df.to_dict('records')"
   ]
  },
  {
   "cell_type": "code",
   "execution_count": 81,
   "id": "e7d18ca6",
   "metadata": {},
   "outputs": [],
   "source": [
    "#[{'name':i, 'id':i} for i in df.columns]"
   ]
  },
  {
   "cell_type": "code",
   "execution_count": 82,
   "id": "5a2dc3cc",
   "metadata": {},
   "outputs": [],
   "source": [
    "#data2 = data.groupby(['Country']).agg(acc_confirmed_max=('acc_confirmed', 'max')).reset_index()\n"
   ]
  },
  {
   "cell_type": "code",
   "execution_count": 83,
   "id": "45a893c7",
   "metadata": {},
   "outputs": [],
   "source": [
    "data_px = pd.read_csv('df_monkeyPoxTimeSerie.csv')"
   ]
  },
  {
   "cell_type": "code",
   "execution_count": 84,
   "id": "1db7f6bf",
   "metadata": {},
   "outputs": [],
   "source": [
    "data_world = data_px[data_px['Country']=='World']"
   ]
  },
  {
   "cell_type": "code",
   "execution_count": 85,
   "id": "89bac5cc",
   "metadata": {},
   "outputs": [],
   "source": [
    "data_world['Rolling Ave.'] = data_world['new_daily_cases'].rolling(window=7).mean().fillna(0)"
   ]
  },
  {
   "cell_type": "code",
   "execution_count": 86,
   "id": "bf6c11d3",
   "metadata": {},
   "outputs": [
    {
     "data": {
      "application/vnd.plotly.v1+json": {
       "config": {
        "plotlyServerURL": "https://plotly.com"
       },
       "data": [
        {
         "delta": {
          "font": {
           "size": 15
          },
          "reference": 5970,
          "valueformat": ".0f"
         },
         "domain": {
          "x": [
           0.1,
           0.15
          ],
          "y": [
           0.9,
           1
          ]
         },
         "mode": "number+delta",
         "number": {
          "font": {
           "size": 15
          }
         },
         "title": {
          "font": {
           "size": 20
          },
          "text": "Total Cases"
         },
         "type": "indicator",
         "value": 6105
        },
        {
         "marker": {
          "color": "rgb(158,202,225)",
          "line": {
           "color": "rgb(8,48,107)"
          }
         },
         "name": "Daily confirmed cases",
         "opacity": 0.5,
         "type": "bar",
         "x": [
          "2022-06-02",
          "2022-06-03",
          "2022-06-04",
          "2022-06-05",
          "2022-06-06",
          "2022-06-07",
          "2022-06-08",
          "2022-06-09",
          "2022-06-10",
          "2022-06-11",
          "2022-06-12",
          "2022-06-13",
          "2022-06-14",
          "2022-06-15",
          "2022-06-16",
          "2022-06-17",
          "2022-06-18",
          "2022-06-19",
          "2022-06-20",
          "2022-06-21",
          "2022-06-22",
          "2022-06-23",
          "2022-06-24",
          "2022-06-25",
          "2022-06-26",
          "2022-06-27",
          "2022-06-28",
          "2022-06-29",
          "2022-06-30",
          "2022-07-01"
         ],
         "y": [
          125,
          94,
          7,
          0,
          114,
          150,
          97,
          146,
          42,
          9,
          107,
          58,
          243,
          146,
          371,
          196,
          1,
          1,
          290,
          273,
          167,
          436,
          329,
          3,
          168,
          367,
          365,
          147,
          816,
          135
         ]
        },
        {
         "mode": "lines",
         "name": "Rolling Average on 7 days",
         "type": "scatter",
         "x": [
          "2022-06-02",
          "2022-06-03",
          "2022-06-04",
          "2022-06-05",
          "2022-06-06",
          "2022-06-07",
          "2022-06-08",
          "2022-06-09",
          "2022-06-10",
          "2022-06-11",
          "2022-06-12",
          "2022-06-13",
          "2022-06-14",
          "2022-06-15",
          "2022-06-16",
          "2022-06-17",
          "2022-06-18",
          "2022-06-19",
          "2022-06-20",
          "2022-06-21",
          "2022-06-22",
          "2022-06-23",
          "2022-06-24",
          "2022-06-25",
          "2022-06-26",
          "2022-06-27",
          "2022-06-28",
          "2022-06-29",
          "2022-06-30",
          "2022-07-01"
         ],
         "y": [
          68.42857142857143,
          74.57142857142857,
          73.28571428571429,
          71.14285714285714,
          69.85714285714286,
          81.85714285714286,
          83.85714285714286,
          86.85714285714286,
          79.42857142857143,
          79.71428571428571,
          95,
          87,
          100.28571428571429,
          107.28571428571429,
          139.42857142857142,
          161.42857142857142,
          160.28571428571428,
          145.14285714285714,
          178.28571428571428,
          182.57142857142858,
          185.57142857142858,
          194.85714285714286,
          213.85714285714286,
          214.14285714285714,
          238,
          249,
          262.14285714285717,
          259.2857142857143,
          313.57142857142856,
          285.85714285714283
         ]
        }
       ],
       "layout": {
        "height": 400,
        "legend": {
         "orientation": "h",
         "x": 0.5,
         "xanchor": "center",
         "y": -0.1
        },
        "template": {
         "data": {
          "bar": [
           {
            "error_x": {
             "color": "#2a3f5f"
            },
            "error_y": {
             "color": "#2a3f5f"
            },
            "marker": {
             "line": {
              "color": "white",
              "width": 0.5
             }
            },
            "type": "bar"
           }
          ],
          "barpolar": [
           {
            "marker": {
             "line": {
              "color": "white",
              "width": 0.5
             }
            },
            "type": "barpolar"
           }
          ],
          "carpet": [
           {
            "aaxis": {
             "endlinecolor": "#2a3f5f",
             "gridcolor": "#C8D4E3",
             "linecolor": "#C8D4E3",
             "minorgridcolor": "#C8D4E3",
             "startlinecolor": "#2a3f5f"
            },
            "baxis": {
             "endlinecolor": "#2a3f5f",
             "gridcolor": "#C8D4E3",
             "linecolor": "#C8D4E3",
             "minorgridcolor": "#C8D4E3",
             "startlinecolor": "#2a3f5f"
            },
            "type": "carpet"
           }
          ],
          "choropleth": [
           {
            "colorbar": {
             "outlinewidth": 0,
             "ticks": ""
            },
            "type": "choropleth"
           }
          ],
          "contour": [
           {
            "colorbar": {
             "outlinewidth": 0,
             "ticks": ""
            },
            "colorscale": [
             [
              0,
              "#0d0887"
             ],
             [
              0.1111111111111111,
              "#46039f"
             ],
             [
              0.2222222222222222,
              "#7201a8"
             ],
             [
              0.3333333333333333,
              "#9c179e"
             ],
             [
              0.4444444444444444,
              "#bd3786"
             ],
             [
              0.5555555555555556,
              "#d8576b"
             ],
             [
              0.6666666666666666,
              "#ed7953"
             ],
             [
              0.7777777777777778,
              "#fb9f3a"
             ],
             [
              0.8888888888888888,
              "#fdca26"
             ],
             [
              1,
              "#f0f921"
             ]
            ],
            "type": "contour"
           }
          ],
          "contourcarpet": [
           {
            "colorbar": {
             "outlinewidth": 0,
             "ticks": ""
            },
            "type": "contourcarpet"
           }
          ],
          "heatmap": [
           {
            "colorbar": {
             "outlinewidth": 0,
             "ticks": ""
            },
            "colorscale": [
             [
              0,
              "#0d0887"
             ],
             [
              0.1111111111111111,
              "#46039f"
             ],
             [
              0.2222222222222222,
              "#7201a8"
             ],
             [
              0.3333333333333333,
              "#9c179e"
             ],
             [
              0.4444444444444444,
              "#bd3786"
             ],
             [
              0.5555555555555556,
              "#d8576b"
             ],
             [
              0.6666666666666666,
              "#ed7953"
             ],
             [
              0.7777777777777778,
              "#fb9f3a"
             ],
             [
              0.8888888888888888,
              "#fdca26"
             ],
             [
              1,
              "#f0f921"
             ]
            ],
            "type": "heatmap"
           }
          ],
          "heatmapgl": [
           {
            "colorbar": {
             "outlinewidth": 0,
             "ticks": ""
            },
            "colorscale": [
             [
              0,
              "#0d0887"
             ],
             [
              0.1111111111111111,
              "#46039f"
             ],
             [
              0.2222222222222222,
              "#7201a8"
             ],
             [
              0.3333333333333333,
              "#9c179e"
             ],
             [
              0.4444444444444444,
              "#bd3786"
             ],
             [
              0.5555555555555556,
              "#d8576b"
             ],
             [
              0.6666666666666666,
              "#ed7953"
             ],
             [
              0.7777777777777778,
              "#fb9f3a"
             ],
             [
              0.8888888888888888,
              "#fdca26"
             ],
             [
              1,
              "#f0f921"
             ]
            ],
            "type": "heatmapgl"
           }
          ],
          "histogram": [
           {
            "marker": {
             "colorbar": {
              "outlinewidth": 0,
              "ticks": ""
             }
            },
            "type": "histogram"
           }
          ],
          "histogram2d": [
           {
            "colorbar": {
             "outlinewidth": 0,
             "ticks": ""
            },
            "colorscale": [
             [
              0,
              "#0d0887"
             ],
             [
              0.1111111111111111,
              "#46039f"
             ],
             [
              0.2222222222222222,
              "#7201a8"
             ],
             [
              0.3333333333333333,
              "#9c179e"
             ],
             [
              0.4444444444444444,
              "#bd3786"
             ],
             [
              0.5555555555555556,
              "#d8576b"
             ],
             [
              0.6666666666666666,
              "#ed7953"
             ],
             [
              0.7777777777777778,
              "#fb9f3a"
             ],
             [
              0.8888888888888888,
              "#fdca26"
             ],
             [
              1,
              "#f0f921"
             ]
            ],
            "type": "histogram2d"
           }
          ],
          "histogram2dcontour": [
           {
            "colorbar": {
             "outlinewidth": 0,
             "ticks": ""
            },
            "colorscale": [
             [
              0,
              "#0d0887"
             ],
             [
              0.1111111111111111,
              "#46039f"
             ],
             [
              0.2222222222222222,
              "#7201a8"
             ],
             [
              0.3333333333333333,
              "#9c179e"
             ],
             [
              0.4444444444444444,
              "#bd3786"
             ],
             [
              0.5555555555555556,
              "#d8576b"
             ],
             [
              0.6666666666666666,
              "#ed7953"
             ],
             [
              0.7777777777777778,
              "#fb9f3a"
             ],
             [
              0.8888888888888888,
              "#fdca26"
             ],
             [
              1,
              "#f0f921"
             ]
            ],
            "type": "histogram2dcontour"
           }
          ],
          "mesh3d": [
           {
            "colorbar": {
             "outlinewidth": 0,
             "ticks": ""
            },
            "type": "mesh3d"
           }
          ],
          "parcoords": [
           {
            "line": {
             "colorbar": {
              "outlinewidth": 0,
              "ticks": ""
             }
            },
            "type": "parcoords"
           }
          ],
          "pie": [
           {
            "automargin": true,
            "type": "pie"
           }
          ],
          "scatter": [
           {
            "marker": {
             "colorbar": {
              "outlinewidth": 0,
              "ticks": ""
             }
            },
            "type": "scatter"
           }
          ],
          "scatter3d": [
           {
            "line": {
             "colorbar": {
              "outlinewidth": 0,
              "ticks": ""
             }
            },
            "marker": {
             "colorbar": {
              "outlinewidth": 0,
              "ticks": ""
             }
            },
            "type": "scatter3d"
           }
          ],
          "scattercarpet": [
           {
            "marker": {
             "colorbar": {
              "outlinewidth": 0,
              "ticks": ""
             }
            },
            "type": "scattercarpet"
           }
          ],
          "scattergeo": [
           {
            "marker": {
             "colorbar": {
              "outlinewidth": 0,
              "ticks": ""
             }
            },
            "type": "scattergeo"
           }
          ],
          "scattergl": [
           {
            "marker": {
             "colorbar": {
              "outlinewidth": 0,
              "ticks": ""
             }
            },
            "type": "scattergl"
           }
          ],
          "scattermapbox": [
           {
            "marker": {
             "colorbar": {
              "outlinewidth": 0,
              "ticks": ""
             }
            },
            "type": "scattermapbox"
           }
          ],
          "scatterpolar": [
           {
            "marker": {
             "colorbar": {
              "outlinewidth": 0,
              "ticks": ""
             }
            },
            "type": "scatterpolar"
           }
          ],
          "scatterpolargl": [
           {
            "marker": {
             "colorbar": {
              "outlinewidth": 0,
              "ticks": ""
             }
            },
            "type": "scatterpolargl"
           }
          ],
          "scatterternary": [
           {
            "marker": {
             "colorbar": {
              "outlinewidth": 0,
              "ticks": ""
             }
            },
            "type": "scatterternary"
           }
          ],
          "surface": [
           {
            "colorbar": {
             "outlinewidth": 0,
             "ticks": ""
            },
            "colorscale": [
             [
              0,
              "#0d0887"
             ],
             [
              0.1111111111111111,
              "#46039f"
             ],
             [
              0.2222222222222222,
              "#7201a8"
             ],
             [
              0.3333333333333333,
              "#9c179e"
             ],
             [
              0.4444444444444444,
              "#bd3786"
             ],
             [
              0.5555555555555556,
              "#d8576b"
             ],
             [
              0.6666666666666666,
              "#ed7953"
             ],
             [
              0.7777777777777778,
              "#fb9f3a"
             ],
             [
              0.8888888888888888,
              "#fdca26"
             ],
             [
              1,
              "#f0f921"
             ]
            ],
            "type": "surface"
           }
          ],
          "table": [
           {
            "cells": {
             "fill": {
              "color": "#EBF0F8"
             },
             "line": {
              "color": "white"
             }
            },
            "header": {
             "fill": {
              "color": "#C8D4E3"
             },
             "line": {
              "color": "white"
             }
            },
            "type": "table"
           }
          ]
         },
         "layout": {
          "annotationdefaults": {
           "arrowcolor": "#2a3f5f",
           "arrowhead": 0,
           "arrowwidth": 1
          },
          "autotypenumbers": "strict",
          "coloraxis": {
           "colorbar": {
            "outlinewidth": 0,
            "ticks": ""
           }
          },
          "colorscale": {
           "diverging": [
            [
             0,
             "#8e0152"
            ],
            [
             0.1,
             "#c51b7d"
            ],
            [
             0.2,
             "#de77ae"
            ],
            [
             0.3,
             "#f1b6da"
            ],
            [
             0.4,
             "#fde0ef"
            ],
            [
             0.5,
             "#f7f7f7"
            ],
            [
             0.6,
             "#e6f5d0"
            ],
            [
             0.7,
             "#b8e186"
            ],
            [
             0.8,
             "#7fbc41"
            ],
            [
             0.9,
             "#4d9221"
            ],
            [
             1,
             "#276419"
            ]
           ],
           "sequential": [
            [
             0,
             "#0d0887"
            ],
            [
             0.1111111111111111,
             "#46039f"
            ],
            [
             0.2222222222222222,
             "#7201a8"
            ],
            [
             0.3333333333333333,
             "#9c179e"
            ],
            [
             0.4444444444444444,
             "#bd3786"
            ],
            [
             0.5555555555555556,
             "#d8576b"
            ],
            [
             0.6666666666666666,
             "#ed7953"
            ],
            [
             0.7777777777777778,
             "#fb9f3a"
            ],
            [
             0.8888888888888888,
             "#fdca26"
            ],
            [
             1,
             "#f0f921"
            ]
           ],
           "sequentialminus": [
            [
             0,
             "#0d0887"
            ],
            [
             0.1111111111111111,
             "#46039f"
            ],
            [
             0.2222222222222222,
             "#7201a8"
            ],
            [
             0.3333333333333333,
             "#9c179e"
            ],
            [
             0.4444444444444444,
             "#bd3786"
            ],
            [
             0.5555555555555556,
             "#d8576b"
            ],
            [
             0.6666666666666666,
             "#ed7953"
            ],
            [
             0.7777777777777778,
             "#fb9f3a"
            ],
            [
             0.8888888888888888,
             "#fdca26"
            ],
            [
             1,
             "#f0f921"
            ]
           ]
          },
          "colorway": [
           "#636efa",
           "#EF553B",
           "#00cc96",
           "#ab63fa",
           "#FFA15A",
           "#19d3f3",
           "#FF6692",
           "#B6E880",
           "#FF97FF",
           "#FECB52"
          ],
          "font": {
           "color": "#2a3f5f"
          },
          "geo": {
           "bgcolor": "white",
           "lakecolor": "white",
           "landcolor": "white",
           "showlakes": true,
           "showland": true,
           "subunitcolor": "#C8D4E3"
          },
          "hoverlabel": {
           "align": "left"
          },
          "hovermode": "closest",
          "mapbox": {
           "style": "light"
          },
          "paper_bgcolor": "white",
          "plot_bgcolor": "white",
          "polar": {
           "angularaxis": {
            "gridcolor": "#EBF0F8",
            "linecolor": "#EBF0F8",
            "ticks": ""
           },
           "bgcolor": "white",
           "radialaxis": {
            "gridcolor": "#EBF0F8",
            "linecolor": "#EBF0F8",
            "ticks": ""
           }
          },
          "scene": {
           "xaxis": {
            "backgroundcolor": "white",
            "gridcolor": "#DFE8F3",
            "gridwidth": 2,
            "linecolor": "#EBF0F8",
            "showbackground": true,
            "ticks": "",
            "zerolinecolor": "#EBF0F8"
           },
           "yaxis": {
            "backgroundcolor": "white",
            "gridcolor": "#DFE8F3",
            "gridwidth": 2,
            "linecolor": "#EBF0F8",
            "showbackground": true,
            "ticks": "",
            "zerolinecolor": "#EBF0F8"
           },
           "zaxis": {
            "backgroundcolor": "white",
            "gridcolor": "#DFE8F3",
            "gridwidth": 2,
            "linecolor": "#EBF0F8",
            "showbackground": true,
            "ticks": "",
            "zerolinecolor": "#EBF0F8"
           }
          },
          "shapedefaults": {
           "line": {
            "color": "#2a3f5f"
           }
          },
          "ternary": {
           "aaxis": {
            "gridcolor": "#DFE8F3",
            "linecolor": "#A2B1C6",
            "ticks": ""
           },
           "baxis": {
            "gridcolor": "#DFE8F3",
            "linecolor": "#A2B1C6",
            "ticks": ""
           },
           "bgcolor": "white",
           "caxis": {
            "gridcolor": "#DFE8F3",
            "linecolor": "#A2B1C6",
            "ticks": ""
           }
          },
          "title": {
           "x": 0.05
          },
          "xaxis": {
           "automargin": true,
           "gridcolor": "#EBF0F8",
           "linecolor": "#EBF0F8",
           "ticks": "",
           "title": {
            "standoff": 15
           },
           "zerolinecolor": "#EBF0F8",
           "zerolinewidth": 2
          },
          "yaxis": {
           "automargin": true,
           "gridcolor": "#EBF0F8",
           "linecolor": "#EBF0F8",
           "ticks": "",
           "title": {
            "standoff": 15
           },
           "zerolinecolor": "#EBF0F8",
           "zerolinewidth": 2
          }
         }
        },
        "title": {
         "text": "text"
        },
        "width": 900
       }
      },
      "text/html": [
       "<div>                            <div id=\"f8f2e0fb-cca2-496c-95a2-8232db15ba8b\" class=\"plotly-graph-div\" style=\"height:400px; width:900px;\"></div>            <script type=\"text/javascript\">                require([\"plotly\"], function(Plotly) {                    window.PLOTLYENV=window.PLOTLYENV || {};                                    if (document.getElementById(\"f8f2e0fb-cca2-496c-95a2-8232db15ba8b\")) {                    Plotly.newPlot(                        \"f8f2e0fb-cca2-496c-95a2-8232db15ba8b\",                        [{\"delta\": {\"font\": {\"size\": 15}, \"reference\": 5970, \"valueformat\": \".0f\"}, \"domain\": {\"x\": [0.1, 0.15], \"y\": [0.9, 1]}, \"mode\": \"number+delta\", \"number\": {\"font\": {\"size\": 15}}, \"title\": {\"font\": {\"size\": 20}, \"text\": \"Total Cases\"}, \"type\": \"indicator\", \"value\": 6105}, {\"marker\": {\"color\": \"rgb(158,202,225)\", \"line\": {\"color\": \"rgb(8,48,107)\"}}, \"name\": \"Daily confirmed cases\", \"opacity\": 0.5, \"type\": \"bar\", \"x\": [\"2022-06-02\", \"2022-06-03\", \"2022-06-04\", \"2022-06-05\", \"2022-06-06\", \"2022-06-07\", \"2022-06-08\", \"2022-06-09\", \"2022-06-10\", \"2022-06-11\", \"2022-06-12\", \"2022-06-13\", \"2022-06-14\", \"2022-06-15\", \"2022-06-16\", \"2022-06-17\", \"2022-06-18\", \"2022-06-19\", \"2022-06-20\", \"2022-06-21\", \"2022-06-22\", \"2022-06-23\", \"2022-06-24\", \"2022-06-25\", \"2022-06-26\", \"2022-06-27\", \"2022-06-28\", \"2022-06-29\", \"2022-06-30\", \"2022-07-01\"], \"y\": [125, 94, 7, 0, 114, 150, 97, 146, 42, 9, 107, 58, 243, 146, 371, 196, 1, 1, 290, 273, 167, 436, 329, 3, 168, 367, 365, 147, 816, 135]}, {\"mode\": \"lines\", \"name\": \"Rolling Average on 7 days\", \"type\": \"scatter\", \"x\": [\"2022-06-02\", \"2022-06-03\", \"2022-06-04\", \"2022-06-05\", \"2022-06-06\", \"2022-06-07\", \"2022-06-08\", \"2022-06-09\", \"2022-06-10\", \"2022-06-11\", \"2022-06-12\", \"2022-06-13\", \"2022-06-14\", \"2022-06-15\", \"2022-06-16\", \"2022-06-17\", \"2022-06-18\", \"2022-06-19\", \"2022-06-20\", \"2022-06-21\", \"2022-06-22\", \"2022-06-23\", \"2022-06-24\", \"2022-06-25\", \"2022-06-26\", \"2022-06-27\", \"2022-06-28\", \"2022-06-29\", \"2022-06-30\", \"2022-07-01\"], \"y\": [68.42857142857143, 74.57142857142857, 73.28571428571429, 71.14285714285714, 69.85714285714286, 81.85714285714286, 83.85714285714286, 86.85714285714286, 79.42857142857143, 79.71428571428571, 95.0, 87.0, 100.28571428571429, 107.28571428571429, 139.42857142857142, 161.42857142857142, 160.28571428571428, 145.14285714285714, 178.28571428571428, 182.57142857142858, 185.57142857142858, 194.85714285714286, 213.85714285714286, 214.14285714285714, 238.0, 249.0, 262.14285714285717, 259.2857142857143, 313.57142857142856, 285.85714285714283]}],                        {\"height\": 400, \"legend\": {\"orientation\": \"h\", \"x\": 0.5, \"xanchor\": \"center\", \"y\": -0.1}, \"template\": {\"data\": {\"bar\": [{\"error_x\": {\"color\": \"#2a3f5f\"}, \"error_y\": {\"color\": \"#2a3f5f\"}, \"marker\": {\"line\": {\"color\": \"white\", \"width\": 0.5}}, \"type\": \"bar\"}], \"barpolar\": [{\"marker\": {\"line\": {\"color\": \"white\", \"width\": 0.5}}, \"type\": \"barpolar\"}], \"carpet\": [{\"aaxis\": {\"endlinecolor\": \"#2a3f5f\", \"gridcolor\": \"#C8D4E3\", \"linecolor\": \"#C8D4E3\", \"minorgridcolor\": \"#C8D4E3\", \"startlinecolor\": \"#2a3f5f\"}, \"baxis\": {\"endlinecolor\": \"#2a3f5f\", \"gridcolor\": \"#C8D4E3\", \"linecolor\": \"#C8D4E3\", \"minorgridcolor\": \"#C8D4E3\", \"startlinecolor\": \"#2a3f5f\"}, \"type\": \"carpet\"}], \"choropleth\": [{\"colorbar\": {\"outlinewidth\": 0, \"ticks\": \"\"}, \"type\": \"choropleth\"}], \"contour\": [{\"colorbar\": {\"outlinewidth\": 0, \"ticks\": \"\"}, \"colorscale\": [[0.0, \"#0d0887\"], [0.1111111111111111, \"#46039f\"], [0.2222222222222222, \"#7201a8\"], [0.3333333333333333, \"#9c179e\"], [0.4444444444444444, \"#bd3786\"], [0.5555555555555556, \"#d8576b\"], [0.6666666666666666, \"#ed7953\"], [0.7777777777777778, \"#fb9f3a\"], [0.8888888888888888, \"#fdca26\"], [1.0, \"#f0f921\"]], \"type\": \"contour\"}], \"contourcarpet\": [{\"colorbar\": {\"outlinewidth\": 0, \"ticks\": \"\"}, \"type\": \"contourcarpet\"}], \"heatmap\": [{\"colorbar\": {\"outlinewidth\": 0, \"ticks\": \"\"}, \"colorscale\": [[0.0, \"#0d0887\"], [0.1111111111111111, \"#46039f\"], [0.2222222222222222, \"#7201a8\"], [0.3333333333333333, \"#9c179e\"], [0.4444444444444444, \"#bd3786\"], [0.5555555555555556, \"#d8576b\"], [0.6666666666666666, \"#ed7953\"], [0.7777777777777778, \"#fb9f3a\"], [0.8888888888888888, \"#fdca26\"], [1.0, \"#f0f921\"]], \"type\": \"heatmap\"}], \"heatmapgl\": [{\"colorbar\": {\"outlinewidth\": 0, \"ticks\": \"\"}, \"colorscale\": [[0.0, \"#0d0887\"], [0.1111111111111111, \"#46039f\"], [0.2222222222222222, \"#7201a8\"], [0.3333333333333333, \"#9c179e\"], [0.4444444444444444, \"#bd3786\"], [0.5555555555555556, \"#d8576b\"], [0.6666666666666666, \"#ed7953\"], [0.7777777777777778, \"#fb9f3a\"], [0.8888888888888888, \"#fdca26\"], [1.0, \"#f0f921\"]], \"type\": \"heatmapgl\"}], \"histogram\": [{\"marker\": {\"colorbar\": {\"outlinewidth\": 0, \"ticks\": \"\"}}, \"type\": \"histogram\"}], \"histogram2d\": [{\"colorbar\": {\"outlinewidth\": 0, \"ticks\": \"\"}, \"colorscale\": [[0.0, \"#0d0887\"], [0.1111111111111111, \"#46039f\"], [0.2222222222222222, \"#7201a8\"], [0.3333333333333333, \"#9c179e\"], [0.4444444444444444, \"#bd3786\"], [0.5555555555555556, \"#d8576b\"], [0.6666666666666666, \"#ed7953\"], [0.7777777777777778, \"#fb9f3a\"], [0.8888888888888888, \"#fdca26\"], [1.0, \"#f0f921\"]], \"type\": \"histogram2d\"}], \"histogram2dcontour\": [{\"colorbar\": {\"outlinewidth\": 0, \"ticks\": \"\"}, \"colorscale\": [[0.0, \"#0d0887\"], [0.1111111111111111, \"#46039f\"], [0.2222222222222222, \"#7201a8\"], [0.3333333333333333, \"#9c179e\"], [0.4444444444444444, \"#bd3786\"], [0.5555555555555556, \"#d8576b\"], [0.6666666666666666, \"#ed7953\"], [0.7777777777777778, \"#fb9f3a\"], [0.8888888888888888, \"#fdca26\"], [1.0, \"#f0f921\"]], \"type\": \"histogram2dcontour\"}], \"mesh3d\": [{\"colorbar\": {\"outlinewidth\": 0, \"ticks\": \"\"}, \"type\": \"mesh3d\"}], \"parcoords\": [{\"line\": {\"colorbar\": {\"outlinewidth\": 0, \"ticks\": \"\"}}, \"type\": \"parcoords\"}], \"pie\": [{\"automargin\": true, \"type\": \"pie\"}], \"scatter\": [{\"marker\": {\"colorbar\": {\"outlinewidth\": 0, \"ticks\": \"\"}}, \"type\": \"scatter\"}], \"scatter3d\": [{\"line\": {\"colorbar\": {\"outlinewidth\": 0, \"ticks\": \"\"}}, \"marker\": {\"colorbar\": {\"outlinewidth\": 0, \"ticks\": \"\"}}, \"type\": \"scatter3d\"}], \"scattercarpet\": [{\"marker\": {\"colorbar\": {\"outlinewidth\": 0, \"ticks\": \"\"}}, \"type\": \"scattercarpet\"}], \"scattergeo\": [{\"marker\": {\"colorbar\": {\"outlinewidth\": 0, \"ticks\": \"\"}}, \"type\": \"scattergeo\"}], \"scattergl\": [{\"marker\": {\"colorbar\": {\"outlinewidth\": 0, \"ticks\": \"\"}}, \"type\": \"scattergl\"}], \"scattermapbox\": [{\"marker\": {\"colorbar\": {\"outlinewidth\": 0, \"ticks\": \"\"}}, \"type\": \"scattermapbox\"}], \"scatterpolar\": [{\"marker\": {\"colorbar\": {\"outlinewidth\": 0, \"ticks\": \"\"}}, \"type\": \"scatterpolar\"}], \"scatterpolargl\": [{\"marker\": {\"colorbar\": {\"outlinewidth\": 0, \"ticks\": \"\"}}, \"type\": \"scatterpolargl\"}], \"scatterternary\": [{\"marker\": {\"colorbar\": {\"outlinewidth\": 0, \"ticks\": \"\"}}, \"type\": \"scatterternary\"}], \"surface\": [{\"colorbar\": {\"outlinewidth\": 0, \"ticks\": \"\"}, \"colorscale\": [[0.0, \"#0d0887\"], [0.1111111111111111, \"#46039f\"], [0.2222222222222222, \"#7201a8\"], [0.3333333333333333, \"#9c179e\"], [0.4444444444444444, \"#bd3786\"], [0.5555555555555556, \"#d8576b\"], [0.6666666666666666, \"#ed7953\"], [0.7777777777777778, \"#fb9f3a\"], [0.8888888888888888, \"#fdca26\"], [1.0, \"#f0f921\"]], \"type\": \"surface\"}], \"table\": [{\"cells\": {\"fill\": {\"color\": \"#EBF0F8\"}, \"line\": {\"color\": \"white\"}}, \"header\": {\"fill\": {\"color\": \"#C8D4E3\"}, \"line\": {\"color\": \"white\"}}, \"type\": \"table\"}]}, \"layout\": {\"annotationdefaults\": {\"arrowcolor\": \"#2a3f5f\", \"arrowhead\": 0, \"arrowwidth\": 1}, \"autotypenumbers\": \"strict\", \"coloraxis\": {\"colorbar\": {\"outlinewidth\": 0, \"ticks\": \"\"}}, \"colorscale\": {\"diverging\": [[0, \"#8e0152\"], [0.1, \"#c51b7d\"], [0.2, \"#de77ae\"], [0.3, \"#f1b6da\"], [0.4, \"#fde0ef\"], [0.5, \"#f7f7f7\"], [0.6, \"#e6f5d0\"], [0.7, \"#b8e186\"], [0.8, \"#7fbc41\"], [0.9, \"#4d9221\"], [1, \"#276419\"]], \"sequential\": [[0.0, \"#0d0887\"], [0.1111111111111111, \"#46039f\"], [0.2222222222222222, \"#7201a8\"], [0.3333333333333333, \"#9c179e\"], [0.4444444444444444, \"#bd3786\"], [0.5555555555555556, \"#d8576b\"], [0.6666666666666666, \"#ed7953\"], [0.7777777777777778, \"#fb9f3a\"], [0.8888888888888888, \"#fdca26\"], [1.0, \"#f0f921\"]], \"sequentialminus\": [[0.0, \"#0d0887\"], [0.1111111111111111, \"#46039f\"], [0.2222222222222222, \"#7201a8\"], [0.3333333333333333, \"#9c179e\"], [0.4444444444444444, \"#bd3786\"], [0.5555555555555556, \"#d8576b\"], [0.6666666666666666, \"#ed7953\"], [0.7777777777777778, \"#fb9f3a\"], [0.8888888888888888, \"#fdca26\"], [1.0, \"#f0f921\"]]}, \"colorway\": [\"#636efa\", \"#EF553B\", \"#00cc96\", \"#ab63fa\", \"#FFA15A\", \"#19d3f3\", \"#FF6692\", \"#B6E880\", \"#FF97FF\", \"#FECB52\"], \"font\": {\"color\": \"#2a3f5f\"}, \"geo\": {\"bgcolor\": \"white\", \"lakecolor\": \"white\", \"landcolor\": \"white\", \"showlakes\": true, \"showland\": true, \"subunitcolor\": \"#C8D4E3\"}, \"hoverlabel\": {\"align\": \"left\"}, \"hovermode\": \"closest\", \"mapbox\": {\"style\": \"light\"}, \"paper_bgcolor\": \"white\", \"plot_bgcolor\": \"white\", \"polar\": {\"angularaxis\": {\"gridcolor\": \"#EBF0F8\", \"linecolor\": \"#EBF0F8\", \"ticks\": \"\"}, \"bgcolor\": \"white\", \"radialaxis\": {\"gridcolor\": \"#EBF0F8\", \"linecolor\": \"#EBF0F8\", \"ticks\": \"\"}}, \"scene\": {\"xaxis\": {\"backgroundcolor\": \"white\", \"gridcolor\": \"#DFE8F3\", \"gridwidth\": 2, \"linecolor\": \"#EBF0F8\", \"showbackground\": true, \"ticks\": \"\", \"zerolinecolor\": \"#EBF0F8\"}, \"yaxis\": {\"backgroundcolor\": \"white\", \"gridcolor\": \"#DFE8F3\", \"gridwidth\": 2, \"linecolor\": \"#EBF0F8\", \"showbackground\": true, \"ticks\": \"\", \"zerolinecolor\": \"#EBF0F8\"}, \"zaxis\": {\"backgroundcolor\": \"white\", \"gridcolor\": \"#DFE8F3\", \"gridwidth\": 2, \"linecolor\": \"#EBF0F8\", \"showbackground\": true, \"ticks\": \"\", \"zerolinecolor\": \"#EBF0F8\"}}, \"shapedefaults\": {\"line\": {\"color\": \"#2a3f5f\"}}, \"ternary\": {\"aaxis\": {\"gridcolor\": \"#DFE8F3\", \"linecolor\": \"#A2B1C6\", \"ticks\": \"\"}, \"baxis\": {\"gridcolor\": \"#DFE8F3\", \"linecolor\": \"#A2B1C6\", \"ticks\": \"\"}, \"bgcolor\": \"white\", \"caxis\": {\"gridcolor\": \"#DFE8F3\", \"linecolor\": \"#A2B1C6\", \"ticks\": \"\"}}, \"title\": {\"x\": 0.05}, \"xaxis\": {\"automargin\": true, \"gridcolor\": \"#EBF0F8\", \"linecolor\": \"#EBF0F8\", \"ticks\": \"\", \"title\": {\"standoff\": 15}, \"zerolinecolor\": \"#EBF0F8\", \"zerolinewidth\": 2}, \"yaxis\": {\"automargin\": true, \"gridcolor\": \"#EBF0F8\", \"linecolor\": \"#EBF0F8\", \"ticks\": \"\", \"title\": {\"standoff\": 15}, \"zerolinecolor\": \"#EBF0F8\", \"zerolinewidth\": 2}}}, \"title\": {\"text\": \"text\"}, \"width\": 900},                        {\"responsive\": true}                    ).then(function(){\n",
       "                            \n",
       "var gd = document.getElementById('f8f2e0fb-cca2-496c-95a2-8232db15ba8b');\n",
       "var x = new MutationObserver(function (mutations, observer) {{\n",
       "        var display = window.getComputedStyle(gd).display;\n",
       "        if (!display || display === 'none') {{\n",
       "            console.log([gd, 'removed!']);\n",
       "            Plotly.purge(gd);\n",
       "            observer.disconnect();\n",
       "        }}\n",
       "}});\n",
       "\n",
       "// Listen for the removal of the full notebook cells\n",
       "var notebookContainer = gd.closest('#notebook-container');\n",
       "if (notebookContainer) {{\n",
       "    x.observe(notebookContainer, {childList: true});\n",
       "}}\n",
       "\n",
       "// Listen for the clearing of the current output cell\n",
       "var outputEl = gd.closest('.output');\n",
       "if (outputEl) {{\n",
       "    x.observe(outputEl, {childList: true});\n",
       "}}\n",
       "\n",
       "                        })                };                });            </script>        </div>"
      ]
     },
     "metadata": {},
     "output_type": "display_data"
    }
   ],
   "source": [
    "import plotly.graph_objects as go\n",
    "\n",
    "fig = go.Figure(go.Indicator(\n",
    "    mode = \"number+delta\",\n",
    "    value = data_world['acc_confirmed'].iloc[-1],\n",
    "    delta = {\"reference\": data_world['acc_confirmed'].iloc[-2], \n",
    "             \"valueformat\": \".0f\",\n",
    "            \"font\":{'size':15}},\n",
    "    number = {'font':{'size':15}},\n",
    "    \n",
    "    title = {\"text\": \"Total Cases\", \n",
    "            'font':{'size': 20}},\n",
    "    domain = {'y': [0.9, 1], 'x': [0.1, 0.15]}))\n",
    "\n",
    "fig.add_trace(go.Bar(\n",
    "    #mode = 'lines',\n",
    "    x = data_world.date.tail(30),\n",
    "    y = data_world.new_daily_cases.tail(30),\n",
    "    name = 'Daily confirmed cases',\n",
    "    marker_color = 'rgb(158,202,225)', \n",
    "    marker_line_color = 'rgb(8,48,107)',\n",
    "    opacity = 0.5\n",
    "))\n",
    "\n",
    "fig.add_trace(go.Scatter(\n",
    "    mode = 'lines',\n",
    "    x = data_world.date.tail(30),\n",
    "    y = data_world['Rolling Ave.'].tail(30),\n",
    "    name = 'Rolling Average on 7 days'\n",
    "))\n",
    "\n",
    "\n",
    "fig.update_layout(title = 'text',  \n",
    "                  height=400,\n",
    "                  width=900,\n",
    "                 legend = {'orientation':'h',\n",
    "                          'x':0.5, \n",
    "                          'y':-0.1,\n",
    "                          'xanchor':'center'},\n",
    "                 template = 'plotly_white')\n",
    "\n",
    "\n",
    "fig.show()\n"
   ]
  },
  {
   "cell_type": "code",
   "execution_count": 87,
   "id": "837a50d9",
   "metadata": {},
   "outputs": [],
   "source": [
    "#[i for i in data.date.unique()]"
   ]
  },
  {
   "cell_type": "code",
   "execution_count": 88,
   "id": "eef54d9d",
   "metadata": {},
   "outputs": [],
   "source": [
    "dfverif = pd.read_csv('df_monkeyPoxTimeSerie.csv')"
   ]
  },
  {
   "cell_type": "code",
   "execution_count": 89,
   "id": "7c5d4efe",
   "metadata": {},
   "outputs": [
    {
     "data": {
      "text/plain": [
       "6"
      ]
     },
     "execution_count": 89,
     "metadata": {},
     "output_type": "execute_result"
    }
   ],
   "source": [
    "data_px[data_px['Country']=='Argentina']['acc_confirmed'].iloc[-1]"
   ]
  },
  {
   "cell_type": "code",
   "execution_count": 90,
   "id": "f4a1e7d3",
   "metadata": {},
   "outputs": [
    {
     "data": {
      "application/vnd.jupyter.widget-view+json": {
       "model_id": "a982163e2ccd47848093866c2a5ce4e8"
      },
      "text/plain": [
       "      Country        date  new_daily_cases  acc_confirmed   latitude  \\\n",
       "224   Belgium  2022-06-28               40            117  50.503887   \n",
       "225   Belgium  2022-06-29                0            117  50.503887   \n",
       "226   Belgium  2022-06-30                0            117  50.503887   \n",
       "227   Belgium  2022-07-01                0            117  50.503887   \n",
       "431    Canada  2022-06-07               20            101  56.130366   \n",
       "...       ...         ...              ...            ...        ...   \n",
       "2902  England  2022-06-27                0           1035  55.378051   \n",
       "2903  England  2022-06-28                0           1035  55.378051   \n",
       "2904  England  2022-06-29                0           1035  55.378051   \n",
       "2905  England  2022-06-30              150           1185  55.378051   \n",
       "2906  England  2022-07-01                0           1185  55.378051   \n",
       "\n",
       "       longitude     Continents Country_ISO3  \n",
       "224     4.469936         Europe          BEL  \n",
       "225     4.469936         Europe          BEL  \n",
       "226     4.469936         Europe          BEL  \n",
       "227     4.469936         Europe          BEL  \n",
       "431  -106.346771  North America          CAN  \n",
       "...          ...            ...          ...  \n",
       "2902   -3.435973         Europe          GBR  \n",
       "2903   -3.435973         Europe          GBR  \n",
       "2904   -3.435973         Europe          GBR  \n",
       "2905   -3.435973         Europe          GBR  \n",
       "2906   -3.435973         Europe          GBR  \n",
       "\n",
       "[207 rows x 8 columns]"
      ]
     },
     "metadata": {},
     "output_type": "display_data"
    }
   ],
   "source": [
    "data_px_fil = data_px.loc[data_px['acc_confirmed'] > 100]\n",
    "data_px_fil = data_px_fil.loc[~(data_px_fil['Country'].isin(['World']))]\n",
    "data_px_fil"
   ]
  },
  {
   "cell_type": "code",
   "execution_count": 91,
   "id": "a1e6df78",
   "metadata": {},
   "outputs": [
    {
     "data": {
      "text/plain": [
       "array(['Spain', 'England', 'Germany', 'France', 'Portugal',\n",
       "       'United States', 'Canada', 'Netherlands', 'Italy', 'Belgium'],\n",
       "      dtype=object)"
      ]
     },
     "execution_count": 91,
     "metadata": {},
     "output_type": "execute_result"
    }
   ],
   "source": [
    "#top ten country\n",
    "\n",
    "data_px = data_px.loc[~(data_px['Country'].isin(['World']))]\n",
    "data_px_sort = data_px.sort_values(by=['acc_confirmed'], ascending=[False])\n",
    "country = data_px_sort.Country.unique()[:10]\n",
    "country"
   ]
  },
  {
   "cell_type": "code",
   "execution_count": 92,
   "id": "3eb38b48",
   "metadata": {},
   "outputs": [
    {
     "data": {
      "application/vnd.jupyter.widget-view+json": {
       "model_id": "c368abf100774d16acdc493ba6586d47"
      },
      "text/plain": [
       "     Country        date  new_daily_cases  acc_confirmed  latitude  longitude  \\\n",
       "3078   World  2022-05-06                1              1       0.0        0.0   \n",
       "3079   World  2022-05-07                0              1       0.0        0.0   \n",
       "3080   World  2022-05-08                0              1       0.0        0.0   \n",
       "3081   World  2022-05-09                0              1       0.0        0.0   \n",
       "3082   World  2022-05-10                0              1       0.0        0.0   \n",
       "3083   World  2022-05-11                0              1       0.0        0.0   \n",
       "3084   World  2022-05-12                1              2       0.0        0.0   \n",
       "3085   World  2022-05-13                1              3       0.0        0.0   \n",
       "3086   World  2022-05-14                0              3       0.0        0.0   \n",
       "3087   World  2022-05-15                4              7       0.0        0.0   \n",
       "3088   World  2022-05-16                0              7       0.0        0.0   \n",
       "3089   World  2022-05-17                3             10       0.0        0.0   \n",
       "3090   World  2022-05-18               21             31       0.0        0.0   \n",
       "3091   World  2022-05-19               16             47       0.0        0.0   \n",
       "3092   World  2022-05-20               46             93       0.0        0.0   \n",
       "3093   World  2022-05-21               16            109       0.0        0.0   \n",
       "3094   World  2022-05-22                0            109       0.0        0.0   \n",
       "3095   World  2022-05-23               73            182       0.0        0.0   \n",
       "3096   World  2022-05-24               34            216       0.0        0.0   \n",
       "3097   World  2022-05-25               44            260       0.0        0.0   \n",
       "3098   World  2022-05-26               88            348       0.0        0.0   \n",
       "3099   World  2022-05-27               51            399       0.0        0.0   \n",
       "3100   World  2022-05-28               16            415       0.0        0.0   \n",
       "3101   World  2022-05-29               15            430       0.0        0.0   \n",
       "3102   World  2022-05-30              123            553       0.0        0.0   \n",
       "3103   World  2022-05-31               66            619       0.0        0.0   \n",
       "3104   World  2022-06-01               83            702       0.0        0.0   \n",
       "3105   World  2022-06-02              125            827       0.0        0.0   \n",
       "3106   World  2022-06-03               94            921       0.0        0.0   \n",
       "3107   World  2022-06-04                7            928       0.0        0.0   \n",
       "3108   World  2022-06-05                0            928       0.0        0.0   \n",
       "3109   World  2022-06-06              114           1042       0.0        0.0   \n",
       "3110   World  2022-06-07              150           1192       0.0        0.0   \n",
       "3111   World  2022-06-08               97           1289       0.0        0.0   \n",
       "3112   World  2022-06-09              146           1435       0.0        0.0   \n",
       "3113   World  2022-06-10               42           1477       0.0        0.0   \n",
       "3114   World  2022-06-11                9           1486       0.0        0.0   \n",
       "3115   World  2022-06-12              107           1593       0.0        0.0   \n",
       "3116   World  2022-06-13               58           1651       0.0        0.0   \n",
       "3117   World  2022-06-14              243           1894       0.0        0.0   \n",
       "3118   World  2022-06-15              146           2040       0.0        0.0   \n",
       "3119   World  2022-06-16              371           2411       0.0        0.0   \n",
       "3120   World  2022-06-17              196           2607       0.0        0.0   \n",
       "3121   World  2022-06-18                1           2608       0.0        0.0   \n",
       "3122   World  2022-06-19                1           2609       0.0        0.0   \n",
       "3123   World  2022-06-20              290           2899       0.0        0.0   \n",
       "3124   World  2022-06-21              273           3172       0.0        0.0   \n",
       "3125   World  2022-06-22              167           3339       0.0        0.0   \n",
       "3126   World  2022-06-23              436           3775       0.0        0.0   \n",
       "3127   World  2022-06-24              329           4104       0.0        0.0   \n",
       "3128   World  2022-06-25                3           4107       0.0        0.0   \n",
       "3129   World  2022-06-26              168           4275       0.0        0.0   \n",
       "3130   World  2022-06-27              367           4642       0.0        0.0   \n",
       "3131   World  2022-06-28              365           5007       0.0        0.0   \n",
       "3132   World  2022-06-29              147           5154       0.0        0.0   \n",
       "3133   World  2022-06-30              816           5970       0.0        0.0   \n",
       "3134   World  2022-07-01              135           6105       0.0        0.0   \n",
       "\n",
       "     Continents Country_ISO3  \n",
       "3078      World          WWW  \n",
       "3079      World          WWW  \n",
       "3080      World          WWW  \n",
       "3081      World          WWW  \n",
       "3082      World          WWW  \n",
       "3083      World          WWW  \n",
       "3084      World          WWW  \n",
       "3085      World          WWW  \n",
       "3086      World          WWW  \n",
       "3087      World          WWW  \n",
       "3088      World          WWW  \n",
       "3089      World          WWW  \n",
       "3090      World          WWW  \n",
       "3091      World          WWW  \n",
       "3092      World          WWW  \n",
       "3093      World          WWW  \n",
       "3094      World          WWW  \n",
       "3095      World          WWW  \n",
       "3096      World          WWW  \n",
       "3097      World          WWW  \n",
       "3098      World          WWW  \n",
       "3099      World          WWW  \n",
       "3100      World          WWW  \n",
       "3101      World          WWW  \n",
       "3102      World          WWW  \n",
       "3103      World          WWW  \n",
       "3104      World          WWW  \n",
       "3105      World          WWW  \n",
       "3106      World          WWW  \n",
       "3107      World          WWW  \n",
       "3108      World          WWW  \n",
       "3109      World          WWW  \n",
       "3110      World          WWW  \n",
       "3111      World          WWW  \n",
       "3112      World          WWW  \n",
       "3113      World          WWW  \n",
       "3114      World          WWW  \n",
       "3115      World          WWW  \n",
       "3116      World          WWW  \n",
       "3117      World          WWW  \n",
       "3118      World          WWW  \n",
       "3119      World          WWW  \n",
       "3120      World          WWW  \n",
       "3121      World          WWW  \n",
       "3122      World          WWW  \n",
       "3123      World          WWW  \n",
       "3124      World          WWW  \n",
       "3125      World          WWW  \n",
       "3126      World          WWW  \n",
       "3127      World          WWW  \n",
       "3128      World          WWW  \n",
       "3129      World          WWW  \n",
       "3130      World          WWW  \n",
       "3131      World          WWW  \n",
       "3132      World          WWW  \n",
       "3133      World          WWW  \n",
       "3134      World          WWW  "
      ]
     },
     "metadata": {},
     "output_type": "display_data"
    }
   ],
   "source": [
    "dfverif_date = dfverif.loc[dfverif['Country'].isin(['World'])]\n",
    "dfverif_date"
   ]
  },
  {
   "cell_type": "code",
   "execution_count": 93,
   "id": "03f7bc2e",
   "metadata": {},
   "outputs": [
    {
     "data": {
      "application/vnd.jupyter.widget-view+json": {
       "model_id": "c6bad452d45b42c1b8de98dcd803e7f7"
      },
      "text/plain": [
       "             Entity Countries Continents\n",
       "0           England               Europe\n",
       "1          Scotland               Europe\n",
       "2             Wales               Europe\n",
       "3  Northern Ireland               Europe"
      ]
     },
     "metadata": {},
     "output_type": "display_data"
    }
   ],
   "source": [
    "data = {'Entity':['England', 'Scotland', 'Wales', 'Northern Ireland'],\n",
    "            'Countries Continents':['Europe','Europe', 'Europe', 'Europe']}\n",
    "\n",
    "data_temp = pd.DataFrame(data)\n",
    "\n",
    "data_temp"
   ]
  },
  {
   "cell_type": "code",
   "execution_count": 94,
   "id": "08eee4fc",
   "metadata": {
    "scrolled": true
   },
   "outputs": [],
   "source": [
    "add_continents = pd.read_csv('updates_countries_continent.csv')\n",
    "add_continents = pd.concat([add_continents, data_temp], axis=0, ignore_index=True)\n",
    "add_continents.to_csv('updates_countries_continent2.csv', index_label=False)"
   ]
  },
  {
   "cell_type": "code",
   "execution_count": 95,
   "id": "723c941e",
   "metadata": {},
   "outputs": [],
   "source": [
    "continent =  pd.read_csv('updates_countries_continent2.csv')\n",
    "continent = continent.drop(columns=['Unnamed: 0', 'Year'])\n",
    "continent.to_csv('last_countries_continent.csv', index_label = False)"
   ]
  },
  {
   "cell_type": "code",
   "execution_count": 96,
   "id": "7a2ccc68",
   "metadata": {},
   "outputs": [
    {
     "data": {
      "text/plain": [
       "57"
      ]
     },
     "execution_count": 96,
     "metadata": {},
     "output_type": "execute_result"
    }
   ],
   "source": [
    "len(dfverif_date['date'].unique())"
   ]
  },
  {
   "cell_type": "code",
   "execution_count": 97,
   "id": "7a273eb5",
   "metadata": {},
   "outputs": [
    {
     "name": "stdout",
     "output_type": "stream",
     "text": [
      "82\n"
     ]
    },
    {
     "data": {
      "text/plain": [
       "array(['England', 'Portugal', 'Spain', 'United States', 'Canada',\n",
       "       'Sweden', 'Italy', 'France', 'Belgium', 'Australia', 'Germany',\n",
       "       'Netherlands', 'Israel', 'Switzerland', 'Greece', 'Austria',\n",
       "       'Argentina', 'Denmark', 'Morocco', 'Slovenia', 'Scotland',\n",
       "       'Czech Republic', 'United Arab Emirates', 'Finland', 'Wales',\n",
       "       'Northern Ireland', 'Sudan', 'Bolivia', 'Iran', 'Ecuador', 'Malta',\n",
       "       'Ireland', 'Mexico', 'Pakistan', 'French Guiana', 'Thailand',\n",
       "       'Peru', 'Brazil', 'Malaysia', 'Hungary', 'Norway', 'Paraguay',\n",
       "       'Costa Rica', 'Gibraltar', 'Mauritius', 'Haiti', 'Uruguay',\n",
       "       'Latvia', 'Cayman Islands', 'Kosovo', 'Turkey', 'Bahamas', 'Ghana',\n",
       "       'India', 'Iceland', 'Poland', 'Bangladesh', 'Uganda', 'Cambodia',\n",
       "       'Malawi', 'Venezuela', 'Romania', 'Georgia', 'Slovakia',\n",
       "       'Luxembourg', 'Nepal', 'Chile', 'Serbia', 'Lebanon', 'South Korea',\n",
       "       'Singapore', 'South Africa', 'Taiwan', 'Colombia', 'Croatia',\n",
       "       'Bulgaria', 'Somalia', 'Zambia', 'Fiji', 'Benin', 'Estonia',\n",
       "       'Puerto Rico'], dtype=object)"
      ]
     },
     "execution_count": 97,
     "metadata": {},
     "output_type": "execute_result"
    }
   ],
   "source": [
    "df_raw = pd.read_csv('https://raw.githubusercontent.com/globaldothealth/monkeypox/main/latest.csv')\n",
    "print(len(df_raw.Country.unique()))\n",
    "df_raw.Country.unique()"
   ]
  },
  {
   "cell_type": "code",
   "execution_count": 98,
   "id": "0266b7f5",
   "metadata": {},
   "outputs": [
    {
     "data": {
      "application/vnd.jupyter.widget-view+json": {
       "model_id": "aaba6ba75b21418884967503081a20c0"
      },
      "text/plain": [
       "                   Country Continents\n",
       "0                 Abkhazia       Asia\n",
       "1              Afghanistan       Asia\n",
       "2    Akrotiri and Dhekelia       Asia\n",
       "3                  Albania     Europe\n",
       "4                  Algeria     Africa\n",
       "..                     ...        ...\n",
       "280             Yugoslavia     Europe\n",
       "281                 Zambia     Africa\n",
       "282               Zanzibar     Africa\n",
       "283               Zimbabwe     Africa\n",
       "284          Åland Islands     Europe\n",
       "\n",
       "[296 rows x 2 columns]"
      ]
     },
     "metadata": {},
     "output_type": "display_data"
    }
   ],
   "source": [
    "df_continent = pd.read_csv('last_countries_continent.csv')\n",
    "df_continent = df_continent.sort_values(by=['Entity'], ascending=[True])\n",
    "df_continent = df_continent.drop_duplicates(subset=['Entity'], keep='first')\n",
    "df_continent = df_continent.rename(columns={'Entity': 'Country'})\n",
    "df_continent = df_continent.rename(columns={'Countries Continents': 'Continents'})\n",
    "df_continent"
   ]
  },
  {
   "cell_type": "code",
   "execution_count": 99,
   "id": "af6479e6",
   "metadata": {},
   "outputs": [
    {
     "data": {
      "application/vnd.jupyter.widget-view+json": {
       "model_id": "c945c8d5037f436cadc84a1945573fd9"
      },
      "text/plain": [
       "            Country     Continents Country_ISO3\n",
       "0           England         Europe          GBR\n",
       "1185       Portugal         Europe          PRT\n",
       "1587          Spain         Europe          ESP\n",
       "2969  United States  North America          USA\n",
       "3428         Canada  North America          CAN\n",
       "...             ...            ...          ...\n",
       "6556         Zambia         Africa          ZMB\n",
       "6557           Fiji        Oceania          FJI\n",
       "6558          Benin         Africa          BEN\n",
       "6561        Estonia         Europe          EST\n",
       "6562    Puerto Rico  North America          PRI\n",
       "\n",
       "[81 rows x 3 columns]"
      ]
     },
     "metadata": {},
     "output_type": "display_data"
    }
   ],
   "source": [
    "df_raw = pd.merge(df_raw, df_continent[['Country', 'Continents']], how='inner', on=['Country'])\n",
    "geo_data = df_raw[['Country', 'Continents', 'Country_ISO3']]\n",
    "geo_data = geo_data.drop_duplicates(subset=['Country'], keep='first')\n",
    "geo_data"
   ]
  },
  {
   "cell_type": "code",
   "execution_count": 100,
   "id": "37b04c71",
   "metadata": {},
   "outputs": [],
   "source": [
    "geo_data.to_csv('code_contries.csv', index_label=False)"
   ]
  },
  {
   "cell_type": "code",
   "execution_count": null,
   "id": "919b7bcd",
   "metadata": {},
   "outputs": [],
   "source": []
  },
  {
   "cell_type": "code",
   "execution_count": 101,
   "id": "e27cd5d2",
   "metadata": {},
   "outputs": [],
   "source": [
    "df_oms = pd.read_csv('data.csv')"
   ]
  },
  {
   "cell_type": "code",
   "execution_count": 102,
   "id": "3e62440c",
   "metadata": {},
   "outputs": [
    {
     "data": {
      "application/vnd.jupyter.widget-view+json": {
       "model_id": "a9227075f5cc4a03ab213815950aceba"
      },
      "text/plain": [
       "         DateRep CountryExp CountryCode Source  ConfCases  ConfCases_cum\n",
       "0     2022-04-26    Austria          AT     EI          0              0\n",
       "828   2022-06-05    Austria          AT     EI          0              0\n",
       "690   2022-05-30    Austria          AT     EI          0              0\n",
       "529   2022-05-23    Austria          AT     EI          1              1\n",
       "1012  2022-06-13    Austria          AT     EI          2              3\n",
       "...          ...        ...         ...    ...        ...            ...\n",
       "206   2022-05-08     Sweden          SE  TESSy          0             12\n",
       "137   2022-05-05     Sweden          SE  TESSy          0             12\n",
       "1080  2022-06-15     Sweden          SE  TESSy          1             13\n",
       "643   2022-05-27     Sweden          SE  TESSy          0             13\n",
       "1218  2022-06-22     Sweden          SE  TESSy          0             13\n",
       "\n",
       "[1219 rows x 6 columns]"
      ]
     },
     "metadata": {},
     "output_type": "display_data"
    }
   ],
   "source": [
    "df_oms = df_oms.sort_values(by=['CountryExp'], ascending=[True])\n",
    "df_oms['ConfCases_cum'] = df_oms.groupby(['CountryExp'])['ConfCases'].cumsum()\n",
    "df_oms"
   ]
  },
  {
   "cell_type": "code",
   "execution_count": 103,
   "id": "1b838885",
   "metadata": {},
   "outputs": [
    {
     "data": {
      "application/vnd.jupyter.widget-view+json": {
       "model_id": "6259f58bafc94582921ce9fa4c36daf3"
      },
      "text/plain": [
       "        Country        date  new_daily_cases  acc_confirmed   latitude  \\\n",
       "0     Argentina  2022-05-06                0              0 -38.416097   \n",
       "1     Argentina  2022-05-07                0              0 -38.416097   \n",
       "2     Argentina  2022-05-08                0              0 -38.416097   \n",
       "3     Argentina  2022-05-09                0              0 -38.416097   \n",
       "4     Argentina  2022-05-10                0              0 -38.416097   \n",
       "...         ...         ...              ...            ...        ...   \n",
       "3073      Wales  2022-06-27                0              9  55.378051   \n",
       "3074      Wales  2022-06-28                0              9  55.378051   \n",
       "3075      Wales  2022-06-29                0              9  55.378051   \n",
       "3076      Wales  2022-06-30                1             10  55.378051   \n",
       "3077      Wales  2022-07-01                0             10  55.378051   \n",
       "\n",
       "      longitude     Continents Country_ISO3  \n",
       "0    -63.616672  South America          ARG  \n",
       "1    -63.616672  South America          ARG  \n",
       "2    -63.616672  South America          ARG  \n",
       "3    -63.616672  South America          ARG  \n",
       "4    -63.616672  South America          ARG  \n",
       "...         ...            ...          ...  \n",
       "3073  -3.435973         Europe          GBR  \n",
       "3074  -3.435973         Europe          GBR  \n",
       "3075  -3.435973         Europe          GBR  \n",
       "3076  -3.435973         Europe          GBR  \n",
       "3077  -3.435973         Europe          GBR  \n",
       "\n",
       "[3078 rows x 8 columns]"
      ]
     },
     "metadata": {},
     "output_type": "display_data"
    }
   ],
   "source": [
    "data_px"
   ]
  },
  {
   "cell_type": "code",
   "execution_count": 104,
   "id": "38248f5f",
   "metadata": {},
   "outputs": [],
   "source": [
    "#Map"
   ]
  },
  {
   "cell_type": "code",
   "execution_count": 105,
   "id": "9c7b17c7",
   "metadata": {
    "scrolled": true
   },
   "outputs": [],
   "source": [
    "# limits = [(0,2),(3,10),(11,20),(21,50),(50,3000)]\n",
    "# colors = [\"royalblue\",\"crimson\",\"lightseagreen\",\"orange\",\"lightgrey\"]\n",
    "# scale = 5000\n",
    "\n",
    "\n",
    "\n",
    "\n",
    "# fig = go.Figure(\n",
    "#     data = go.Scattergeo(\n",
    "#         lat = data_px['latitude'], \n",
    "#         lon = data_px['longitude'],\n",
    "#         text = data_px[['acc_confirmed', 'Country']], \n",
    "#         mode = 'markers',\n",
    "#         marker = dict(size=data_px['acc_confirmed'],\n",
    "#                      opacity = 0.2,  \n",
    "#                      reversescale = True, \n",
    "#                      autocolorscale = True,\n",
    "#                      symbol= 'circle-open-dot',\n",
    "#                     sizemode = 'area',\n",
    "                     \n",
    "#                      line = dict(\n",
    "                      \n",
    "#                      color = 'rgb(103, 103, 103)'))\n",
    "#     )\n",
    "# )\n",
    "\n",
    "# fig.update_layout(height=600, margin={\"r\":0,\"t\":0,\"l\":0,\"b\":0},\n",
    "#                  geo = dict(landcolor = 'rgb(217, 217, 217)'))\n",
    "# fig.update_geos(visible = False, resolution = 50, \n",
    "#                showcountries=True, countrycolor=\"white\",\n",
    "#                showland = True, showocean = True, oceancolor = 'grey')\n",
    "\n",
    "# fig.show()\n",
    "\n"
   ]
  },
  {
   "cell_type": "code",
   "execution_count": null,
   "id": "895708b2",
   "metadata": {},
   "outputs": [],
   "source": []
  },
  {
   "cell_type": "code",
   "execution_count": null,
   "id": "513f21c0",
   "metadata": {},
   "outputs": [],
   "source": []
  },
  {
   "cell_type": "code",
   "execution_count": 106,
   "id": "c6845edc",
   "metadata": {},
   "outputs": [],
   "source": [
    "# limits = [(0,50),(51,250),(251,500),(501,800),(800,1200)]\n",
    "# colors = [\"royalblue\",\"crimson\",\"lightseagreen\",\"orange\",\"lightgrey\"]\n",
    "# scale = 5000\n",
    "\n",
    "\n",
    "# fig = go.Figure()\n",
    "\n",
    "# for i in range(len(limits)):\n",
    "#     lim = limits[i]\n",
    "#     df_sub = data_px[lim[0]:lim[1]]\n",
    "#     fig.add_trace(go.Scattergeo(\n",
    "#         lon = df_sub['longitude'],\n",
    "#         lat = df_sub['latitude'],\n",
    "\n",
    "#         marker = dict(\n",
    "#             size = df_sub['acc_confirmed'],\n",
    "#             color = colors[i],\n",
    "#             line_color='rgb(40,40,40)',\n",
    "#             line_width=0.5,\n",
    "#             sizemode = 'area'\n",
    "#         ),\n",
    "#         name = '{0} - {1}'.format(lim[0],lim[1])))\n",
    "\n",
    "# fig.update_layout(\n",
    "#         title_text = 'text',\n",
    "#         showlegend = True,\n",
    "#         geo = dict(\n",
    "#             scope = 'world',\n",
    "#             landcolor = 'rgb(217, 217, 217)',\n",
    "#         )\n",
    "#     )\n",
    "\n",
    "# fig.show()"
   ]
  },
  {
   "cell_type": "code",
   "execution_count": null,
   "id": "f3e333e1",
   "metadata": {},
   "outputs": [],
   "source": []
  },
  {
   "cell_type": "code",
   "execution_count": 107,
   "id": "97bae0d0",
   "metadata": {},
   "outputs": [],
   "source": [
    "from datetime import date\n",
    "\n"
   ]
  },
  {
   "cell_type": "code",
   "execution_count": 108,
   "id": "b5787a36",
   "metadata": {},
   "outputs": [],
   "source": [
    "datapx_max = data_px.groupby(['Country', 'latitude', 'longitude'])['acc_confirmed'].max().reset_index()"
   ]
  },
  {
   "cell_type": "code",
   "execution_count": 109,
   "id": "5f5f6fe9",
   "metadata": {},
   "outputs": [
    {
     "data": {
      "application/vnd.plotly.v1+json": {
       "config": {
        "plotlyServerURL": "https://plotly.com"
       },
       "data": [
        {
         "customdata": [
          [
           6,
           "Argentina"
          ],
          [
           12,
           "Australia"
          ],
          [
           37,
           "Austria"
          ],
          [
           117,
           "Belgium"
          ],
          [
           3,
           "Benin"
          ],
          [
           37,
           "Brazil"
          ],
          [
           3,
           "Bulgaria"
          ],
          [
           287,
           "Canada"
          ],
          [
           6,
           "Chile"
          ],
          [
           3,
           "Colombia"
          ],
          [
           1,
           "Croatia"
          ],
          [
           18,
           "Denmark"
          ],
          [
           1185,
           "England"
          ],
          [
           4,
           "Finland"
          ],
          [
           498,
           "France"
          ],
          [
           1,
           "Georgia"
          ],
          [
           1054,
           "Germany"
          ],
          [
           18,
           "Ghana"
          ],
          [
           1,
           "Gibraltar"
          ],
          [
           3,
           "Greece"
          ],
          [
           19,
           "Hungary"
          ],
          [
           4,
           "Iceland"
          ],
          [
           39,
           "Ireland"
          ],
          [
           42,
           "Israel"
          ],
          [
           192,
           "Italy"
          ],
          [
           2,
           "Latvia"
          ],
          [
           1,
           "Lebanon"
          ],
          [
           3,
           "Luxembourg"
          ],
          [
           4,
           "Malta"
          ],
          [
           11,
           "Mexico"
          ],
          [
           1,
           "Morocco"
          ],
          [
           257,
           "Netherlands"
          ],
          [
           6,
           "Northern Ireland"
          ],
          [
           17,
           "Norway"
          ],
          [
           3,
           "Peru"
          ],
          [
           12,
           "Poland"
          ],
          [
           402,
           "Portugal"
          ],
          [
           1,
           "Puerto Rico"
          ],
          [
           11,
           "Romania"
          ],
          [
           34,
           "Scotland"
          ],
          [
           1,
           "Serbia"
          ],
          [
           1,
           "Singapore"
          ],
          [
           9,
           "Slovenia"
          ],
          [
           2,
           "South Africa"
          ],
          [
           1,
           "South Korea"
          ],
          [
           1196,
           "Spain"
          ],
          [
           28,
           "Sweden"
          ],
          [
           83,
           "Switzerland"
          ],
          [
           1,
           "Taiwan"
          ],
          [
           1,
           "Turkey"
          ],
          [
           13,
           "United Arab Emirates"
          ],
          [
           395,
           "United States"
          ],
          [
           1,
           "Venezuela"
          ],
          [
           10,
           "Wales"
          ]
         ],
         "hoverinfo": "name",
         "hovertemplate": "Cas: %{customdata[0]}<br>Country: %{customdata[1]}",
         "hovertext": [
          "<b>Pays</b>: Argentina<br>",
          "<b>Pays</b>: Australia<br>",
          "<b>Pays</b>: Austria<br>",
          "<b>Pays</b>: Belgium<br>",
          "<b>Pays</b>: Benin<br>",
          "<b>Pays</b>: Brazil<br>",
          "<b>Pays</b>: Bulgaria<br>",
          "<b>Pays</b>: Canada<br>",
          "<b>Pays</b>: Chile<br>",
          "<b>Pays</b>: Colombia<br>",
          "<b>Pays</b>: Croatia<br>",
          "<b>Pays</b>: Denmark<br>",
          "<b>Pays</b>: England<br>",
          "<b>Pays</b>: Finland<br>",
          "<b>Pays</b>: France<br>",
          "<b>Pays</b>: Georgia<br>",
          "<b>Pays</b>: Germany<br>",
          "<b>Pays</b>: Ghana<br>",
          "<b>Pays</b>: Gibraltar<br>",
          "<b>Pays</b>: Greece<br>",
          "<b>Pays</b>: Hungary<br>",
          "<b>Pays</b>: Iceland<br>",
          "<b>Pays</b>: Ireland<br>",
          "<b>Pays</b>: Israel<br>",
          "<b>Pays</b>: Italy<br>",
          "<b>Pays</b>: Latvia<br>",
          "<b>Pays</b>: Lebanon<br>",
          "<b>Pays</b>: Luxembourg<br>",
          "<b>Pays</b>: Malta<br>",
          "<b>Pays</b>: Mexico<br>",
          "<b>Pays</b>: Morocco<br>",
          "<b>Pays</b>: Netherlands<br>",
          "<b>Pays</b>: Northern Ireland<br>",
          "<b>Pays</b>: Norway<br>",
          "<b>Pays</b>: Peru<br>",
          "<b>Pays</b>: Poland<br>",
          "<b>Pays</b>: Portugal<br>",
          "<b>Pays</b>: Puerto Rico<br>",
          "<b>Pays</b>: Romania<br>",
          "<b>Pays</b>: Scotland<br>",
          "<b>Pays</b>: Serbia<br>",
          "<b>Pays</b>: Singapore<br>",
          "<b>Pays</b>: Slovenia<br>",
          "<b>Pays</b>: South Africa<br>",
          "<b>Pays</b>: South Korea<br>",
          "<b>Pays</b>: Spain<br>",
          "<b>Pays</b>: Sweden<br>",
          "<b>Pays</b>: Switzerland<br>",
          "<b>Pays</b>: Taiwan<br>",
          "<b>Pays</b>: Turkey<br>",
          "<b>Pays</b>: United Arab Emirates<br>",
          "<b>Pays</b>: United States<br>",
          "<b>Pays</b>: Venezuela<br>",
          "<b>Pays</b>: Wales<br>"
         ],
         "ids": [
          6,
          12,
          37,
          117,
          3,
          37,
          3,
          287,
          6,
          3,
          1,
          18,
          1185,
          4,
          498,
          1,
          1054,
          18,
          1,
          3,
          19,
          4,
          39,
          42,
          192,
          2,
          1,
          3,
          4,
          11,
          1,
          257,
          6,
          17,
          3,
          12,
          402,
          1,
          11,
          34,
          1,
          1,
          9,
          2,
          1,
          1196,
          28,
          83,
          1,
          1,
          13,
          395,
          1,
          10
         ],
         "lat": [
          -38.416097,
          -25.274398,
          47.516231,
          50.503887,
          9.30769,
          -14.235004,
          42.733883,
          56.130366,
          -35.675147,
          4.570868,
          45.1,
          56.26392,
          55.378051,
          61.92411,
          46.227638,
          42.315407,
          51.165691,
          7.946527,
          36.137741,
          39.074208,
          47.162494,
          64.963051,
          53.41291,
          31.046051,
          41.87194,
          56.879635,
          33.854721,
          49.815273,
          35.937496,
          23.634501,
          31.791702,
          52.132633,
          55.378051,
          60.472024,
          -9.189967,
          51.919438,
          39.399872,
          18.220833,
          45.943161,
          55.378051,
          44.016521,
          1.352083,
          46.151241,
          -30.559482,
          35.907757,
          40.463667,
          60.128161,
          46.818188,
          23.69781,
          38.963745,
          23.424076,
          37.09024,
          6.42375,
          55.378051
         ],
         "legendgroup": "",
         "lon": [
          -63.616672,
          133.775136,
          14.550072,
          4.469936,
          2.315834,
          -51.92528,
          25.48583,
          -106.346771,
          -71.542969,
          -74.297333,
          15.2,
          9.501785,
          -3.435973,
          25.748151,
          2.213749,
          43.356892,
          10.451526,
          -1.023194,
          -5.345374,
          21.824312,
          19.503304,
          -19.020835,
          -8.24389,
          34.851612,
          12.56738,
          24.603189,
          35.862285,
          6.129583,
          14.375416,
          -102.552784,
          -7.09262,
          5.291266,
          -3.435973,
          8.468946,
          -75.015152,
          19.145136,
          -8.224454,
          -66.590149,
          24.96676,
          -3.435973,
          21.005859,
          103.819836,
          14.995463,
          22.937506,
          127.766922,
          -3.74922,
          18.643501,
          8.227512,
          120.960515,
          35.243322,
          53.847818,
          -95.712891,
          -66.58973,
          -3.435973
         ],
         "marker": {
          "color": [
           6,
           12,
           37,
           117,
           3,
           37,
           3,
           287,
           6,
           3,
           1,
           18,
           1185,
           4,
           498,
           1,
           1054,
           18,
           1,
           3,
           19,
           4,
           39,
           42,
           192,
           2,
           1,
           3,
           4,
           11,
           1,
           257,
           6,
           17,
           3,
           12,
           402,
           1,
           11,
           34,
           1,
           1,
           9,
           2,
           1,
           1196,
           28,
           83,
           1,
           1,
           13,
           395,
           1,
           10
          ],
          "coloraxis": "coloraxis",
          "size": [
           6,
           12,
           37,
           117,
           3,
           37,
           3,
           287,
           6,
           3,
           1,
           18,
           1185,
           4,
           498,
           1,
           1054,
           18,
           1,
           3,
           19,
           4,
           39,
           42,
           192,
           2,
           1,
           3,
           4,
           11,
           1,
           257,
           6,
           17,
           3,
           12,
           402,
           1,
           11,
           34,
           1,
           1,
           9,
           2,
           1,
           1196,
           28,
           83,
           1,
           1,
           13,
           395,
           1,
           10
          ],
          "sizemode": "area",
          "sizeref": 0.7475,
          "symbol": "circle"
         },
         "mode": "markers",
         "name": "<b>Report</b>",
         "opacity": 0.8,
         "showlegend": false,
         "subplot": "mapbox",
         "text": [
          "Argentina",
          "Australia",
          "Austria",
          "Belgium",
          "Benin",
          "Brazil",
          "Bulgaria",
          "Canada",
          "Chile",
          "Colombia",
          "Croatia",
          "Denmark",
          "England",
          "Finland",
          "France",
          "Georgia",
          "Germany",
          "Ghana",
          "Gibraltar",
          "Greece",
          "Hungary",
          "Iceland",
          "Ireland",
          "Israel",
          "Italy",
          "Latvia",
          "Lebanon",
          "Luxembourg",
          "Malta",
          "Mexico",
          "Morocco",
          "Netherlands",
          "Northern Ireland",
          "Norway",
          "Peru",
          "Poland",
          "Portugal",
          "Puerto Rico",
          "Romania",
          "Scotland",
          "Serbia",
          "Singapore",
          "Slovenia",
          "South Africa",
          "South Korea",
          "Spain",
          "Sweden",
          "Switzerland",
          "Taiwan",
          "Turkey",
          "United Arab Emirates",
          "United States",
          "Venezuela",
          "Wales"
         ],
         "type": "scattermapbox"
        }
       ],
       "layout": {
        "coloraxis": {
         "colorbar": {
          "title": {
           "text": "<b>Confirmed Cases</b>"
          }
         },
         "colorscale": [
          [
           0,
           "rgb(0,0,131)"
          ],
          [
           0.2,
           "rgb(0,60,170)"
          ],
          [
           0.4,
           "rgb(5,255,255)"
          ],
          [
           0.6,
           "rgb(255,255,0)"
          ],
          [
           0.8,
           "rgb(250,0,0)"
          ],
          [
           1,
           "rgb(128,0,0)"
          ]
         ]
        },
        "geo": {
         "landcolor": "rgb(217, 217, 217)"
        },
        "height": 400,
        "legend": {
         "itemsizing": "constant",
         "tracegroupgap": 0
        },
        "mapbox": {
         "accesstoken": "pk.eyJ1IjoiaGVyaWMiLCJhIjoiY2lwcHh2cHpwMDA1aWhybnBqbHQzOXQydCJ9.4CM5ZOcHIkaSnKnXywwJlA",
         "center": {
          "lat": 33.48102314814815,
          "lon": 3.7309841481481474
         },
         "domain": {
          "x": [
           0,
           1
          ],
          "y": [
           0,
           1
          ]
         },
         "zoom": 1
        },
        "margin": {
         "b": 0,
         "l": 0,
         "r": 0,
         "t": 0
        },
        "template": {
         "data": {
          "bar": [
           {
            "error_x": {
             "color": "#2a3f5f"
            },
            "error_y": {
             "color": "#2a3f5f"
            },
            "marker": {
             "line": {
              "color": "#E5ECF6",
              "width": 0.5
             }
            },
            "type": "bar"
           }
          ],
          "barpolar": [
           {
            "marker": {
             "line": {
              "color": "#E5ECF6",
              "width": 0.5
             }
            },
            "type": "barpolar"
           }
          ],
          "carpet": [
           {
            "aaxis": {
             "endlinecolor": "#2a3f5f",
             "gridcolor": "white",
             "linecolor": "white",
             "minorgridcolor": "white",
             "startlinecolor": "#2a3f5f"
            },
            "baxis": {
             "endlinecolor": "#2a3f5f",
             "gridcolor": "white",
             "linecolor": "white",
             "minorgridcolor": "white",
             "startlinecolor": "#2a3f5f"
            },
            "type": "carpet"
           }
          ],
          "choropleth": [
           {
            "colorbar": {
             "outlinewidth": 0,
             "ticks": ""
            },
            "type": "choropleth"
           }
          ],
          "contour": [
           {
            "colorbar": {
             "outlinewidth": 0,
             "ticks": ""
            },
            "colorscale": [
             [
              0,
              "#0d0887"
             ],
             [
              0.1111111111111111,
              "#46039f"
             ],
             [
              0.2222222222222222,
              "#7201a8"
             ],
             [
              0.3333333333333333,
              "#9c179e"
             ],
             [
              0.4444444444444444,
              "#bd3786"
             ],
             [
              0.5555555555555556,
              "#d8576b"
             ],
             [
              0.6666666666666666,
              "#ed7953"
             ],
             [
              0.7777777777777778,
              "#fb9f3a"
             ],
             [
              0.8888888888888888,
              "#fdca26"
             ],
             [
              1,
              "#f0f921"
             ]
            ],
            "type": "contour"
           }
          ],
          "contourcarpet": [
           {
            "colorbar": {
             "outlinewidth": 0,
             "ticks": ""
            },
            "type": "contourcarpet"
           }
          ],
          "heatmap": [
           {
            "colorbar": {
             "outlinewidth": 0,
             "ticks": ""
            },
            "colorscale": [
             [
              0,
              "#0d0887"
             ],
             [
              0.1111111111111111,
              "#46039f"
             ],
             [
              0.2222222222222222,
              "#7201a8"
             ],
             [
              0.3333333333333333,
              "#9c179e"
             ],
             [
              0.4444444444444444,
              "#bd3786"
             ],
             [
              0.5555555555555556,
              "#d8576b"
             ],
             [
              0.6666666666666666,
              "#ed7953"
             ],
             [
              0.7777777777777778,
              "#fb9f3a"
             ],
             [
              0.8888888888888888,
              "#fdca26"
             ],
             [
              1,
              "#f0f921"
             ]
            ],
            "type": "heatmap"
           }
          ],
          "heatmapgl": [
           {
            "colorbar": {
             "outlinewidth": 0,
             "ticks": ""
            },
            "colorscale": [
             [
              0,
              "#0d0887"
             ],
             [
              0.1111111111111111,
              "#46039f"
             ],
             [
              0.2222222222222222,
              "#7201a8"
             ],
             [
              0.3333333333333333,
              "#9c179e"
             ],
             [
              0.4444444444444444,
              "#bd3786"
             ],
             [
              0.5555555555555556,
              "#d8576b"
             ],
             [
              0.6666666666666666,
              "#ed7953"
             ],
             [
              0.7777777777777778,
              "#fb9f3a"
             ],
             [
              0.8888888888888888,
              "#fdca26"
             ],
             [
              1,
              "#f0f921"
             ]
            ],
            "type": "heatmapgl"
           }
          ],
          "histogram": [
           {
            "marker": {
             "colorbar": {
              "outlinewidth": 0,
              "ticks": ""
             }
            },
            "type": "histogram"
           }
          ],
          "histogram2d": [
           {
            "colorbar": {
             "outlinewidth": 0,
             "ticks": ""
            },
            "colorscale": [
             [
              0,
              "#0d0887"
             ],
             [
              0.1111111111111111,
              "#46039f"
             ],
             [
              0.2222222222222222,
              "#7201a8"
             ],
             [
              0.3333333333333333,
              "#9c179e"
             ],
             [
              0.4444444444444444,
              "#bd3786"
             ],
             [
              0.5555555555555556,
              "#d8576b"
             ],
             [
              0.6666666666666666,
              "#ed7953"
             ],
             [
              0.7777777777777778,
              "#fb9f3a"
             ],
             [
              0.8888888888888888,
              "#fdca26"
             ],
             [
              1,
              "#f0f921"
             ]
            ],
            "type": "histogram2d"
           }
          ],
          "histogram2dcontour": [
           {
            "colorbar": {
             "outlinewidth": 0,
             "ticks": ""
            },
            "colorscale": [
             [
              0,
              "#0d0887"
             ],
             [
              0.1111111111111111,
              "#46039f"
             ],
             [
              0.2222222222222222,
              "#7201a8"
             ],
             [
              0.3333333333333333,
              "#9c179e"
             ],
             [
              0.4444444444444444,
              "#bd3786"
             ],
             [
              0.5555555555555556,
              "#d8576b"
             ],
             [
              0.6666666666666666,
              "#ed7953"
             ],
             [
              0.7777777777777778,
              "#fb9f3a"
             ],
             [
              0.8888888888888888,
              "#fdca26"
             ],
             [
              1,
              "#f0f921"
             ]
            ],
            "type": "histogram2dcontour"
           }
          ],
          "mesh3d": [
           {
            "colorbar": {
             "outlinewidth": 0,
             "ticks": ""
            },
            "type": "mesh3d"
           }
          ],
          "parcoords": [
           {
            "line": {
             "colorbar": {
              "outlinewidth": 0,
              "ticks": ""
             }
            },
            "type": "parcoords"
           }
          ],
          "pie": [
           {
            "automargin": true,
            "type": "pie"
           }
          ],
          "scatter": [
           {
            "marker": {
             "colorbar": {
              "outlinewidth": 0,
              "ticks": ""
             }
            },
            "type": "scatter"
           }
          ],
          "scatter3d": [
           {
            "line": {
             "colorbar": {
              "outlinewidth": 0,
              "ticks": ""
             }
            },
            "marker": {
             "colorbar": {
              "outlinewidth": 0,
              "ticks": ""
             }
            },
            "type": "scatter3d"
           }
          ],
          "scattercarpet": [
           {
            "marker": {
             "colorbar": {
              "outlinewidth": 0,
              "ticks": ""
             }
            },
            "type": "scattercarpet"
           }
          ],
          "scattergeo": [
           {
            "marker": {
             "colorbar": {
              "outlinewidth": 0,
              "ticks": ""
             }
            },
            "type": "scattergeo"
           }
          ],
          "scattergl": [
           {
            "marker": {
             "colorbar": {
              "outlinewidth": 0,
              "ticks": ""
             }
            },
            "type": "scattergl"
           }
          ],
          "scattermapbox": [
           {
            "marker": {
             "colorbar": {
              "outlinewidth": 0,
              "ticks": ""
             }
            },
            "type": "scattermapbox"
           }
          ],
          "scatterpolar": [
           {
            "marker": {
             "colorbar": {
              "outlinewidth": 0,
              "ticks": ""
             }
            },
            "type": "scatterpolar"
           }
          ],
          "scatterpolargl": [
           {
            "marker": {
             "colorbar": {
              "outlinewidth": 0,
              "ticks": ""
             }
            },
            "type": "scatterpolargl"
           }
          ],
          "scatterternary": [
           {
            "marker": {
             "colorbar": {
              "outlinewidth": 0,
              "ticks": ""
             }
            },
            "type": "scatterternary"
           }
          ],
          "surface": [
           {
            "colorbar": {
             "outlinewidth": 0,
             "ticks": ""
            },
            "colorscale": [
             [
              0,
              "#0d0887"
             ],
             [
              0.1111111111111111,
              "#46039f"
             ],
             [
              0.2222222222222222,
              "#7201a8"
             ],
             [
              0.3333333333333333,
              "#9c179e"
             ],
             [
              0.4444444444444444,
              "#bd3786"
             ],
             [
              0.5555555555555556,
              "#d8576b"
             ],
             [
              0.6666666666666666,
              "#ed7953"
             ],
             [
              0.7777777777777778,
              "#fb9f3a"
             ],
             [
              0.8888888888888888,
              "#fdca26"
             ],
             [
              1,
              "#f0f921"
             ]
            ],
            "type": "surface"
           }
          ],
          "table": [
           {
            "cells": {
             "fill": {
              "color": "#EBF0F8"
             },
             "line": {
              "color": "white"
             }
            },
            "header": {
             "fill": {
              "color": "#C8D4E3"
             },
             "line": {
              "color": "white"
             }
            },
            "type": "table"
           }
          ]
         },
         "layout": {
          "annotationdefaults": {
           "arrowcolor": "#2a3f5f",
           "arrowhead": 0,
           "arrowwidth": 1
          },
          "autotypenumbers": "strict",
          "coloraxis": {
           "colorbar": {
            "outlinewidth": 0,
            "ticks": ""
           }
          },
          "colorscale": {
           "diverging": [
            [
             0,
             "#8e0152"
            ],
            [
             0.1,
             "#c51b7d"
            ],
            [
             0.2,
             "#de77ae"
            ],
            [
             0.3,
             "#f1b6da"
            ],
            [
             0.4,
             "#fde0ef"
            ],
            [
             0.5,
             "#f7f7f7"
            ],
            [
             0.6,
             "#e6f5d0"
            ],
            [
             0.7,
             "#b8e186"
            ],
            [
             0.8,
             "#7fbc41"
            ],
            [
             0.9,
             "#4d9221"
            ],
            [
             1,
             "#276419"
            ]
           ],
           "sequential": [
            [
             0,
             "#0d0887"
            ],
            [
             0.1111111111111111,
             "#46039f"
            ],
            [
             0.2222222222222222,
             "#7201a8"
            ],
            [
             0.3333333333333333,
             "#9c179e"
            ],
            [
             0.4444444444444444,
             "#bd3786"
            ],
            [
             0.5555555555555556,
             "#d8576b"
            ],
            [
             0.6666666666666666,
             "#ed7953"
            ],
            [
             0.7777777777777778,
             "#fb9f3a"
            ],
            [
             0.8888888888888888,
             "#fdca26"
            ],
            [
             1,
             "#f0f921"
            ]
           ],
           "sequentialminus": [
            [
             0,
             "#0d0887"
            ],
            [
             0.1111111111111111,
             "#46039f"
            ],
            [
             0.2222222222222222,
             "#7201a8"
            ],
            [
             0.3333333333333333,
             "#9c179e"
            ],
            [
             0.4444444444444444,
             "#bd3786"
            ],
            [
             0.5555555555555556,
             "#d8576b"
            ],
            [
             0.6666666666666666,
             "#ed7953"
            ],
            [
             0.7777777777777778,
             "#fb9f3a"
            ],
            [
             0.8888888888888888,
             "#fdca26"
            ],
            [
             1,
             "#f0f921"
            ]
           ]
          },
          "colorway": [
           "#636efa",
           "#EF553B",
           "#00cc96",
           "#ab63fa",
           "#FFA15A",
           "#19d3f3",
           "#FF6692",
           "#B6E880",
           "#FF97FF",
           "#FECB52"
          ],
          "font": {
           "color": "#2a3f5f"
          },
          "geo": {
           "bgcolor": "white",
           "lakecolor": "white",
           "landcolor": "#E5ECF6",
           "showlakes": true,
           "showland": true,
           "subunitcolor": "white"
          },
          "hoverlabel": {
           "align": "left"
          },
          "hovermode": "closest",
          "mapbox": {
           "style": "light"
          },
          "paper_bgcolor": "white",
          "plot_bgcolor": "#E5ECF6",
          "polar": {
           "angularaxis": {
            "gridcolor": "white",
            "linecolor": "white",
            "ticks": ""
           },
           "bgcolor": "#E5ECF6",
           "radialaxis": {
            "gridcolor": "white",
            "linecolor": "white",
            "ticks": ""
           }
          },
          "scene": {
           "xaxis": {
            "backgroundcolor": "#E5ECF6",
            "gridcolor": "white",
            "gridwidth": 2,
            "linecolor": "white",
            "showbackground": true,
            "ticks": "",
            "zerolinecolor": "white"
           },
           "yaxis": {
            "backgroundcolor": "#E5ECF6",
            "gridcolor": "white",
            "gridwidth": 2,
            "linecolor": "white",
            "showbackground": true,
            "ticks": "",
            "zerolinecolor": "white"
           },
           "zaxis": {
            "backgroundcolor": "#E5ECF6",
            "gridcolor": "white",
            "gridwidth": 2,
            "linecolor": "white",
            "showbackground": true,
            "ticks": "",
            "zerolinecolor": "white"
           }
          },
          "shapedefaults": {
           "line": {
            "color": "#2a3f5f"
           }
          },
          "ternary": {
           "aaxis": {
            "gridcolor": "white",
            "linecolor": "white",
            "ticks": ""
           },
           "baxis": {
            "gridcolor": "white",
            "linecolor": "white",
            "ticks": ""
           },
           "bgcolor": "#E5ECF6",
           "caxis": {
            "gridcolor": "white",
            "linecolor": "white",
            "ticks": ""
           }
          },
          "title": {
           "x": 0.05
          },
          "xaxis": {
           "automargin": true,
           "gridcolor": "white",
           "linecolor": "white",
           "ticks": "",
           "title": {
            "standoff": 15
           },
           "zerolinecolor": "white",
           "zerolinewidth": 2
          },
          "yaxis": {
           "automargin": true,
           "gridcolor": "white",
           "linecolor": "white",
           "ticks": "",
           "title": {
            "standoff": 15
           },
           "zerolinecolor": "white",
           "zerolinewidth": 2
          }
         }
        },
        "title": {
         "text": "MonkeyPox confirmed cases over thew World in non-endemics Countries"
        }
       }
      },
      "text/html": [
       "<div>                            <div id=\"221e7ffc-68ee-4287-b163-6d40cfcba464\" class=\"plotly-graph-div\" style=\"height:400px; width:100%;\"></div>            <script type=\"text/javascript\">                require([\"plotly\"], function(Plotly) {                    window.PLOTLYENV=window.PLOTLYENV || {};                                    if (document.getElementById(\"221e7ffc-68ee-4287-b163-6d40cfcba464\")) {                    Plotly.newPlot(                        \"221e7ffc-68ee-4287-b163-6d40cfcba464\",                        [{\"customdata\": [[6, \"Argentina\"], [12, \"Australia\"], [37, \"Austria\"], [117, \"Belgium\"], [3, \"Benin\"], [37, \"Brazil\"], [3, \"Bulgaria\"], [287, \"Canada\"], [6, \"Chile\"], [3, \"Colombia\"], [1, \"Croatia\"], [18, \"Denmark\"], [1185, \"England\"], [4, \"Finland\"], [498, \"France\"], [1, \"Georgia\"], [1054, \"Germany\"], [18, \"Ghana\"], [1, \"Gibraltar\"], [3, \"Greece\"], [19, \"Hungary\"], [4, \"Iceland\"], [39, \"Ireland\"], [42, \"Israel\"], [192, \"Italy\"], [2, \"Latvia\"], [1, \"Lebanon\"], [3, \"Luxembourg\"], [4, \"Malta\"], [11, \"Mexico\"], [1, \"Morocco\"], [257, \"Netherlands\"], [6, \"Northern Ireland\"], [17, \"Norway\"], [3, \"Peru\"], [12, \"Poland\"], [402, \"Portugal\"], [1, \"Puerto Rico\"], [11, \"Romania\"], [34, \"Scotland\"], [1, \"Serbia\"], [1, \"Singapore\"], [9, \"Slovenia\"], [2, \"South Africa\"], [1, \"South Korea\"], [1196, \"Spain\"], [28, \"Sweden\"], [83, \"Switzerland\"], [1, \"Taiwan\"], [1, \"Turkey\"], [13, \"United Arab Emirates\"], [395, \"United States\"], [1, \"Venezuela\"], [10, \"Wales\"]], \"hoverinfo\": \"name\", \"hovertemplate\": \"Cas: %{customdata[0]}<br>Country: %{customdata[1]}\", \"hovertext\": [\"<b>Pays</b>: Argentina<br>\", \"<b>Pays</b>: Australia<br>\", \"<b>Pays</b>: Austria<br>\", \"<b>Pays</b>: Belgium<br>\", \"<b>Pays</b>: Benin<br>\", \"<b>Pays</b>: Brazil<br>\", \"<b>Pays</b>: Bulgaria<br>\", \"<b>Pays</b>: Canada<br>\", \"<b>Pays</b>: Chile<br>\", \"<b>Pays</b>: Colombia<br>\", \"<b>Pays</b>: Croatia<br>\", \"<b>Pays</b>: Denmark<br>\", \"<b>Pays</b>: England<br>\", \"<b>Pays</b>: Finland<br>\", \"<b>Pays</b>: France<br>\", \"<b>Pays</b>: Georgia<br>\", \"<b>Pays</b>: Germany<br>\", \"<b>Pays</b>: Ghana<br>\", \"<b>Pays</b>: Gibraltar<br>\", \"<b>Pays</b>: Greece<br>\", \"<b>Pays</b>: Hungary<br>\", \"<b>Pays</b>: Iceland<br>\", \"<b>Pays</b>: Ireland<br>\", \"<b>Pays</b>: Israel<br>\", \"<b>Pays</b>: Italy<br>\", \"<b>Pays</b>: Latvia<br>\", \"<b>Pays</b>: Lebanon<br>\", \"<b>Pays</b>: Luxembourg<br>\", \"<b>Pays</b>: Malta<br>\", \"<b>Pays</b>: Mexico<br>\", \"<b>Pays</b>: Morocco<br>\", \"<b>Pays</b>: Netherlands<br>\", \"<b>Pays</b>: Northern Ireland<br>\", \"<b>Pays</b>: Norway<br>\", \"<b>Pays</b>: Peru<br>\", \"<b>Pays</b>: Poland<br>\", \"<b>Pays</b>: Portugal<br>\", \"<b>Pays</b>: Puerto Rico<br>\", \"<b>Pays</b>: Romania<br>\", \"<b>Pays</b>: Scotland<br>\", \"<b>Pays</b>: Serbia<br>\", \"<b>Pays</b>: Singapore<br>\", \"<b>Pays</b>: Slovenia<br>\", \"<b>Pays</b>: South Africa<br>\", \"<b>Pays</b>: South Korea<br>\", \"<b>Pays</b>: Spain<br>\", \"<b>Pays</b>: Sweden<br>\", \"<b>Pays</b>: Switzerland<br>\", \"<b>Pays</b>: Taiwan<br>\", \"<b>Pays</b>: Turkey<br>\", \"<b>Pays</b>: United Arab Emirates<br>\", \"<b>Pays</b>: United States<br>\", \"<b>Pays</b>: Venezuela<br>\", \"<b>Pays</b>: Wales<br>\"], \"ids\": [6, 12, 37, 117, 3, 37, 3, 287, 6, 3, 1, 18, 1185, 4, 498, 1, 1054, 18, 1, 3, 19, 4, 39, 42, 192, 2, 1, 3, 4, 11, 1, 257, 6, 17, 3, 12, 402, 1, 11, 34, 1, 1, 9, 2, 1, 1196, 28, 83, 1, 1, 13, 395, 1, 10], \"lat\": [-38.416097, -25.274398, 47.516231, 50.503887, 9.30769, -14.235004, 42.733883, 56.130366, -35.675147, 4.570868, 45.1, 56.26392, 55.378051, 61.92411, 46.227638, 42.315407, 51.165691, 7.946527, 36.137741, 39.074208, 47.162494, 64.963051, 53.41291, 31.046051, 41.87194, 56.879635, 33.854721, 49.815273, 35.937496, 23.634501, 31.791702, 52.132633, 55.378051, 60.472024, -9.189967, 51.919438, 39.399872, 18.220833, 45.943161, 55.378051, 44.016521, 1.352083, 46.151241, -30.559482, 35.907757, 40.463667, 60.128161, 46.818188, 23.69781, 38.963745, 23.424076, 37.09024, 6.42375, 55.378051], \"legendgroup\": \"\", \"lon\": [-63.616672, 133.775136, 14.550072, 4.469936, 2.315834, -51.92528, 25.48583, -106.346771, -71.542969, -74.297333, 15.2, 9.501785, -3.435973, 25.748151, 2.213749, 43.356892, 10.451526, -1.023194, -5.345374, 21.824312, 19.503304, -19.020835, -8.24389, 34.851612, 12.56738, 24.603189, 35.862285, 6.129583, 14.375416, -102.552784, -7.09262, 5.291266, -3.435973, 8.468946, -75.015152, 19.145136, -8.224454, -66.590149, 24.96676, -3.435973, 21.005859, 103.819836, 14.995463, 22.937506, 127.766922, -3.74922, 18.643501, 8.227512, 120.960515, 35.243322, 53.847818, -95.712891, -66.58973, -3.435973], \"marker\": {\"color\": [6, 12, 37, 117, 3, 37, 3, 287, 6, 3, 1, 18, 1185, 4, 498, 1, 1054, 18, 1, 3, 19, 4, 39, 42, 192, 2, 1, 3, 4, 11, 1, 257, 6, 17, 3, 12, 402, 1, 11, 34, 1, 1, 9, 2, 1, 1196, 28, 83, 1, 1, 13, 395, 1, 10], \"coloraxis\": \"coloraxis\", \"size\": [6, 12, 37, 117, 3, 37, 3, 287, 6, 3, 1, 18, 1185, 4, 498, 1, 1054, 18, 1, 3, 19, 4, 39, 42, 192, 2, 1, 3, 4, 11, 1, 257, 6, 17, 3, 12, 402, 1, 11, 34, 1, 1, 9, 2, 1, 1196, 28, 83, 1, 1, 13, 395, 1, 10], \"sizemode\": \"area\", \"sizeref\": 0.7475, \"symbol\": \"circle\"}, \"mode\": \"markers\", \"name\": \"<b>Report</b>\", \"opacity\": 0.8, \"showlegend\": false, \"subplot\": \"mapbox\", \"text\": [\"Argentina\", \"Australia\", \"Austria\", \"Belgium\", \"Benin\", \"Brazil\", \"Bulgaria\", \"Canada\", \"Chile\", \"Colombia\", \"Croatia\", \"Denmark\", \"England\", \"Finland\", \"France\", \"Georgia\", \"Germany\", \"Ghana\", \"Gibraltar\", \"Greece\", \"Hungary\", \"Iceland\", \"Ireland\", \"Israel\", \"Italy\", \"Latvia\", \"Lebanon\", \"Luxembourg\", \"Malta\", \"Mexico\", \"Morocco\", \"Netherlands\", \"Northern Ireland\", \"Norway\", \"Peru\", \"Poland\", \"Portugal\", \"Puerto Rico\", \"Romania\", \"Scotland\", \"Serbia\", \"Singapore\", \"Slovenia\", \"South Africa\", \"South Korea\", \"Spain\", \"Sweden\", \"Switzerland\", \"Taiwan\", \"Turkey\", \"United Arab Emirates\", \"United States\", \"Venezuela\", \"Wales\"], \"type\": \"scattermapbox\"}],                        {\"coloraxis\": {\"colorbar\": {\"title\": {\"text\": \"<b>Confirmed Cases</b>\"}}, \"colorscale\": [[0.0, \"rgb(0,0,131)\"], [0.2, \"rgb(0,60,170)\"], [0.4, \"rgb(5,255,255)\"], [0.6, \"rgb(255,255,0)\"], [0.8, \"rgb(250,0,0)\"], [1.0, \"rgb(128,0,0)\"]]}, \"geo\": {\"landcolor\": \"rgb(217, 217, 217)\"}, \"height\": 400, \"legend\": {\"itemsizing\": \"constant\", \"tracegroupgap\": 0}, \"mapbox\": {\"accesstoken\": \"pk.eyJ1IjoiaGVyaWMiLCJhIjoiY2lwcHh2cHpwMDA1aWhybnBqbHQzOXQydCJ9.4CM5ZOcHIkaSnKnXywwJlA\", \"center\": {\"lat\": 33.48102314814815, \"lon\": 3.7309841481481474}, \"domain\": {\"x\": [0.0, 1.0], \"y\": [0.0, 1.0]}, \"zoom\": 1}, \"margin\": {\"b\": 0, \"l\": 0, \"r\": 0, \"t\": 0}, \"template\": {\"data\": {\"bar\": [{\"error_x\": {\"color\": \"#2a3f5f\"}, \"error_y\": {\"color\": \"#2a3f5f\"}, \"marker\": {\"line\": {\"color\": \"#E5ECF6\", \"width\": 0.5}}, \"type\": \"bar\"}], \"barpolar\": [{\"marker\": {\"line\": {\"color\": \"#E5ECF6\", \"width\": 0.5}}, \"type\": \"barpolar\"}], \"carpet\": [{\"aaxis\": {\"endlinecolor\": \"#2a3f5f\", \"gridcolor\": \"white\", \"linecolor\": \"white\", \"minorgridcolor\": \"white\", \"startlinecolor\": \"#2a3f5f\"}, \"baxis\": {\"endlinecolor\": \"#2a3f5f\", \"gridcolor\": \"white\", \"linecolor\": \"white\", \"minorgridcolor\": \"white\", \"startlinecolor\": \"#2a3f5f\"}, \"type\": \"carpet\"}], \"choropleth\": [{\"colorbar\": {\"outlinewidth\": 0, \"ticks\": \"\"}, \"type\": \"choropleth\"}], \"contour\": [{\"colorbar\": {\"outlinewidth\": 0, \"ticks\": \"\"}, \"colorscale\": [[0.0, \"#0d0887\"], [0.1111111111111111, \"#46039f\"], [0.2222222222222222, \"#7201a8\"], [0.3333333333333333, \"#9c179e\"], [0.4444444444444444, \"#bd3786\"], [0.5555555555555556, \"#d8576b\"], [0.6666666666666666, \"#ed7953\"], [0.7777777777777778, \"#fb9f3a\"], [0.8888888888888888, \"#fdca26\"], [1.0, \"#f0f921\"]], \"type\": \"contour\"}], \"contourcarpet\": [{\"colorbar\": {\"outlinewidth\": 0, \"ticks\": \"\"}, \"type\": \"contourcarpet\"}], \"heatmap\": [{\"colorbar\": {\"outlinewidth\": 0, \"ticks\": \"\"}, \"colorscale\": [[0.0, \"#0d0887\"], [0.1111111111111111, \"#46039f\"], [0.2222222222222222, \"#7201a8\"], [0.3333333333333333, \"#9c179e\"], [0.4444444444444444, \"#bd3786\"], [0.5555555555555556, \"#d8576b\"], [0.6666666666666666, \"#ed7953\"], [0.7777777777777778, \"#fb9f3a\"], [0.8888888888888888, \"#fdca26\"], [1.0, \"#f0f921\"]], \"type\": \"heatmap\"}], \"heatmapgl\": [{\"colorbar\": {\"outlinewidth\": 0, \"ticks\": \"\"}, \"colorscale\": [[0.0, \"#0d0887\"], [0.1111111111111111, \"#46039f\"], [0.2222222222222222, \"#7201a8\"], [0.3333333333333333, \"#9c179e\"], [0.4444444444444444, \"#bd3786\"], [0.5555555555555556, \"#d8576b\"], [0.6666666666666666, \"#ed7953\"], [0.7777777777777778, \"#fb9f3a\"], [0.8888888888888888, \"#fdca26\"], [1.0, \"#f0f921\"]], \"type\": \"heatmapgl\"}], \"histogram\": [{\"marker\": {\"colorbar\": {\"outlinewidth\": 0, \"ticks\": \"\"}}, \"type\": \"histogram\"}], \"histogram2d\": [{\"colorbar\": {\"outlinewidth\": 0, \"ticks\": \"\"}, \"colorscale\": [[0.0, \"#0d0887\"], [0.1111111111111111, \"#46039f\"], [0.2222222222222222, \"#7201a8\"], [0.3333333333333333, \"#9c179e\"], [0.4444444444444444, \"#bd3786\"], [0.5555555555555556, \"#d8576b\"], [0.6666666666666666, \"#ed7953\"], [0.7777777777777778, \"#fb9f3a\"], [0.8888888888888888, \"#fdca26\"], [1.0, \"#f0f921\"]], \"type\": \"histogram2d\"}], \"histogram2dcontour\": [{\"colorbar\": {\"outlinewidth\": 0, \"ticks\": \"\"}, \"colorscale\": [[0.0, \"#0d0887\"], [0.1111111111111111, \"#46039f\"], [0.2222222222222222, \"#7201a8\"], [0.3333333333333333, \"#9c179e\"], [0.4444444444444444, \"#bd3786\"], [0.5555555555555556, \"#d8576b\"], [0.6666666666666666, \"#ed7953\"], [0.7777777777777778, \"#fb9f3a\"], [0.8888888888888888, \"#fdca26\"], [1.0, \"#f0f921\"]], \"type\": \"histogram2dcontour\"}], \"mesh3d\": [{\"colorbar\": {\"outlinewidth\": 0, \"ticks\": \"\"}, \"type\": \"mesh3d\"}], \"parcoords\": [{\"line\": {\"colorbar\": {\"outlinewidth\": 0, \"ticks\": \"\"}}, \"type\": \"parcoords\"}], \"pie\": [{\"automargin\": true, \"type\": \"pie\"}], \"scatter\": [{\"marker\": {\"colorbar\": {\"outlinewidth\": 0, \"ticks\": \"\"}}, \"type\": \"scatter\"}], \"scatter3d\": [{\"line\": {\"colorbar\": {\"outlinewidth\": 0, \"ticks\": \"\"}}, \"marker\": {\"colorbar\": {\"outlinewidth\": 0, \"ticks\": \"\"}}, \"type\": \"scatter3d\"}], \"scattercarpet\": [{\"marker\": {\"colorbar\": {\"outlinewidth\": 0, \"ticks\": \"\"}}, \"type\": \"scattercarpet\"}], \"scattergeo\": [{\"marker\": {\"colorbar\": {\"outlinewidth\": 0, \"ticks\": \"\"}}, \"type\": \"scattergeo\"}], \"scattergl\": [{\"marker\": {\"colorbar\": {\"outlinewidth\": 0, \"ticks\": \"\"}}, \"type\": \"scattergl\"}], \"scattermapbox\": [{\"marker\": {\"colorbar\": {\"outlinewidth\": 0, \"ticks\": \"\"}}, \"type\": \"scattermapbox\"}], \"scatterpolar\": [{\"marker\": {\"colorbar\": {\"outlinewidth\": 0, \"ticks\": \"\"}}, \"type\": \"scatterpolar\"}], \"scatterpolargl\": [{\"marker\": {\"colorbar\": {\"outlinewidth\": 0, \"ticks\": \"\"}}, \"type\": \"scatterpolargl\"}], \"scatterternary\": [{\"marker\": {\"colorbar\": {\"outlinewidth\": 0, \"ticks\": \"\"}}, \"type\": \"scatterternary\"}], \"surface\": [{\"colorbar\": {\"outlinewidth\": 0, \"ticks\": \"\"}, \"colorscale\": [[0.0, \"#0d0887\"], [0.1111111111111111, \"#46039f\"], [0.2222222222222222, \"#7201a8\"], [0.3333333333333333, \"#9c179e\"], [0.4444444444444444, \"#bd3786\"], [0.5555555555555556, \"#d8576b\"], [0.6666666666666666, \"#ed7953\"], [0.7777777777777778, \"#fb9f3a\"], [0.8888888888888888, \"#fdca26\"], [1.0, \"#f0f921\"]], \"type\": \"surface\"}], \"table\": [{\"cells\": {\"fill\": {\"color\": \"#EBF0F8\"}, \"line\": {\"color\": \"white\"}}, \"header\": {\"fill\": {\"color\": \"#C8D4E3\"}, \"line\": {\"color\": \"white\"}}, \"type\": \"table\"}]}, \"layout\": {\"annotationdefaults\": {\"arrowcolor\": \"#2a3f5f\", \"arrowhead\": 0, \"arrowwidth\": 1}, \"autotypenumbers\": \"strict\", \"coloraxis\": {\"colorbar\": {\"outlinewidth\": 0, \"ticks\": \"\"}}, \"colorscale\": {\"diverging\": [[0, \"#8e0152\"], [0.1, \"#c51b7d\"], [0.2, \"#de77ae\"], [0.3, \"#f1b6da\"], [0.4, \"#fde0ef\"], [0.5, \"#f7f7f7\"], [0.6, \"#e6f5d0\"], [0.7, \"#b8e186\"], [0.8, \"#7fbc41\"], [0.9, \"#4d9221\"], [1, \"#276419\"]], \"sequential\": [[0.0, \"#0d0887\"], [0.1111111111111111, \"#46039f\"], [0.2222222222222222, \"#7201a8\"], [0.3333333333333333, \"#9c179e\"], [0.4444444444444444, \"#bd3786\"], [0.5555555555555556, \"#d8576b\"], [0.6666666666666666, \"#ed7953\"], [0.7777777777777778, \"#fb9f3a\"], [0.8888888888888888, \"#fdca26\"], [1.0, \"#f0f921\"]], \"sequentialminus\": [[0.0, \"#0d0887\"], [0.1111111111111111, \"#46039f\"], [0.2222222222222222, \"#7201a8\"], [0.3333333333333333, \"#9c179e\"], [0.4444444444444444, \"#bd3786\"], [0.5555555555555556, \"#d8576b\"], [0.6666666666666666, \"#ed7953\"], [0.7777777777777778, \"#fb9f3a\"], [0.8888888888888888, \"#fdca26\"], [1.0, \"#f0f921\"]]}, \"colorway\": [\"#636efa\", \"#EF553B\", \"#00cc96\", \"#ab63fa\", \"#FFA15A\", \"#19d3f3\", \"#FF6692\", \"#B6E880\", \"#FF97FF\", \"#FECB52\"], \"font\": {\"color\": \"#2a3f5f\"}, \"geo\": {\"bgcolor\": \"white\", \"lakecolor\": \"white\", \"landcolor\": \"#E5ECF6\", \"showlakes\": true, \"showland\": true, \"subunitcolor\": \"white\"}, \"hoverlabel\": {\"align\": \"left\"}, \"hovermode\": \"closest\", \"mapbox\": {\"style\": \"light\"}, \"paper_bgcolor\": \"white\", \"plot_bgcolor\": \"#E5ECF6\", \"polar\": {\"angularaxis\": {\"gridcolor\": \"white\", \"linecolor\": \"white\", \"ticks\": \"\"}, \"bgcolor\": \"#E5ECF6\", \"radialaxis\": {\"gridcolor\": \"white\", \"linecolor\": \"white\", \"ticks\": \"\"}}, \"scene\": {\"xaxis\": {\"backgroundcolor\": \"#E5ECF6\", \"gridcolor\": \"white\", \"gridwidth\": 2, \"linecolor\": \"white\", \"showbackground\": true, \"ticks\": \"\", \"zerolinecolor\": \"white\"}, \"yaxis\": {\"backgroundcolor\": \"#E5ECF6\", \"gridcolor\": \"white\", \"gridwidth\": 2, \"linecolor\": \"white\", \"showbackground\": true, \"ticks\": \"\", \"zerolinecolor\": \"white\"}, \"zaxis\": {\"backgroundcolor\": \"#E5ECF6\", \"gridcolor\": \"white\", \"gridwidth\": 2, \"linecolor\": \"white\", \"showbackground\": true, \"ticks\": \"\", \"zerolinecolor\": \"white\"}}, \"shapedefaults\": {\"line\": {\"color\": \"#2a3f5f\"}}, \"ternary\": {\"aaxis\": {\"gridcolor\": \"white\", \"linecolor\": \"white\", \"ticks\": \"\"}, \"baxis\": {\"gridcolor\": \"white\", \"linecolor\": \"white\", \"ticks\": \"\"}, \"bgcolor\": \"#E5ECF6\", \"caxis\": {\"gridcolor\": \"white\", \"linecolor\": \"white\", \"ticks\": \"\"}}, \"title\": {\"x\": 0.05}, \"xaxis\": {\"automargin\": true, \"gridcolor\": \"white\", \"linecolor\": \"white\", \"ticks\": \"\", \"title\": {\"standoff\": 15}, \"zerolinecolor\": \"white\", \"zerolinewidth\": 2}, \"yaxis\": {\"automargin\": true, \"gridcolor\": \"white\", \"linecolor\": \"white\", \"ticks\": \"\", \"title\": {\"standoff\": 15}, \"zerolinecolor\": \"white\", \"zerolinewidth\": 2}}}, \"title\": {\"text\": \"MonkeyPox confirmed cases over thew World in non-endemics Countries\"}},                        {\"responsive\": true}                    ).then(function(){\n",
       "                            \n",
       "var gd = document.getElementById('221e7ffc-68ee-4287-b163-6d40cfcba464');\n",
       "var x = new MutationObserver(function (mutations, observer) {{\n",
       "        var display = window.getComputedStyle(gd).display;\n",
       "        if (!display || display === 'none') {{\n",
       "            console.log([gd, 'removed!']);\n",
       "            Plotly.purge(gd);\n",
       "            observer.disconnect();\n",
       "        }}\n",
       "}});\n",
       "\n",
       "// Listen for the removal of the full notebook cells\n",
       "var notebookContainer = gd.closest('#notebook-container');\n",
       "if (notebookContainer) {{\n",
       "    x.observe(notebookContainer, {childList: true});\n",
       "}}\n",
       "\n",
       "// Listen for the clearing of the current output cell\n",
       "var outputEl = gd.closest('.output');\n",
       "if (outputEl) {{\n",
       "    x.observe(outputEl, {childList: true});\n",
       "}}\n",
       "\n",
       "                        })                };                });            </script>        </div>"
      ]
     },
     "metadata": {},
     "output_type": "display_data"
    }
   ],
   "source": [
    "mapbox_token = 'pk.eyJ1IjoiaGVyaWMiLCJhIjoiY2lwcHh2cHpwMDA1aWhybnBqbHQzOXQydCJ9.4CM5ZOcHIkaSnKnXywwJlA'\n",
    "\n",
    "fig =  px.scatter_mapbox(\n",
    "    datapx_max,\n",
    "    lat = 'latitude',\n",
    "    lon = 'longitude',\n",
    "    hover_name = 'Country',\n",
    "    size = 'acc_confirmed',\n",
    "    color = 'acc_confirmed',\n",
    "    title = \"MonkeyPox confirmed cases over thew World in non-endemics Countries\",\n",
    "    labels = {'acc_confirmed': '<b>Confirmed Cases</b>'},\n",
    "    \n",
    "    color_continuous_scale=px.colors.sequential.Jet,\n",
    "    size_max=40,\n",
    "    zoom=1,\n",
    "    height = 400,\n",
    "    custom_data = ['acc_confirmed', 'Country']\n",
    "   \n",
    "   \n",
    "    \n",
    ")\n",
    "\n",
    "fig.update_layout( mapbox_accesstoken = mapbox_token, \n",
    "                  margin={\"r\":0,\"t\":0,\"l\":0,\"b\":0},\n",
    "                 geo = dict(landcolor = 'rgb(217, 217, 217)'),\n",
    "                 title = 'MonkeyPox confirmed cases over thew World in non-endemics Countries')\n",
    "\n",
    "\n",
    "\n",
    "\n",
    "\n",
    "\n",
    "fig.update_traces( name = '<b>Report</b>',\n",
    "                  opacity = 0.8,\n",
    "                  hoverinfo='name',\n",
    "                  marker_symbol = 'circle',\n",
    "                  text = datapx_max['Country'],\n",
    "                  ids = datapx_max['acc_confirmed'],\n",
    "                 hovertext=\n",
    "                 '<b>Pays</b>: '  + datapx_max['Country'] + '<br>',\n",
    "                 hovertemplate = '<br>'.join([\n",
    "                     \"Cas: %{customdata[0]}\",\n",
    "                     \"Country: %{customdata[1]}\"]\n",
    "                 ))\n",
    "\n",
    "\n",
    "                 \n",
    "\n",
    "fig.show()\n",
    "\n"
   ]
  },
  {
   "cell_type": "code",
   "execution_count": 110,
   "id": "5fe3222b",
   "metadata": {},
   "outputs": [
    {
     "data": {
      "text/plain": [
       "'2022-07-04'"
      ]
     },
     "execution_count": 110,
     "metadata": {},
     "output_type": "execute_result"
    }
   ],
   "source": [
    "\n",
    "\n",
    "str(date.today())"
   ]
  },
  {
   "cell_type": "code",
   "execution_count": 111,
   "id": "6e051cba",
   "metadata": {},
   "outputs": [],
   "source": [
    "top_country = data_px.groupby('Country')['acc_confirmed'].max().reset_index().sort_values(by='acc_confirmed', ascending=False).iloc[0]['Country']\n",
    "\n",
    "\n",
    "\n"
   ]
  },
  {
   "cell_type": "code",
   "execution_count": 112,
   "id": "c849ecb7",
   "metadata": {},
   "outputs": [
    {
     "data": {
      "application/vnd.jupyter.widget-view+json": {
       "model_id": "4e89dc72ad3e467796f4ffee05c5f275"
      },
      "text/plain": [
       "        Country        date  new_daily_cases  acc_confirmed   latitude  \\\n",
       "0     Argentina  2022-05-06                0              0 -38.416097   \n",
       "1     Argentina  2022-05-07                0              0 -38.416097   \n",
       "2     Argentina  2022-05-08                0              0 -38.416097   \n",
       "3     Argentina  2022-05-09                0              0 -38.416097   \n",
       "4     Argentina  2022-05-10                0              0 -38.416097   \n",
       "...         ...         ...              ...            ...        ...   \n",
       "3073      Wales  2022-06-27                0              9  55.378051   \n",
       "3074      Wales  2022-06-28                0              9  55.378051   \n",
       "3075      Wales  2022-06-29                0              9  55.378051   \n",
       "3076      Wales  2022-06-30                1             10  55.378051   \n",
       "3077      Wales  2022-07-01                0             10  55.378051   \n",
       "\n",
       "      longitude     Continents Country_ISO3  \n",
       "0    -63.616672  South America          ARG  \n",
       "1    -63.616672  South America          ARG  \n",
       "2    -63.616672  South America          ARG  \n",
       "3    -63.616672  South America          ARG  \n",
       "4    -63.616672  South America          ARG  \n",
       "...         ...            ...          ...  \n",
       "3073  -3.435973         Europe          GBR  \n",
       "3074  -3.435973         Europe          GBR  \n",
       "3075  -3.435973         Europe          GBR  \n",
       "3076  -3.435973         Europe          GBR  \n",
       "3077  -3.435973         Europe          GBR  \n",
       "\n",
       "[3021 rows x 8 columns]"
      ]
     },
     "metadata": {},
     "output_type": "display_data"
    }
   ],
   "source": [
    "data_pxteext = data_px.loc[~(data_px['Country'].isin(['France']))]\n",
    "data_pxteext = data_pxteext.groupby(['Country', 'Continents']).agg(acc_confirmed_max=('acc_confirmed', 'max')).reset_index()\n",
    "data_pxteext = data_pxteext.groupby(['Continents']).agg(acc_confirmed_max_sum=('acc_confirmed_max', 'sum')).reset_index()\n",
    "data_pxteext"
   ]
  },
  {
   "cell_type": "code",
   "execution_count": 117,
   "id": "f75cc8cd",
   "metadata": {},
   "outputs": [
    {
     "data": {
      "application/vnd.plotly.v1+json": {
       "config": {
        "plotlyServerURL": "https://plotly.com"
       },
       "data": [
        {
         "domain": {
          "x": [
           0,
           1
          ],
          "y": [
           0,
           1
          ]
         },
         "hole": 0.3,
         "hovertemplate": "Continents=%{label}<br>acc_confirmed_max_sum=%{value}<extra></extra>",
         "labels": [
          "Africa",
          "Asia",
          "Europe",
          "North America",
          "Oceania",
          "South America"
         ],
         "legendgroup": "",
         "name": "",
         "showlegend": true,
         "textinfo": "percent+label",
         "textposition": "inside",
         "type": "pie",
         "values": [
          24,
          61,
          4752,
          694,
          12,
          56
         ]
        }
       ],
       "layout": {
        "legend": {
         "tracegroupgap": 0
        },
        "margin": {
         "t": 60
        },
        "piecolorway": [
         "rgb(103,0,31)",
         "rgb(178,24,43)",
         "rgb(214,96,77)",
         "rgb(244,165,130)",
         "rgb(253,219,199)",
         "rgb(247,247,247)",
         "rgb(209,229,240)",
         "rgb(146,197,222)",
         "rgb(67,147,195)",
         "rgb(33,102,172)",
         "rgb(5,48,97)"
        ],
        "template": {
         "data": {
          "bar": [
           {
            "error_x": {
             "color": "#2a3f5f"
            },
            "error_y": {
             "color": "#2a3f5f"
            },
            "marker": {
             "line": {
              "color": "#E5ECF6",
              "width": 0.5
             }
            },
            "type": "bar"
           }
          ],
          "barpolar": [
           {
            "marker": {
             "line": {
              "color": "#E5ECF6",
              "width": 0.5
             }
            },
            "type": "barpolar"
           }
          ],
          "carpet": [
           {
            "aaxis": {
             "endlinecolor": "#2a3f5f",
             "gridcolor": "white",
             "linecolor": "white",
             "minorgridcolor": "white",
             "startlinecolor": "#2a3f5f"
            },
            "baxis": {
             "endlinecolor": "#2a3f5f",
             "gridcolor": "white",
             "linecolor": "white",
             "minorgridcolor": "white",
             "startlinecolor": "#2a3f5f"
            },
            "type": "carpet"
           }
          ],
          "choropleth": [
           {
            "colorbar": {
             "outlinewidth": 0,
             "ticks": ""
            },
            "type": "choropleth"
           }
          ],
          "contour": [
           {
            "colorbar": {
             "outlinewidth": 0,
             "ticks": ""
            },
            "colorscale": [
             [
              0,
              "#0d0887"
             ],
             [
              0.1111111111111111,
              "#46039f"
             ],
             [
              0.2222222222222222,
              "#7201a8"
             ],
             [
              0.3333333333333333,
              "#9c179e"
             ],
             [
              0.4444444444444444,
              "#bd3786"
             ],
             [
              0.5555555555555556,
              "#d8576b"
             ],
             [
              0.6666666666666666,
              "#ed7953"
             ],
             [
              0.7777777777777778,
              "#fb9f3a"
             ],
             [
              0.8888888888888888,
              "#fdca26"
             ],
             [
              1,
              "#f0f921"
             ]
            ],
            "type": "contour"
           }
          ],
          "contourcarpet": [
           {
            "colorbar": {
             "outlinewidth": 0,
             "ticks": ""
            },
            "type": "contourcarpet"
           }
          ],
          "heatmap": [
           {
            "colorbar": {
             "outlinewidth": 0,
             "ticks": ""
            },
            "colorscale": [
             [
              0,
              "#0d0887"
             ],
             [
              0.1111111111111111,
              "#46039f"
             ],
             [
              0.2222222222222222,
              "#7201a8"
             ],
             [
              0.3333333333333333,
              "#9c179e"
             ],
             [
              0.4444444444444444,
              "#bd3786"
             ],
             [
              0.5555555555555556,
              "#d8576b"
             ],
             [
              0.6666666666666666,
              "#ed7953"
             ],
             [
              0.7777777777777778,
              "#fb9f3a"
             ],
             [
              0.8888888888888888,
              "#fdca26"
             ],
             [
              1,
              "#f0f921"
             ]
            ],
            "type": "heatmap"
           }
          ],
          "heatmapgl": [
           {
            "colorbar": {
             "outlinewidth": 0,
             "ticks": ""
            },
            "colorscale": [
             [
              0,
              "#0d0887"
             ],
             [
              0.1111111111111111,
              "#46039f"
             ],
             [
              0.2222222222222222,
              "#7201a8"
             ],
             [
              0.3333333333333333,
              "#9c179e"
             ],
             [
              0.4444444444444444,
              "#bd3786"
             ],
             [
              0.5555555555555556,
              "#d8576b"
             ],
             [
              0.6666666666666666,
              "#ed7953"
             ],
             [
              0.7777777777777778,
              "#fb9f3a"
             ],
             [
              0.8888888888888888,
              "#fdca26"
             ],
             [
              1,
              "#f0f921"
             ]
            ],
            "type": "heatmapgl"
           }
          ],
          "histogram": [
           {
            "marker": {
             "colorbar": {
              "outlinewidth": 0,
              "ticks": ""
             }
            },
            "type": "histogram"
           }
          ],
          "histogram2d": [
           {
            "colorbar": {
             "outlinewidth": 0,
             "ticks": ""
            },
            "colorscale": [
             [
              0,
              "#0d0887"
             ],
             [
              0.1111111111111111,
              "#46039f"
             ],
             [
              0.2222222222222222,
              "#7201a8"
             ],
             [
              0.3333333333333333,
              "#9c179e"
             ],
             [
              0.4444444444444444,
              "#bd3786"
             ],
             [
              0.5555555555555556,
              "#d8576b"
             ],
             [
              0.6666666666666666,
              "#ed7953"
             ],
             [
              0.7777777777777778,
              "#fb9f3a"
             ],
             [
              0.8888888888888888,
              "#fdca26"
             ],
             [
              1,
              "#f0f921"
             ]
            ],
            "type": "histogram2d"
           }
          ],
          "histogram2dcontour": [
           {
            "colorbar": {
             "outlinewidth": 0,
             "ticks": ""
            },
            "colorscale": [
             [
              0,
              "#0d0887"
             ],
             [
              0.1111111111111111,
              "#46039f"
             ],
             [
              0.2222222222222222,
              "#7201a8"
             ],
             [
              0.3333333333333333,
              "#9c179e"
             ],
             [
              0.4444444444444444,
              "#bd3786"
             ],
             [
              0.5555555555555556,
              "#d8576b"
             ],
             [
              0.6666666666666666,
              "#ed7953"
             ],
             [
              0.7777777777777778,
              "#fb9f3a"
             ],
             [
              0.8888888888888888,
              "#fdca26"
             ],
             [
              1,
              "#f0f921"
             ]
            ],
            "type": "histogram2dcontour"
           }
          ],
          "mesh3d": [
           {
            "colorbar": {
             "outlinewidth": 0,
             "ticks": ""
            },
            "type": "mesh3d"
           }
          ],
          "parcoords": [
           {
            "line": {
             "colorbar": {
              "outlinewidth": 0,
              "ticks": ""
             }
            },
            "type": "parcoords"
           }
          ],
          "pie": [
           {
            "automargin": true,
            "type": "pie"
           }
          ],
          "scatter": [
           {
            "marker": {
             "colorbar": {
              "outlinewidth": 0,
              "ticks": ""
             }
            },
            "type": "scatter"
           }
          ],
          "scatter3d": [
           {
            "line": {
             "colorbar": {
              "outlinewidth": 0,
              "ticks": ""
             }
            },
            "marker": {
             "colorbar": {
              "outlinewidth": 0,
              "ticks": ""
             }
            },
            "type": "scatter3d"
           }
          ],
          "scattercarpet": [
           {
            "marker": {
             "colorbar": {
              "outlinewidth": 0,
              "ticks": ""
             }
            },
            "type": "scattercarpet"
           }
          ],
          "scattergeo": [
           {
            "marker": {
             "colorbar": {
              "outlinewidth": 0,
              "ticks": ""
             }
            },
            "type": "scattergeo"
           }
          ],
          "scattergl": [
           {
            "marker": {
             "colorbar": {
              "outlinewidth": 0,
              "ticks": ""
             }
            },
            "type": "scattergl"
           }
          ],
          "scattermapbox": [
           {
            "marker": {
             "colorbar": {
              "outlinewidth": 0,
              "ticks": ""
             }
            },
            "type": "scattermapbox"
           }
          ],
          "scatterpolar": [
           {
            "marker": {
             "colorbar": {
              "outlinewidth": 0,
              "ticks": ""
             }
            },
            "type": "scatterpolar"
           }
          ],
          "scatterpolargl": [
           {
            "marker": {
             "colorbar": {
              "outlinewidth": 0,
              "ticks": ""
             }
            },
            "type": "scatterpolargl"
           }
          ],
          "scatterternary": [
           {
            "marker": {
             "colorbar": {
              "outlinewidth": 0,
              "ticks": ""
             }
            },
            "type": "scatterternary"
           }
          ],
          "surface": [
           {
            "colorbar": {
             "outlinewidth": 0,
             "ticks": ""
            },
            "colorscale": [
             [
              0,
              "#0d0887"
             ],
             [
              0.1111111111111111,
              "#46039f"
             ],
             [
              0.2222222222222222,
              "#7201a8"
             ],
             [
              0.3333333333333333,
              "#9c179e"
             ],
             [
              0.4444444444444444,
              "#bd3786"
             ],
             [
              0.5555555555555556,
              "#d8576b"
             ],
             [
              0.6666666666666666,
              "#ed7953"
             ],
             [
              0.7777777777777778,
              "#fb9f3a"
             ],
             [
              0.8888888888888888,
              "#fdca26"
             ],
             [
              1,
              "#f0f921"
             ]
            ],
            "type": "surface"
           }
          ],
          "table": [
           {
            "cells": {
             "fill": {
              "color": "#EBF0F8"
             },
             "line": {
              "color": "white"
             }
            },
            "header": {
             "fill": {
              "color": "#C8D4E3"
             },
             "line": {
              "color": "white"
             }
            },
            "type": "table"
           }
          ]
         },
         "layout": {
          "annotationdefaults": {
           "arrowcolor": "#2a3f5f",
           "arrowhead": 0,
           "arrowwidth": 1
          },
          "autotypenumbers": "strict",
          "coloraxis": {
           "colorbar": {
            "outlinewidth": 0,
            "ticks": ""
           }
          },
          "colorscale": {
           "diverging": [
            [
             0,
             "#8e0152"
            ],
            [
             0.1,
             "#c51b7d"
            ],
            [
             0.2,
             "#de77ae"
            ],
            [
             0.3,
             "#f1b6da"
            ],
            [
             0.4,
             "#fde0ef"
            ],
            [
             0.5,
             "#f7f7f7"
            ],
            [
             0.6,
             "#e6f5d0"
            ],
            [
             0.7,
             "#b8e186"
            ],
            [
             0.8,
             "#7fbc41"
            ],
            [
             0.9,
             "#4d9221"
            ],
            [
             1,
             "#276419"
            ]
           ],
           "sequential": [
            [
             0,
             "#0d0887"
            ],
            [
             0.1111111111111111,
             "#46039f"
            ],
            [
             0.2222222222222222,
             "#7201a8"
            ],
            [
             0.3333333333333333,
             "#9c179e"
            ],
            [
             0.4444444444444444,
             "#bd3786"
            ],
            [
             0.5555555555555556,
             "#d8576b"
            ],
            [
             0.6666666666666666,
             "#ed7953"
            ],
            [
             0.7777777777777778,
             "#fb9f3a"
            ],
            [
             0.8888888888888888,
             "#fdca26"
            ],
            [
             1,
             "#f0f921"
            ]
           ],
           "sequentialminus": [
            [
             0,
             "#0d0887"
            ],
            [
             0.1111111111111111,
             "#46039f"
            ],
            [
             0.2222222222222222,
             "#7201a8"
            ],
            [
             0.3333333333333333,
             "#9c179e"
            ],
            [
             0.4444444444444444,
             "#bd3786"
            ],
            [
             0.5555555555555556,
             "#d8576b"
            ],
            [
             0.6666666666666666,
             "#ed7953"
            ],
            [
             0.7777777777777778,
             "#fb9f3a"
            ],
            [
             0.8888888888888888,
             "#fdca26"
            ],
            [
             1,
             "#f0f921"
            ]
           ]
          },
          "colorway": [
           "#636efa",
           "#EF553B",
           "#00cc96",
           "#ab63fa",
           "#FFA15A",
           "#19d3f3",
           "#FF6692",
           "#B6E880",
           "#FF97FF",
           "#FECB52"
          ],
          "font": {
           "color": "#2a3f5f"
          },
          "geo": {
           "bgcolor": "white",
           "lakecolor": "white",
           "landcolor": "#E5ECF6",
           "showlakes": true,
           "showland": true,
           "subunitcolor": "white"
          },
          "hoverlabel": {
           "align": "left"
          },
          "hovermode": "closest",
          "mapbox": {
           "style": "light"
          },
          "paper_bgcolor": "white",
          "plot_bgcolor": "#E5ECF6",
          "polar": {
           "angularaxis": {
            "gridcolor": "white",
            "linecolor": "white",
            "ticks": ""
           },
           "bgcolor": "#E5ECF6",
           "radialaxis": {
            "gridcolor": "white",
            "linecolor": "white",
            "ticks": ""
           }
          },
          "scene": {
           "xaxis": {
            "backgroundcolor": "#E5ECF6",
            "gridcolor": "white",
            "gridwidth": 2,
            "linecolor": "white",
            "showbackground": true,
            "ticks": "",
            "zerolinecolor": "white"
           },
           "yaxis": {
            "backgroundcolor": "#E5ECF6",
            "gridcolor": "white",
            "gridwidth": 2,
            "linecolor": "white",
            "showbackground": true,
            "ticks": "",
            "zerolinecolor": "white"
           },
           "zaxis": {
            "backgroundcolor": "#E5ECF6",
            "gridcolor": "white",
            "gridwidth": 2,
            "linecolor": "white",
            "showbackground": true,
            "ticks": "",
            "zerolinecolor": "white"
           }
          },
          "shapedefaults": {
           "line": {
            "color": "#2a3f5f"
           }
          },
          "ternary": {
           "aaxis": {
            "gridcolor": "white",
            "linecolor": "white",
            "ticks": ""
           },
           "baxis": {
            "gridcolor": "white",
            "linecolor": "white",
            "ticks": ""
           },
           "bgcolor": "#E5ECF6",
           "caxis": {
            "gridcolor": "white",
            "linecolor": "white",
            "ticks": ""
           }
          },
          "title": {
           "x": 0.05
          },
          "xaxis": {
           "automargin": true,
           "gridcolor": "white",
           "linecolor": "white",
           "ticks": "",
           "title": {
            "standoff": 15
           },
           "zerolinecolor": "white",
           "zerolinewidth": 2
          },
          "yaxis": {
           "automargin": true,
           "gridcolor": "white",
           "linecolor": "white",
           "ticks": "",
           "title": {
            "standoff": 15
           },
           "zerolinecolor": "white",
           "zerolinewidth": 2
          }
         }
        }
       }
      },
      "text/html": [
       "<div>                            <div id=\"9b056643-3ec7-4543-ac89-52b5f2e324a1\" class=\"plotly-graph-div\" style=\"height:525px; width:100%;\"></div>            <script type=\"text/javascript\">                require([\"plotly\"], function(Plotly) {                    window.PLOTLYENV=window.PLOTLYENV || {};                                    if (document.getElementById(\"9b056643-3ec7-4543-ac89-52b5f2e324a1\")) {                    Plotly.newPlot(                        \"9b056643-3ec7-4543-ac89-52b5f2e324a1\",                        [{\"domain\": {\"x\": [0.0, 1.0], \"y\": [0.0, 1.0]}, \"hole\": 0.3, \"hovertemplate\": \"Continents=%{label}<br>acc_confirmed_max_sum=%{value}<extra></extra>\", \"labels\": [\"Africa\", \"Asia\", \"Europe\", \"North America\", \"Oceania\", \"South America\"], \"legendgroup\": \"\", \"name\": \"\", \"showlegend\": true, \"textinfo\": \"percent+label\", \"textposition\": \"inside\", \"type\": \"pie\", \"values\": [24, 61, 4752, 694, 12, 56]}],                        {\"legend\": {\"tracegroupgap\": 0}, \"margin\": {\"t\": 60}, \"piecolorway\": [\"rgb(103,0,31)\", \"rgb(178,24,43)\", \"rgb(214,96,77)\", \"rgb(244,165,130)\", \"rgb(253,219,199)\", \"rgb(247,247,247)\", \"rgb(209,229,240)\", \"rgb(146,197,222)\", \"rgb(67,147,195)\", \"rgb(33,102,172)\", \"rgb(5,48,97)\"], \"template\": {\"data\": {\"bar\": [{\"error_x\": {\"color\": \"#2a3f5f\"}, \"error_y\": {\"color\": \"#2a3f5f\"}, \"marker\": {\"line\": {\"color\": \"#E5ECF6\", \"width\": 0.5}}, \"type\": \"bar\"}], \"barpolar\": [{\"marker\": {\"line\": {\"color\": \"#E5ECF6\", \"width\": 0.5}}, \"type\": \"barpolar\"}], \"carpet\": [{\"aaxis\": {\"endlinecolor\": \"#2a3f5f\", \"gridcolor\": \"white\", \"linecolor\": \"white\", \"minorgridcolor\": \"white\", \"startlinecolor\": \"#2a3f5f\"}, \"baxis\": {\"endlinecolor\": \"#2a3f5f\", \"gridcolor\": \"white\", \"linecolor\": \"white\", \"minorgridcolor\": \"white\", \"startlinecolor\": \"#2a3f5f\"}, \"type\": \"carpet\"}], \"choropleth\": [{\"colorbar\": {\"outlinewidth\": 0, \"ticks\": \"\"}, \"type\": \"choropleth\"}], \"contour\": [{\"colorbar\": {\"outlinewidth\": 0, \"ticks\": \"\"}, \"colorscale\": [[0.0, \"#0d0887\"], [0.1111111111111111, \"#46039f\"], [0.2222222222222222, \"#7201a8\"], [0.3333333333333333, \"#9c179e\"], [0.4444444444444444, \"#bd3786\"], [0.5555555555555556, \"#d8576b\"], [0.6666666666666666, \"#ed7953\"], [0.7777777777777778, \"#fb9f3a\"], [0.8888888888888888, \"#fdca26\"], [1.0, \"#f0f921\"]], \"type\": \"contour\"}], \"contourcarpet\": [{\"colorbar\": {\"outlinewidth\": 0, \"ticks\": \"\"}, \"type\": \"contourcarpet\"}], \"heatmap\": [{\"colorbar\": {\"outlinewidth\": 0, \"ticks\": \"\"}, \"colorscale\": [[0.0, \"#0d0887\"], [0.1111111111111111, \"#46039f\"], [0.2222222222222222, \"#7201a8\"], [0.3333333333333333, \"#9c179e\"], [0.4444444444444444, \"#bd3786\"], [0.5555555555555556, \"#d8576b\"], [0.6666666666666666, \"#ed7953\"], [0.7777777777777778, \"#fb9f3a\"], [0.8888888888888888, \"#fdca26\"], [1.0, \"#f0f921\"]], \"type\": \"heatmap\"}], \"heatmapgl\": [{\"colorbar\": {\"outlinewidth\": 0, \"ticks\": \"\"}, \"colorscale\": [[0.0, \"#0d0887\"], [0.1111111111111111, \"#46039f\"], [0.2222222222222222, \"#7201a8\"], [0.3333333333333333, \"#9c179e\"], [0.4444444444444444, \"#bd3786\"], [0.5555555555555556, \"#d8576b\"], [0.6666666666666666, \"#ed7953\"], [0.7777777777777778, \"#fb9f3a\"], [0.8888888888888888, \"#fdca26\"], [1.0, \"#f0f921\"]], \"type\": \"heatmapgl\"}], \"histogram\": [{\"marker\": {\"colorbar\": {\"outlinewidth\": 0, \"ticks\": \"\"}}, \"type\": \"histogram\"}], \"histogram2d\": [{\"colorbar\": {\"outlinewidth\": 0, \"ticks\": \"\"}, \"colorscale\": [[0.0, \"#0d0887\"], [0.1111111111111111, \"#46039f\"], [0.2222222222222222, \"#7201a8\"], [0.3333333333333333, \"#9c179e\"], [0.4444444444444444, \"#bd3786\"], [0.5555555555555556, \"#d8576b\"], [0.6666666666666666, \"#ed7953\"], [0.7777777777777778, \"#fb9f3a\"], [0.8888888888888888, \"#fdca26\"], [1.0, \"#f0f921\"]], \"type\": \"histogram2d\"}], \"histogram2dcontour\": [{\"colorbar\": {\"outlinewidth\": 0, \"ticks\": \"\"}, \"colorscale\": [[0.0, \"#0d0887\"], [0.1111111111111111, \"#46039f\"], [0.2222222222222222, \"#7201a8\"], [0.3333333333333333, \"#9c179e\"], [0.4444444444444444, \"#bd3786\"], [0.5555555555555556, \"#d8576b\"], [0.6666666666666666, \"#ed7953\"], [0.7777777777777778, \"#fb9f3a\"], [0.8888888888888888, \"#fdca26\"], [1.0, \"#f0f921\"]], \"type\": \"histogram2dcontour\"}], \"mesh3d\": [{\"colorbar\": {\"outlinewidth\": 0, \"ticks\": \"\"}, \"type\": \"mesh3d\"}], \"parcoords\": [{\"line\": {\"colorbar\": {\"outlinewidth\": 0, \"ticks\": \"\"}}, \"type\": \"parcoords\"}], \"pie\": [{\"automargin\": true, \"type\": \"pie\"}], \"scatter\": [{\"marker\": {\"colorbar\": {\"outlinewidth\": 0, \"ticks\": \"\"}}, \"type\": \"scatter\"}], \"scatter3d\": [{\"line\": {\"colorbar\": {\"outlinewidth\": 0, \"ticks\": \"\"}}, \"marker\": {\"colorbar\": {\"outlinewidth\": 0, \"ticks\": \"\"}}, \"type\": \"scatter3d\"}], \"scattercarpet\": [{\"marker\": {\"colorbar\": {\"outlinewidth\": 0, \"ticks\": \"\"}}, \"type\": \"scattercarpet\"}], \"scattergeo\": [{\"marker\": {\"colorbar\": {\"outlinewidth\": 0, \"ticks\": \"\"}}, \"type\": \"scattergeo\"}], \"scattergl\": [{\"marker\": {\"colorbar\": {\"outlinewidth\": 0, \"ticks\": \"\"}}, \"type\": \"scattergl\"}], \"scattermapbox\": [{\"marker\": {\"colorbar\": {\"outlinewidth\": 0, \"ticks\": \"\"}}, \"type\": \"scattermapbox\"}], \"scatterpolar\": [{\"marker\": {\"colorbar\": {\"outlinewidth\": 0, \"ticks\": \"\"}}, \"type\": \"scatterpolar\"}], \"scatterpolargl\": [{\"marker\": {\"colorbar\": {\"outlinewidth\": 0, \"ticks\": \"\"}}, \"type\": \"scatterpolargl\"}], \"scatterternary\": [{\"marker\": {\"colorbar\": {\"outlinewidth\": 0, \"ticks\": \"\"}}, \"type\": \"scatterternary\"}], \"surface\": [{\"colorbar\": {\"outlinewidth\": 0, \"ticks\": \"\"}, \"colorscale\": [[0.0, \"#0d0887\"], [0.1111111111111111, \"#46039f\"], [0.2222222222222222, \"#7201a8\"], [0.3333333333333333, \"#9c179e\"], [0.4444444444444444, \"#bd3786\"], [0.5555555555555556, \"#d8576b\"], [0.6666666666666666, \"#ed7953\"], [0.7777777777777778, \"#fb9f3a\"], [0.8888888888888888, \"#fdca26\"], [1.0, \"#f0f921\"]], \"type\": \"surface\"}], \"table\": [{\"cells\": {\"fill\": {\"color\": \"#EBF0F8\"}, \"line\": {\"color\": \"white\"}}, \"header\": {\"fill\": {\"color\": \"#C8D4E3\"}, \"line\": {\"color\": \"white\"}}, \"type\": \"table\"}]}, \"layout\": {\"annotationdefaults\": {\"arrowcolor\": \"#2a3f5f\", \"arrowhead\": 0, \"arrowwidth\": 1}, \"autotypenumbers\": \"strict\", \"coloraxis\": {\"colorbar\": {\"outlinewidth\": 0, \"ticks\": \"\"}}, \"colorscale\": {\"diverging\": [[0, \"#8e0152\"], [0.1, \"#c51b7d\"], [0.2, \"#de77ae\"], [0.3, \"#f1b6da\"], [0.4, \"#fde0ef\"], [0.5, \"#f7f7f7\"], [0.6, \"#e6f5d0\"], [0.7, \"#b8e186\"], [0.8, \"#7fbc41\"], [0.9, \"#4d9221\"], [1, \"#276419\"]], \"sequential\": [[0.0, \"#0d0887\"], [0.1111111111111111, \"#46039f\"], [0.2222222222222222, \"#7201a8\"], [0.3333333333333333, \"#9c179e\"], [0.4444444444444444, \"#bd3786\"], [0.5555555555555556, \"#d8576b\"], [0.6666666666666666, \"#ed7953\"], [0.7777777777777778, \"#fb9f3a\"], [0.8888888888888888, \"#fdca26\"], [1.0, \"#f0f921\"]], \"sequentialminus\": [[0.0, \"#0d0887\"], [0.1111111111111111, \"#46039f\"], [0.2222222222222222, \"#7201a8\"], [0.3333333333333333, \"#9c179e\"], [0.4444444444444444, \"#bd3786\"], [0.5555555555555556, \"#d8576b\"], [0.6666666666666666, \"#ed7953\"], [0.7777777777777778, \"#fb9f3a\"], [0.8888888888888888, \"#fdca26\"], [1.0, \"#f0f921\"]]}, \"colorway\": [\"#636efa\", \"#EF553B\", \"#00cc96\", \"#ab63fa\", \"#FFA15A\", \"#19d3f3\", \"#FF6692\", \"#B6E880\", \"#FF97FF\", \"#FECB52\"], \"font\": {\"color\": \"#2a3f5f\"}, \"geo\": {\"bgcolor\": \"white\", \"lakecolor\": \"white\", \"landcolor\": \"#E5ECF6\", \"showlakes\": true, \"showland\": true, \"subunitcolor\": \"white\"}, \"hoverlabel\": {\"align\": \"left\"}, \"hovermode\": \"closest\", \"mapbox\": {\"style\": \"light\"}, \"paper_bgcolor\": \"white\", \"plot_bgcolor\": \"#E5ECF6\", \"polar\": {\"angularaxis\": {\"gridcolor\": \"white\", \"linecolor\": \"white\", \"ticks\": \"\"}, \"bgcolor\": \"#E5ECF6\", \"radialaxis\": {\"gridcolor\": \"white\", \"linecolor\": \"white\", \"ticks\": \"\"}}, \"scene\": {\"xaxis\": {\"backgroundcolor\": \"#E5ECF6\", \"gridcolor\": \"white\", \"gridwidth\": 2, \"linecolor\": \"white\", \"showbackground\": true, \"ticks\": \"\", \"zerolinecolor\": \"white\"}, \"yaxis\": {\"backgroundcolor\": \"#E5ECF6\", \"gridcolor\": \"white\", \"gridwidth\": 2, \"linecolor\": \"white\", \"showbackground\": true, \"ticks\": \"\", \"zerolinecolor\": \"white\"}, \"zaxis\": {\"backgroundcolor\": \"#E5ECF6\", \"gridcolor\": \"white\", \"gridwidth\": 2, \"linecolor\": \"white\", \"showbackground\": true, \"ticks\": \"\", \"zerolinecolor\": \"white\"}}, \"shapedefaults\": {\"line\": {\"color\": \"#2a3f5f\"}}, \"ternary\": {\"aaxis\": {\"gridcolor\": \"white\", \"linecolor\": \"white\", \"ticks\": \"\"}, \"baxis\": {\"gridcolor\": \"white\", \"linecolor\": \"white\", \"ticks\": \"\"}, \"bgcolor\": \"#E5ECF6\", \"caxis\": {\"gridcolor\": \"white\", \"linecolor\": \"white\", \"ticks\": \"\"}}, \"title\": {\"x\": 0.05}, \"xaxis\": {\"automargin\": true, \"gridcolor\": \"white\", \"linecolor\": \"white\", \"ticks\": \"\", \"title\": {\"standoff\": 15}, \"zerolinecolor\": \"white\", \"zerolinewidth\": 2}, \"yaxis\": {\"automargin\": true, \"gridcolor\": \"white\", \"linecolor\": \"white\", \"ticks\": \"\", \"title\": {\"standoff\": 15}, \"zerolinecolor\": \"white\", \"zerolinewidth\": 2}}}},                        {\"responsive\": true}                    ).then(function(){\n",
       "                            \n",
       "var gd = document.getElementById('9b056643-3ec7-4543-ac89-52b5f2e324a1');\n",
       "var x = new MutationObserver(function (mutations, observer) {{\n",
       "        var display = window.getComputedStyle(gd).display;\n",
       "        if (!display || display === 'none') {{\n",
       "            console.log([gd, 'removed!']);\n",
       "            Plotly.purge(gd);\n",
       "            observer.disconnect();\n",
       "        }}\n",
       "}});\n",
       "\n",
       "// Listen for the removal of the full notebook cells\n",
       "var notebookContainer = gd.closest('#notebook-container');\n",
       "if (notebookContainer) {{\n",
       "    x.observe(notebookContainer, {childList: true});\n",
       "}}\n",
       "\n",
       "// Listen for the clearing of the current output cell\n",
       "var outputEl = gd.closest('.output');\n",
       "if (outputEl) {{\n",
       "    x.observe(outputEl, {childList: true});\n",
       "}}\n",
       "\n",
       "                        })                };                });            </script>        </div>"
      ]
     },
     "metadata": {},
     "output_type": "display_data"
    }
   ],
   "source": [
    "import plotly.express as px\n",
    "fig = px.pie(data_pxteext, values='acc_confirmed_max_sum', names='Continents', \n",
    "             hole=.3, \n",
    "             color_discrete_sequence=px.colors.sequential.RdBu)\n",
    "fig.update_traces(textposition='inside', textinfo='percent+label')\n",
    "fig"
   ]
  },
  {
   "cell_type": "code",
   "execution_count": 121,
   "id": "a760f08d",
   "metadata": {},
   "outputs": [
    {
     "data": {
      "text/plain": [
       "['Africa', 'Asia', 'Europe', 'North America', 'Oceania', 'South America']"
      ]
     },
     "execution_count": 121,
     "metadata": {},
     "output_type": "execute_result"
    }
   ],
   "source": [
    "labels = list(data_pxteext['Continents'])\n",
    "labels"
   ]
  },
  {
   "cell_type": "code",
   "execution_count": 124,
   "id": "c6211870",
   "metadata": {},
   "outputs": [
    {
     "data": {
      "text/plain": [
       "[24, 61, 4752, 694, 12, 56]"
      ]
     },
     "execution_count": 124,
     "metadata": {},
     "output_type": "execute_result"
    }
   ],
   "source": [
    "values = list(data_pxteext['acc_confirmed_max_sum'])\n",
    "values"
   ]
  },
  {
   "cell_type": "code",
   "execution_count": 141,
   "id": "ce9659db",
   "metadata": {},
   "outputs": [
    {
     "data": {
      "application/vnd.plotly.v1+json": {
       "config": {
        "plotlyServerURL": "https://plotly.com"
       },
       "data": [
        {
         "hole": 0.3,
         "insidetextorientation": "radial",
         "labels": [
          "Africa",
          "Asia",
          "Europe",
          "North America",
          "Oceania",
          "South America"
         ],
         "textinfo": "label+percent",
         "textposition": "inside",
         "type": "pie",
         "values": [
          24,
          61,
          4752,
          694,
          12,
          56
         ]
        }
       ],
       "layout": {
        "template": {
         "data": {
          "bar": [
           {
            "error_x": {
             "color": "#2a3f5f"
            },
            "error_y": {
             "color": "#2a3f5f"
            },
            "marker": {
             "line": {
              "color": "#E5ECF6",
              "width": 0.5
             }
            },
            "type": "bar"
           }
          ],
          "barpolar": [
           {
            "marker": {
             "line": {
              "color": "#E5ECF6",
              "width": 0.5
             }
            },
            "type": "barpolar"
           }
          ],
          "carpet": [
           {
            "aaxis": {
             "endlinecolor": "#2a3f5f",
             "gridcolor": "white",
             "linecolor": "white",
             "minorgridcolor": "white",
             "startlinecolor": "#2a3f5f"
            },
            "baxis": {
             "endlinecolor": "#2a3f5f",
             "gridcolor": "white",
             "linecolor": "white",
             "minorgridcolor": "white",
             "startlinecolor": "#2a3f5f"
            },
            "type": "carpet"
           }
          ],
          "choropleth": [
           {
            "colorbar": {
             "outlinewidth": 0,
             "ticks": ""
            },
            "type": "choropleth"
           }
          ],
          "contour": [
           {
            "colorbar": {
             "outlinewidth": 0,
             "ticks": ""
            },
            "colorscale": [
             [
              0,
              "#0d0887"
             ],
             [
              0.1111111111111111,
              "#46039f"
             ],
             [
              0.2222222222222222,
              "#7201a8"
             ],
             [
              0.3333333333333333,
              "#9c179e"
             ],
             [
              0.4444444444444444,
              "#bd3786"
             ],
             [
              0.5555555555555556,
              "#d8576b"
             ],
             [
              0.6666666666666666,
              "#ed7953"
             ],
             [
              0.7777777777777778,
              "#fb9f3a"
             ],
             [
              0.8888888888888888,
              "#fdca26"
             ],
             [
              1,
              "#f0f921"
             ]
            ],
            "type": "contour"
           }
          ],
          "contourcarpet": [
           {
            "colorbar": {
             "outlinewidth": 0,
             "ticks": ""
            },
            "type": "contourcarpet"
           }
          ],
          "heatmap": [
           {
            "colorbar": {
             "outlinewidth": 0,
             "ticks": ""
            },
            "colorscale": [
             [
              0,
              "#0d0887"
             ],
             [
              0.1111111111111111,
              "#46039f"
             ],
             [
              0.2222222222222222,
              "#7201a8"
             ],
             [
              0.3333333333333333,
              "#9c179e"
             ],
             [
              0.4444444444444444,
              "#bd3786"
             ],
             [
              0.5555555555555556,
              "#d8576b"
             ],
             [
              0.6666666666666666,
              "#ed7953"
             ],
             [
              0.7777777777777778,
              "#fb9f3a"
             ],
             [
              0.8888888888888888,
              "#fdca26"
             ],
             [
              1,
              "#f0f921"
             ]
            ],
            "type": "heatmap"
           }
          ],
          "heatmapgl": [
           {
            "colorbar": {
             "outlinewidth": 0,
             "ticks": ""
            },
            "colorscale": [
             [
              0,
              "#0d0887"
             ],
             [
              0.1111111111111111,
              "#46039f"
             ],
             [
              0.2222222222222222,
              "#7201a8"
             ],
             [
              0.3333333333333333,
              "#9c179e"
             ],
             [
              0.4444444444444444,
              "#bd3786"
             ],
             [
              0.5555555555555556,
              "#d8576b"
             ],
             [
              0.6666666666666666,
              "#ed7953"
             ],
             [
              0.7777777777777778,
              "#fb9f3a"
             ],
             [
              0.8888888888888888,
              "#fdca26"
             ],
             [
              1,
              "#f0f921"
             ]
            ],
            "type": "heatmapgl"
           }
          ],
          "histogram": [
           {
            "marker": {
             "colorbar": {
              "outlinewidth": 0,
              "ticks": ""
             }
            },
            "type": "histogram"
           }
          ],
          "histogram2d": [
           {
            "colorbar": {
             "outlinewidth": 0,
             "ticks": ""
            },
            "colorscale": [
             [
              0,
              "#0d0887"
             ],
             [
              0.1111111111111111,
              "#46039f"
             ],
             [
              0.2222222222222222,
              "#7201a8"
             ],
             [
              0.3333333333333333,
              "#9c179e"
             ],
             [
              0.4444444444444444,
              "#bd3786"
             ],
             [
              0.5555555555555556,
              "#d8576b"
             ],
             [
              0.6666666666666666,
              "#ed7953"
             ],
             [
              0.7777777777777778,
              "#fb9f3a"
             ],
             [
              0.8888888888888888,
              "#fdca26"
             ],
             [
              1,
              "#f0f921"
             ]
            ],
            "type": "histogram2d"
           }
          ],
          "histogram2dcontour": [
           {
            "colorbar": {
             "outlinewidth": 0,
             "ticks": ""
            },
            "colorscale": [
             [
              0,
              "#0d0887"
             ],
             [
              0.1111111111111111,
              "#46039f"
             ],
             [
              0.2222222222222222,
              "#7201a8"
             ],
             [
              0.3333333333333333,
              "#9c179e"
             ],
             [
              0.4444444444444444,
              "#bd3786"
             ],
             [
              0.5555555555555556,
              "#d8576b"
             ],
             [
              0.6666666666666666,
              "#ed7953"
             ],
             [
              0.7777777777777778,
              "#fb9f3a"
             ],
             [
              0.8888888888888888,
              "#fdca26"
             ],
             [
              1,
              "#f0f921"
             ]
            ],
            "type": "histogram2dcontour"
           }
          ],
          "mesh3d": [
           {
            "colorbar": {
             "outlinewidth": 0,
             "ticks": ""
            },
            "type": "mesh3d"
           }
          ],
          "parcoords": [
           {
            "line": {
             "colorbar": {
              "outlinewidth": 0,
              "ticks": ""
             }
            },
            "type": "parcoords"
           }
          ],
          "pie": [
           {
            "automargin": true,
            "type": "pie"
           }
          ],
          "scatter": [
           {
            "marker": {
             "colorbar": {
              "outlinewidth": 0,
              "ticks": ""
             }
            },
            "type": "scatter"
           }
          ],
          "scatter3d": [
           {
            "line": {
             "colorbar": {
              "outlinewidth": 0,
              "ticks": ""
             }
            },
            "marker": {
             "colorbar": {
              "outlinewidth": 0,
              "ticks": ""
             }
            },
            "type": "scatter3d"
           }
          ],
          "scattercarpet": [
           {
            "marker": {
             "colorbar": {
              "outlinewidth": 0,
              "ticks": ""
             }
            },
            "type": "scattercarpet"
           }
          ],
          "scattergeo": [
           {
            "marker": {
             "colorbar": {
              "outlinewidth": 0,
              "ticks": ""
             }
            },
            "type": "scattergeo"
           }
          ],
          "scattergl": [
           {
            "marker": {
             "colorbar": {
              "outlinewidth": 0,
              "ticks": ""
             }
            },
            "type": "scattergl"
           }
          ],
          "scattermapbox": [
           {
            "marker": {
             "colorbar": {
              "outlinewidth": 0,
              "ticks": ""
             }
            },
            "type": "scattermapbox"
           }
          ],
          "scatterpolar": [
           {
            "marker": {
             "colorbar": {
              "outlinewidth": 0,
              "ticks": ""
             }
            },
            "type": "scatterpolar"
           }
          ],
          "scatterpolargl": [
           {
            "marker": {
             "colorbar": {
              "outlinewidth": 0,
              "ticks": ""
             }
            },
            "type": "scatterpolargl"
           }
          ],
          "scatterternary": [
           {
            "marker": {
             "colorbar": {
              "outlinewidth": 0,
              "ticks": ""
             }
            },
            "type": "scatterternary"
           }
          ],
          "surface": [
           {
            "colorbar": {
             "outlinewidth": 0,
             "ticks": ""
            },
            "colorscale": [
             [
              0,
              "#0d0887"
             ],
             [
              0.1111111111111111,
              "#46039f"
             ],
             [
              0.2222222222222222,
              "#7201a8"
             ],
             [
              0.3333333333333333,
              "#9c179e"
             ],
             [
              0.4444444444444444,
              "#bd3786"
             ],
             [
              0.5555555555555556,
              "#d8576b"
             ],
             [
              0.6666666666666666,
              "#ed7953"
             ],
             [
              0.7777777777777778,
              "#fb9f3a"
             ],
             [
              0.8888888888888888,
              "#fdca26"
             ],
             [
              1,
              "#f0f921"
             ]
            ],
            "type": "surface"
           }
          ],
          "table": [
           {
            "cells": {
             "fill": {
              "color": "#EBF0F8"
             },
             "line": {
              "color": "white"
             }
            },
            "header": {
             "fill": {
              "color": "#C8D4E3"
             },
             "line": {
              "color": "white"
             }
            },
            "type": "table"
           }
          ]
         },
         "layout": {
          "annotationdefaults": {
           "arrowcolor": "#2a3f5f",
           "arrowhead": 0,
           "arrowwidth": 1
          },
          "autotypenumbers": "strict",
          "coloraxis": {
           "colorbar": {
            "outlinewidth": 0,
            "ticks": ""
           }
          },
          "colorscale": {
           "diverging": [
            [
             0,
             "#8e0152"
            ],
            [
             0.1,
             "#c51b7d"
            ],
            [
             0.2,
             "#de77ae"
            ],
            [
             0.3,
             "#f1b6da"
            ],
            [
             0.4,
             "#fde0ef"
            ],
            [
             0.5,
             "#f7f7f7"
            ],
            [
             0.6,
             "#e6f5d0"
            ],
            [
             0.7,
             "#b8e186"
            ],
            [
             0.8,
             "#7fbc41"
            ],
            [
             0.9,
             "#4d9221"
            ],
            [
             1,
             "#276419"
            ]
           ],
           "sequential": [
            [
             0,
             "#0d0887"
            ],
            [
             0.1111111111111111,
             "#46039f"
            ],
            [
             0.2222222222222222,
             "#7201a8"
            ],
            [
             0.3333333333333333,
             "#9c179e"
            ],
            [
             0.4444444444444444,
             "#bd3786"
            ],
            [
             0.5555555555555556,
             "#d8576b"
            ],
            [
             0.6666666666666666,
             "#ed7953"
            ],
            [
             0.7777777777777778,
             "#fb9f3a"
            ],
            [
             0.8888888888888888,
             "#fdca26"
            ],
            [
             1,
             "#f0f921"
            ]
           ],
           "sequentialminus": [
            [
             0,
             "#0d0887"
            ],
            [
             0.1111111111111111,
             "#46039f"
            ],
            [
             0.2222222222222222,
             "#7201a8"
            ],
            [
             0.3333333333333333,
             "#9c179e"
            ],
            [
             0.4444444444444444,
             "#bd3786"
            ],
            [
             0.5555555555555556,
             "#d8576b"
            ],
            [
             0.6666666666666666,
             "#ed7953"
            ],
            [
             0.7777777777777778,
             "#fb9f3a"
            ],
            [
             0.8888888888888888,
             "#fdca26"
            ],
            [
             1,
             "#f0f921"
            ]
           ]
          },
          "colorway": [
           "#636efa",
           "#EF553B",
           "#00cc96",
           "#ab63fa",
           "#FFA15A",
           "#19d3f3",
           "#FF6692",
           "#B6E880",
           "#FF97FF",
           "#FECB52"
          ],
          "font": {
           "color": "#2a3f5f"
          },
          "geo": {
           "bgcolor": "white",
           "lakecolor": "white",
           "landcolor": "#E5ECF6",
           "showlakes": true,
           "showland": true,
           "subunitcolor": "white"
          },
          "hoverlabel": {
           "align": "left"
          },
          "hovermode": "closest",
          "mapbox": {
           "style": "light"
          },
          "paper_bgcolor": "white",
          "plot_bgcolor": "#E5ECF6",
          "polar": {
           "angularaxis": {
            "gridcolor": "white",
            "linecolor": "white",
            "ticks": ""
           },
           "bgcolor": "#E5ECF6",
           "radialaxis": {
            "gridcolor": "white",
            "linecolor": "white",
            "ticks": ""
           }
          },
          "scene": {
           "xaxis": {
            "backgroundcolor": "#E5ECF6",
            "gridcolor": "white",
            "gridwidth": 2,
            "linecolor": "white",
            "showbackground": true,
            "ticks": "",
            "zerolinecolor": "white"
           },
           "yaxis": {
            "backgroundcolor": "#E5ECF6",
            "gridcolor": "white",
            "gridwidth": 2,
            "linecolor": "white",
            "showbackground": true,
            "ticks": "",
            "zerolinecolor": "white"
           },
           "zaxis": {
            "backgroundcolor": "#E5ECF6",
            "gridcolor": "white",
            "gridwidth": 2,
            "linecolor": "white",
            "showbackground": true,
            "ticks": "",
            "zerolinecolor": "white"
           }
          },
          "shapedefaults": {
           "line": {
            "color": "#2a3f5f"
           }
          },
          "ternary": {
           "aaxis": {
            "gridcolor": "white",
            "linecolor": "white",
            "ticks": ""
           },
           "baxis": {
            "gridcolor": "white",
            "linecolor": "white",
            "ticks": ""
           },
           "bgcolor": "#E5ECF6",
           "caxis": {
            "gridcolor": "white",
            "linecolor": "white",
            "ticks": ""
           }
          },
          "title": {
           "x": 0.05
          },
          "xaxis": {
           "automargin": true,
           "gridcolor": "white",
           "linecolor": "white",
           "ticks": "",
           "title": {
            "standoff": 15
           },
           "zerolinecolor": "white",
           "zerolinewidth": 2
          },
          "yaxis": {
           "automargin": true,
           "gridcolor": "white",
           "linecolor": "white",
           "ticks": "",
           "title": {
            "standoff": 15
           },
           "zerolinecolor": "white",
           "zerolinewidth": 2
          }
         }
        },
        "title": {
         "text": "Percent of Cases per Continent"
        }
       }
      },
      "text/html": [
       "<div>                            <div id=\"6043b5fe-b001-4c9e-b2f8-be10c2f0bd59\" class=\"plotly-graph-div\" style=\"height:525px; width:100%;\"></div>            <script type=\"text/javascript\">                require([\"plotly\"], function(Plotly) {                    window.PLOTLYENV=window.PLOTLYENV || {};                                    if (document.getElementById(\"6043b5fe-b001-4c9e-b2f8-be10c2f0bd59\")) {                    Plotly.newPlot(                        \"6043b5fe-b001-4c9e-b2f8-be10c2f0bd59\",                        [{\"hole\": 0.3, \"insidetextorientation\": \"radial\", \"labels\": [\"Africa\", \"Asia\", \"Europe\", \"North America\", \"Oceania\", \"South America\"], \"textinfo\": \"label+percent\", \"textposition\": \"inside\", \"type\": \"pie\", \"values\": [24, 61, 4752, 694, 12, 56]}],                        {\"template\": {\"data\": {\"bar\": [{\"error_x\": {\"color\": \"#2a3f5f\"}, \"error_y\": {\"color\": \"#2a3f5f\"}, \"marker\": {\"line\": {\"color\": \"#E5ECF6\", \"width\": 0.5}}, \"type\": \"bar\"}], \"barpolar\": [{\"marker\": {\"line\": {\"color\": \"#E5ECF6\", \"width\": 0.5}}, \"type\": \"barpolar\"}], \"carpet\": [{\"aaxis\": {\"endlinecolor\": \"#2a3f5f\", \"gridcolor\": \"white\", \"linecolor\": \"white\", \"minorgridcolor\": \"white\", \"startlinecolor\": \"#2a3f5f\"}, \"baxis\": {\"endlinecolor\": \"#2a3f5f\", \"gridcolor\": \"white\", \"linecolor\": \"white\", \"minorgridcolor\": \"white\", \"startlinecolor\": \"#2a3f5f\"}, \"type\": \"carpet\"}], \"choropleth\": [{\"colorbar\": {\"outlinewidth\": 0, \"ticks\": \"\"}, \"type\": \"choropleth\"}], \"contour\": [{\"colorbar\": {\"outlinewidth\": 0, \"ticks\": \"\"}, \"colorscale\": [[0.0, \"#0d0887\"], [0.1111111111111111, \"#46039f\"], [0.2222222222222222, \"#7201a8\"], [0.3333333333333333, \"#9c179e\"], [0.4444444444444444, \"#bd3786\"], [0.5555555555555556, \"#d8576b\"], [0.6666666666666666, \"#ed7953\"], [0.7777777777777778, \"#fb9f3a\"], [0.8888888888888888, \"#fdca26\"], [1.0, \"#f0f921\"]], \"type\": \"contour\"}], \"contourcarpet\": [{\"colorbar\": {\"outlinewidth\": 0, \"ticks\": \"\"}, \"type\": \"contourcarpet\"}], \"heatmap\": [{\"colorbar\": {\"outlinewidth\": 0, \"ticks\": \"\"}, \"colorscale\": [[0.0, \"#0d0887\"], [0.1111111111111111, \"#46039f\"], [0.2222222222222222, \"#7201a8\"], [0.3333333333333333, \"#9c179e\"], [0.4444444444444444, \"#bd3786\"], [0.5555555555555556, \"#d8576b\"], [0.6666666666666666, \"#ed7953\"], [0.7777777777777778, \"#fb9f3a\"], [0.8888888888888888, \"#fdca26\"], [1.0, \"#f0f921\"]], \"type\": \"heatmap\"}], \"heatmapgl\": [{\"colorbar\": {\"outlinewidth\": 0, \"ticks\": \"\"}, \"colorscale\": [[0.0, \"#0d0887\"], [0.1111111111111111, \"#46039f\"], [0.2222222222222222, \"#7201a8\"], [0.3333333333333333, \"#9c179e\"], [0.4444444444444444, \"#bd3786\"], [0.5555555555555556, \"#d8576b\"], [0.6666666666666666, \"#ed7953\"], [0.7777777777777778, \"#fb9f3a\"], [0.8888888888888888, \"#fdca26\"], [1.0, \"#f0f921\"]], \"type\": \"heatmapgl\"}], \"histogram\": [{\"marker\": {\"colorbar\": {\"outlinewidth\": 0, \"ticks\": \"\"}}, \"type\": \"histogram\"}], \"histogram2d\": [{\"colorbar\": {\"outlinewidth\": 0, \"ticks\": \"\"}, \"colorscale\": [[0.0, \"#0d0887\"], [0.1111111111111111, \"#46039f\"], [0.2222222222222222, \"#7201a8\"], [0.3333333333333333, \"#9c179e\"], [0.4444444444444444, \"#bd3786\"], [0.5555555555555556, \"#d8576b\"], [0.6666666666666666, \"#ed7953\"], [0.7777777777777778, \"#fb9f3a\"], [0.8888888888888888, \"#fdca26\"], [1.0, \"#f0f921\"]], \"type\": \"histogram2d\"}], \"histogram2dcontour\": [{\"colorbar\": {\"outlinewidth\": 0, \"ticks\": \"\"}, \"colorscale\": [[0.0, \"#0d0887\"], [0.1111111111111111, \"#46039f\"], [0.2222222222222222, \"#7201a8\"], [0.3333333333333333, \"#9c179e\"], [0.4444444444444444, \"#bd3786\"], [0.5555555555555556, \"#d8576b\"], [0.6666666666666666, \"#ed7953\"], [0.7777777777777778, \"#fb9f3a\"], [0.8888888888888888, \"#fdca26\"], [1.0, \"#f0f921\"]], \"type\": \"histogram2dcontour\"}], \"mesh3d\": [{\"colorbar\": {\"outlinewidth\": 0, \"ticks\": \"\"}, \"type\": \"mesh3d\"}], \"parcoords\": [{\"line\": {\"colorbar\": {\"outlinewidth\": 0, \"ticks\": \"\"}}, \"type\": \"parcoords\"}], \"pie\": [{\"automargin\": true, \"type\": \"pie\"}], \"scatter\": [{\"marker\": {\"colorbar\": {\"outlinewidth\": 0, \"ticks\": \"\"}}, \"type\": \"scatter\"}], \"scatter3d\": [{\"line\": {\"colorbar\": {\"outlinewidth\": 0, \"ticks\": \"\"}}, \"marker\": {\"colorbar\": {\"outlinewidth\": 0, \"ticks\": \"\"}}, \"type\": \"scatter3d\"}], \"scattercarpet\": [{\"marker\": {\"colorbar\": {\"outlinewidth\": 0, \"ticks\": \"\"}}, \"type\": \"scattercarpet\"}], \"scattergeo\": [{\"marker\": {\"colorbar\": {\"outlinewidth\": 0, \"ticks\": \"\"}}, \"type\": \"scattergeo\"}], \"scattergl\": [{\"marker\": {\"colorbar\": {\"outlinewidth\": 0, \"ticks\": \"\"}}, \"type\": \"scattergl\"}], \"scattermapbox\": [{\"marker\": {\"colorbar\": {\"outlinewidth\": 0, \"ticks\": \"\"}}, \"type\": \"scattermapbox\"}], \"scatterpolar\": [{\"marker\": {\"colorbar\": {\"outlinewidth\": 0, \"ticks\": \"\"}}, \"type\": \"scatterpolar\"}], \"scatterpolargl\": [{\"marker\": {\"colorbar\": {\"outlinewidth\": 0, \"ticks\": \"\"}}, \"type\": \"scatterpolargl\"}], \"scatterternary\": [{\"marker\": {\"colorbar\": {\"outlinewidth\": 0, \"ticks\": \"\"}}, \"type\": \"scatterternary\"}], \"surface\": [{\"colorbar\": {\"outlinewidth\": 0, \"ticks\": \"\"}, \"colorscale\": [[0.0, \"#0d0887\"], [0.1111111111111111, \"#46039f\"], [0.2222222222222222, \"#7201a8\"], [0.3333333333333333, \"#9c179e\"], [0.4444444444444444, \"#bd3786\"], [0.5555555555555556, \"#d8576b\"], [0.6666666666666666, \"#ed7953\"], [0.7777777777777778, \"#fb9f3a\"], [0.8888888888888888, \"#fdca26\"], [1.0, \"#f0f921\"]], \"type\": \"surface\"}], \"table\": [{\"cells\": {\"fill\": {\"color\": \"#EBF0F8\"}, \"line\": {\"color\": \"white\"}}, \"header\": {\"fill\": {\"color\": \"#C8D4E3\"}, \"line\": {\"color\": \"white\"}}, \"type\": \"table\"}]}, \"layout\": {\"annotationdefaults\": {\"arrowcolor\": \"#2a3f5f\", \"arrowhead\": 0, \"arrowwidth\": 1}, \"autotypenumbers\": \"strict\", \"coloraxis\": {\"colorbar\": {\"outlinewidth\": 0, \"ticks\": \"\"}}, \"colorscale\": {\"diverging\": [[0, \"#8e0152\"], [0.1, \"#c51b7d\"], [0.2, \"#de77ae\"], [0.3, \"#f1b6da\"], [0.4, \"#fde0ef\"], [0.5, \"#f7f7f7\"], [0.6, \"#e6f5d0\"], [0.7, \"#b8e186\"], [0.8, \"#7fbc41\"], [0.9, \"#4d9221\"], [1, \"#276419\"]], \"sequential\": [[0.0, \"#0d0887\"], [0.1111111111111111, \"#46039f\"], [0.2222222222222222, \"#7201a8\"], [0.3333333333333333, \"#9c179e\"], [0.4444444444444444, \"#bd3786\"], [0.5555555555555556, \"#d8576b\"], [0.6666666666666666, \"#ed7953\"], [0.7777777777777778, \"#fb9f3a\"], [0.8888888888888888, \"#fdca26\"], [1.0, \"#f0f921\"]], \"sequentialminus\": [[0.0, \"#0d0887\"], [0.1111111111111111, \"#46039f\"], [0.2222222222222222, \"#7201a8\"], [0.3333333333333333, \"#9c179e\"], [0.4444444444444444, \"#bd3786\"], [0.5555555555555556, \"#d8576b\"], [0.6666666666666666, \"#ed7953\"], [0.7777777777777778, \"#fb9f3a\"], [0.8888888888888888, \"#fdca26\"], [1.0, \"#f0f921\"]]}, \"colorway\": [\"#636efa\", \"#EF553B\", \"#00cc96\", \"#ab63fa\", \"#FFA15A\", \"#19d3f3\", \"#FF6692\", \"#B6E880\", \"#FF97FF\", \"#FECB52\"], \"font\": {\"color\": \"#2a3f5f\"}, \"geo\": {\"bgcolor\": \"white\", \"lakecolor\": \"white\", \"landcolor\": \"#E5ECF6\", \"showlakes\": true, \"showland\": true, \"subunitcolor\": \"white\"}, \"hoverlabel\": {\"align\": \"left\"}, \"hovermode\": \"closest\", \"mapbox\": {\"style\": \"light\"}, \"paper_bgcolor\": \"white\", \"plot_bgcolor\": \"#E5ECF6\", \"polar\": {\"angularaxis\": {\"gridcolor\": \"white\", \"linecolor\": \"white\", \"ticks\": \"\"}, \"bgcolor\": \"#E5ECF6\", \"radialaxis\": {\"gridcolor\": \"white\", \"linecolor\": \"white\", \"ticks\": \"\"}}, \"scene\": {\"xaxis\": {\"backgroundcolor\": \"#E5ECF6\", \"gridcolor\": \"white\", \"gridwidth\": 2, \"linecolor\": \"white\", \"showbackground\": true, \"ticks\": \"\", \"zerolinecolor\": \"white\"}, \"yaxis\": {\"backgroundcolor\": \"#E5ECF6\", \"gridcolor\": \"white\", \"gridwidth\": 2, \"linecolor\": \"white\", \"showbackground\": true, \"ticks\": \"\", \"zerolinecolor\": \"white\"}, \"zaxis\": {\"backgroundcolor\": \"#E5ECF6\", \"gridcolor\": \"white\", \"gridwidth\": 2, \"linecolor\": \"white\", \"showbackground\": true, \"ticks\": \"\", \"zerolinecolor\": \"white\"}}, \"shapedefaults\": {\"line\": {\"color\": \"#2a3f5f\"}}, \"ternary\": {\"aaxis\": {\"gridcolor\": \"white\", \"linecolor\": \"white\", \"ticks\": \"\"}, \"baxis\": {\"gridcolor\": \"white\", \"linecolor\": \"white\", \"ticks\": \"\"}, \"bgcolor\": \"#E5ECF6\", \"caxis\": {\"gridcolor\": \"white\", \"linecolor\": \"white\", \"ticks\": \"\"}}, \"title\": {\"x\": 0.05}, \"xaxis\": {\"automargin\": true, \"gridcolor\": \"white\", \"linecolor\": \"white\", \"ticks\": \"\", \"title\": {\"standoff\": 15}, \"zerolinecolor\": \"white\", \"zerolinewidth\": 2}, \"yaxis\": {\"automargin\": true, \"gridcolor\": \"white\", \"linecolor\": \"white\", \"ticks\": \"\", \"title\": {\"standoff\": 15}, \"zerolinecolor\": \"white\", \"zerolinewidth\": 2}}}, \"title\": {\"text\": \"Percent of Cases per Continent\"}},                        {\"responsive\": true}                    ).then(function(){\n",
       "                            \n",
       "var gd = document.getElementById('6043b5fe-b001-4c9e-b2f8-be10c2f0bd59');\n",
       "var x = new MutationObserver(function (mutations, observer) {{\n",
       "        var display = window.getComputedStyle(gd).display;\n",
       "        if (!display || display === 'none') {{\n",
       "            console.log([gd, 'removed!']);\n",
       "            Plotly.purge(gd);\n",
       "            observer.disconnect();\n",
       "        }}\n",
       "}});\n",
       "\n",
       "// Listen for the removal of the full notebook cells\n",
       "var notebookContainer = gd.closest('#notebook-container');\n",
       "if (notebookContainer) {{\n",
       "    x.observe(notebookContainer, {childList: true});\n",
       "}}\n",
       "\n",
       "// Listen for the clearing of the current output cell\n",
       "var outputEl = gd.closest('.output');\n",
       "if (outputEl) {{\n",
       "    x.observe(outputEl, {childList: true});\n",
       "}}\n",
       "\n",
       "                        })                };                });            </script>        </div>"
      ]
     },
     "metadata": {},
     "output_type": "display_data"
    }
   ],
   "source": [
    "figpie = go.Figure(data= [go.Pie(\n",
    "    labels = labels,\n",
    "    values = values,\n",
    "    textinfo='label+percent',\n",
    "    textposition = 'inside',\n",
    "    insidetextorientation = 'radial',\n",
    "    hole = .3,\n",
    ")])\n",
    "figpie.update_layout(title = 'Percent of Cases per Continent')\n",
    "\n",
    "figpie.show()"
   ]
  },
  {
   "cell_type": "code",
   "execution_count": null,
   "id": "8b9a0822",
   "metadata": {},
   "outputs": [],
   "source": [
    "# continents table infos\n",
    "\n",
    "infos = {'label':labels, 'data':values}\n"
   ]
  }
 ],
 "metadata": {
  "kernelspec": {
   "display_name": "Python 3",
   "language": "python",
   "name": "python3"
  },
  "language_info": {
   "codemirror_mode": {
    "name": "ipython",
    "version": 3
   },
   "file_extension": ".py",
   "mimetype": "text/x-python",
   "name": "python",
   "nbconvert_exporter": "python",
   "pygments_lexer": "ipython3",
   "version": "3.7.7"
  },
  "nbTranslate": {
   "displayLangs": [
    "*"
   ],
   "hotkey": "alt-t",
   "langInMainMenu": true,
   "sourceLang": "en",
   "targetLang": "fr",
   "useGoogleTranslate": true
  }
 },
 "nbformat": 4,
 "nbformat_minor": 5
}
