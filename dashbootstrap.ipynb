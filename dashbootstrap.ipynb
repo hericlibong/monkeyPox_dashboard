{
 "cells": [
  {
   "cell_type": "code",
   "execution_count": 7,
   "id": "0fbe985c",
   "metadata": {},
   "outputs": [],
   "source": [
    "import pandas as pd\n",
    "import plotly.express as px\n",
    "import plotly.graph_objects as go\n",
    "\n",
    "import bamboolib as bam"
   ]
  },
  {
   "cell_type": "code",
   "execution_count": 5,
   "id": "58f6b471",
   "metadata": {},
   "outputs": [],
   "source": [
    "data = pd.read_csv('df_monkeyPox.csv')"
   ]
  },
  {
   "cell_type": "code",
   "execution_count": 6,
   "id": "6a1d52be",
   "metadata": {},
   "outputs": [
    {
     "data": {
      "application/vnd.jupyter.widget-view+json": {
       "model_id": "417f88cf124d4e529ff50a8a775bfd48"
      },
      "text/plain": [
       "        Country        date  confirmed  acc_confirmed   latitude  longitude\n",
       "0     Argentina  2022-05-01          0              0 -38.416097 -63.616672\n",
       "1     Argentina  2022-05-02          0              0 -38.416097 -63.616672\n",
       "2     Argentina  2022-05-03          0              0 -38.416097 -63.616672\n",
       "3     Argentina  2022-05-04          0              0 -38.416097 -63.616672\n",
       "4     Argentina  2022-05-05          0              0 -38.416097 -63.616672\n",
       "...         ...         ...        ...            ...        ...        ...\n",
       "1734      World  2022-06-12        106           1592   0.000000   0.000000\n",
       "1735      World  2022-06-13         57           1649   0.000000   0.000000\n",
       "1736      World  2022-06-14        225           1874   0.000000   0.000000\n",
       "1737      World  2022-06-15        139           2013   0.000000   0.000000\n",
       "1738      World  2022-06-16         70           2083   0.000000   0.000000\n",
       "\n",
       "[1739 rows x 6 columns]"
      ]
     },
     "metadata": {},
     "output_type": "display_data"
    }
   ],
   "source": [
    "data"
   ]
  },
  {
   "cell_type": "code",
   "execution_count": 8,
   "id": "cd7a4cb2",
   "metadata": {},
   "outputs": [
    {
     "data": {
      "application/vnd.jupyter.widget-view+json": {
       "model_id": "9dcd32041c734c37b528b1242b970e50"
      },
      "text/plain": [
       "        Country        date  confirmed  acc_confirmed   latitude  longitude\n",
       "0     Argentina  2022-05-01          0              0 -38.416097 -63.616672\n",
       "1     Argentina  2022-05-02          0              0 -38.416097 -63.616672\n",
       "2     Argentina  2022-05-03          0              0 -38.416097 -63.616672\n",
       "3     Argentina  2022-05-04          0              0 -38.416097 -63.616672\n",
       "4     Argentina  2022-05-05          0              0 -38.416097 -63.616672\n",
       "...         ...         ...        ...            ...        ...        ...\n",
       "1734      World  2022-06-12        106           1592   0.000000   0.000000\n",
       "1735      World  2022-06-13         57           1649   0.000000   0.000000\n",
       "1736      World  2022-06-14        225           1874   0.000000   0.000000\n",
       "1737      World  2022-06-15        139           2013   0.000000   0.000000\n",
       "1738      World  2022-06-16         70           2083   0.000000   0.000000\n",
       "\n",
       "[1739 rows x 6 columns]"
      ]
     },
     "metadata": {},
     "output_type": "display_data"
    }
   ],
   "source": [
    "data"
   ]
  },
  {
   "cell_type": "code",
   "execution_count": 13,
   "id": "3c4ccf6c",
   "metadata": {},
   "outputs": [
    {
     "data": {
      "application/vnd.jupyter.widget-view+json": {
       "model_id": "83a4492c00eb4acf93353ae4c754b957"
      },
      "text/plain": [
       "                   0\n",
       "Country        World\n",
       "acc_confirmed   2083"
      ]
     },
     "metadata": {},
     "output_type": "display_data"
    }
   ],
   "source": [
    "data[data['Country']=='World'][['Country','acc_confirmed']].max().to_frame()"
   ]
  },
  {
   "cell_type": "code",
   "execution_count": 14,
   "id": "5a4df1c7",
   "metadata": {},
   "outputs": [
    {
     "data": {
      "application/vnd.jupyter.widget-view+json": {
       "model_id": "5749d439627b4dd48df12ffc0163ddca"
      },
      "text/plain": [
       "                   0\n",
       "confirmed  44.319149"
      ]
     },
     "metadata": {},
     "output_type": "display_data"
    }
   ],
   "source": [
    "data[data['Country']=='World'][['Country','confirmed']].mean().to_frame()"
   ]
  },
  {
   "cell_type": "code",
   "execution_count": null,
   "id": "ebff47c0",
   "metadata": {},
   "outputs": [],
   "source": []
  }
 ],
 "metadata": {
  "kernelspec": {
   "display_name": "Python 3",
   "language": "python",
   "name": "python3"
  },
  "language_info": {
   "codemirror_mode": {
    "name": "ipython",
    "version": 3
   },
   "file_extension": ".py",
   "mimetype": "text/x-python",
   "name": "python",
   "nbconvert_exporter": "python",
   "pygments_lexer": "ipython3",
   "version": "3.7.7"
  },
  "nbTranslate": {
   "displayLangs": [
    "*"
   ],
   "hotkey": "alt-t",
   "langInMainMenu": true,
   "sourceLang": "en",
   "targetLang": "fr",
   "useGoogleTranslate": true
  }
 },
 "nbformat": 4,
 "nbformat_minor": 5
}
