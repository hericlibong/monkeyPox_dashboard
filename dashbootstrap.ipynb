{
 "cells": [
  {
   "cell_type": "code",
   "execution_count": 7,
   "id": "4b1140a8",
   "metadata": {},
   "outputs": [],
   "source": [
    "import pandas as pd\n",
    "import plotly.express as px\n",
    "import plotly.graph_objects as go\n",
    "\n",
    "import bamboolib as bam"
   ]
  },
  {
   "cell_type": "code",
   "execution_count": 5,
   "id": "a862e219",
   "metadata": {},
   "outputs": [],
   "source": [
    "data = pd.read_csv('df_monkeyPox.csv')"
   ]
  },
  {
   "cell_type": "code",
   "execution_count": 6,
   "id": "5d4b4cc1",
   "metadata": {},
   "outputs": [
    {
     "data": {
      "application/vnd.jupyter.widget-view+json": {
       "model_id": "417f88cf124d4e529ff50a8a775bfd48"
      },
      "text/plain": [
       "        Country        date  confirmed  acc_confirmed   latitude  longitude\n",
       "0     Argentina  2022-05-01          0              0 -38.416097 -63.616672\n",
       "1     Argentina  2022-05-02          0              0 -38.416097 -63.616672\n",
       "2     Argentina  2022-05-03          0              0 -38.416097 -63.616672\n",
       "3     Argentina  2022-05-04          0              0 -38.416097 -63.616672\n",
       "4     Argentina  2022-05-05          0              0 -38.416097 -63.616672\n",
       "...         ...         ...        ...            ...        ...        ...\n",
       "1734      World  2022-06-12        106           1592   0.000000   0.000000\n",
       "1735      World  2022-06-13         57           1649   0.000000   0.000000\n",
       "1736      World  2022-06-14        225           1874   0.000000   0.000000\n",
       "1737      World  2022-06-15        139           2013   0.000000   0.000000\n",
       "1738      World  2022-06-16         70           2083   0.000000   0.000000\n",
       "\n",
       "[1739 rows x 6 columns]"
      ]
     },
     "metadata": {},
     "output_type": "display_data"
    }
   ],
   "source": [
    "data"
   ]
  },
  {
   "cell_type": "code",
   "execution_count": 8,
   "id": "110f669b",
   "metadata": {},
   "outputs": [
    {
     "data": {
      "application/vnd.jupyter.widget-view+json": {
       "model_id": "9dcd32041c734c37b528b1242b970e50"
      },
      "text/plain": [
       "        Country        date  confirmed  acc_confirmed   latitude  longitude\n",
       "0     Argentina  2022-05-01          0              0 -38.416097 -63.616672\n",
       "1     Argentina  2022-05-02          0              0 -38.416097 -63.616672\n",
       "2     Argentina  2022-05-03          0              0 -38.416097 -63.616672\n",
       "3     Argentina  2022-05-04          0              0 -38.416097 -63.616672\n",
       "4     Argentina  2022-05-05          0              0 -38.416097 -63.616672\n",
       "...         ...         ...        ...            ...        ...        ...\n",
       "1734      World  2022-06-12        106           1592   0.000000   0.000000\n",
       "1735      World  2022-06-13         57           1649   0.000000   0.000000\n",
       "1736      World  2022-06-14        225           1874   0.000000   0.000000\n",
       "1737      World  2022-06-15        139           2013   0.000000   0.000000\n",
       "1738      World  2022-06-16         70           2083   0.000000   0.000000\n",
       "\n",
       "[1739 rows x 6 columns]"
      ]
     },
     "metadata": {},
     "output_type": "display_data"
    }
   ],
   "source": [
    "data"
   ]
  },
  {
   "cell_type": "code",
   "execution_count": 19,
   "id": "1be05e6a",
   "metadata": {},
   "outputs": [],
   "source": [
    "table = data.groupby('Country')['acc_confirmed'].max().sort_values(ascending=False).to_frame()"
   ]
  },
  {
   "cell_type": "code",
   "execution_count": 20,
   "id": "7f0584ab",
   "metadata": {},
   "outputs": [
    {
     "data": {
      "application/vnd.jupyter.widget-view+json": {
       "model_id": "076838648fa6427bab3c83a91a855ce4"
      },
      "text/plain": [
       "                      acc_confirmed\n",
       "Country                            \n",
       "World                          2083\n",
       "England                         504\n",
       "Spain                           313\n",
       "Germany                         271\n",
       "Portugal                        241\n",
       "Canada                          167\n",
       "France                          125\n",
       "United States                   100\n",
       "Netherlands                      95\n",
       "Belgium                          52\n",
       "Italy                            48\n",
       "Switzerland                      28\n",
       "United Arab Emirates             13\n",
       "Australia                        13\n",
       "Scotland                         13\n",
       "Poland                           12\n",
       "Ireland                          10\n",
       "Sweden                           10\n",
       "Denmark                           8\n",
       "Slovenia                          7\n",
       "Czech Republic                    6\n",
       "Argentina                         5\n",
       "Wales                             5\n",
       "Israel                            5\n",
       "Ghana                             5\n",
       "Austria                           4\n",
       "Brazil                            3\n",
       "Finland                           3\n",
       "Mexico                            3\n",
       "Hungary                           3\n",
       "Norway                            2\n",
       "Latvia                            2\n",
       "Greece                            2\n",
       "Northern Ireland                  2\n",
       "Morocco                           1\n",
       "Malta                             1\n",
       "Gibraltar                         1"
      ]
     },
     "metadata": {},
     "output_type": "display_data"
    }
   ],
   "source": [
    "table = table.reset_index()\n",
    "table"
   ]
  },
  {
   "cell_type": "code",
   "execution_count": null,
   "id": "0774ac94",
   "metadata": {},
   "outputs": [],
   "source": []
  }
 ],
 "metadata": {
  "kernelspec": {
   "display_name": "Python 3",
   "language": "python",
   "name": "python3"
  },
  "language_info": {
   "codemirror_mode": {
    "name": "ipython",
    "version": 3
   },
   "file_extension": ".py",
   "mimetype": "text/x-python",
   "name": "python",
   "nbconvert_exporter": "python",
   "pygments_lexer": "ipython3",
   "version": "3.7.7"
  },
  "nbTranslate": {
   "displayLangs": [
    "*"
   ],
   "hotkey": "alt-t",
   "langInMainMenu": true,
   "sourceLang": "en",
   "targetLang": "fr",
   "useGoogleTranslate": true
  }
 },
 "nbformat": 4,
 "nbformat_minor": 5
}
