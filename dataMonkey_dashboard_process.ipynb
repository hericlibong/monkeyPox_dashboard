{
 "cells": [
  {
   "cell_type": "code",
   "execution_count": 142,
   "id": "9d3bfed6",
   "metadata": {},
   "outputs": [],
   "source": [
    "import pandas as pd\n",
    "import numpy as np\n",
    "\n",
    "import bamboolib as bam"
   ]
  },
  {
   "cell_type": "code",
   "execution_count": 143,
   "id": "fb7a8c3a",
   "metadata": {},
   "outputs": [
    {
     "data": {
      "application/vnd.jupyter.widget-view+json": {
       "model_id": "d4080356b1a24f3baae856e5017b7737"
      },
      "text/html": [
       "<div>\n",
       "<style scoped>\n",
       "    .dataframe tbody tr th:only-of-type {\n",
       "        vertical-align: middle;\n",
       "    }\n",
       "\n",
       "    .dataframe tbody tr th {\n",
       "        vertical-align: top;\n",
       "    }\n",
       "\n",
       "    .dataframe thead th {\n",
       "        text-align: right;\n",
       "    }\n",
       "</style>\n",
       "<table border=\"1\" class=\"dataframe\">\n",
       "  <thead>\n",
       "    <tr style=\"text-align: right;\">\n",
       "      <th></th>\n",
       "      <th>ID</th>\n",
       "      <th>Status</th>\n",
       "      <th>Location</th>\n",
       "      <th>City</th>\n",
       "      <th>Country</th>\n",
       "      <th>Age</th>\n",
       "      <th>Gender</th>\n",
       "      <th>Date_onset</th>\n",
       "      <th>Date_confirmation</th>\n",
       "      <th>Symptoms</th>\n",
       "      <th>...</th>\n",
       "      <th>Travel_history_country</th>\n",
       "      <th>Genomics_Metadata</th>\n",
       "      <th>Confirmation_method</th>\n",
       "      <th>Source</th>\n",
       "      <th>Source_II</th>\n",
       "      <th>Date_entry</th>\n",
       "      <th>Date_last_modified</th>\n",
       "      <th>Source_III</th>\n",
       "      <th>Source_IV</th>\n",
       "      <th>Country_ISO3</th>\n",
       "    </tr>\n",
       "  </thead>\n",
       "  <tbody>\n",
       "    <tr>\n",
       "      <th>0</th>\n",
       "      <td>1</td>\n",
       "      <td>confirmed</td>\n",
       "      <td>Guy's and St Thomas Hospital London</td>\n",
       "      <td>London</td>\n",
       "      <td>England</td>\n",
       "      <td>NaN</td>\n",
       "      <td>NaN</td>\n",
       "      <td>2022-04-29</td>\n",
       "      <td>2022-05-06</td>\n",
       "      <td>rash</td>\n",
       "      <td>...</td>\n",
       "      <td>Nigeria</td>\n",
       "      <td>West African Clade</td>\n",
       "      <td>RT-PCR</td>\n",
       "      <td>https://www.gov.uk/government/news/monkeypox-c...</td>\n",
       "      <td>https://www.who.int/emergencies/disease-outbre...</td>\n",
       "      <td>2022-05-18</td>\n",
       "      <td>2022-05-18</td>\n",
       "      <td>NaN</td>\n",
       "      <td>NaN</td>\n",
       "      <td>GBR</td>\n",
       "    </tr>\n",
       "    <tr>\n",
       "      <th>1</th>\n",
       "      <td>2</td>\n",
       "      <td>confirmed</td>\n",
       "      <td>Guy's and St Thomas Hospital London</td>\n",
       "      <td>London</td>\n",
       "      <td>England</td>\n",
       "      <td>NaN</td>\n",
       "      <td>NaN</td>\n",
       "      <td>2022-05-05</td>\n",
       "      <td>2022-05-12</td>\n",
       "      <td>rash</td>\n",
       "      <td>...</td>\n",
       "      <td>NaN</td>\n",
       "      <td>West African Clade</td>\n",
       "      <td>RT-PCR</td>\n",
       "      <td>https://www.gov.uk/government/news/monkeypox-c...</td>\n",
       "      <td>NaN</td>\n",
       "      <td>2022-05-18</td>\n",
       "      <td>2022-05-18</td>\n",
       "      <td>NaN</td>\n",
       "      <td>NaN</td>\n",
       "      <td>GBR</td>\n",
       "    </tr>\n",
       "    <tr>\n",
       "      <th>2</th>\n",
       "      <td>3</td>\n",
       "      <td>confirmed</td>\n",
       "      <td>London</td>\n",
       "      <td>London</td>\n",
       "      <td>England</td>\n",
       "      <td>NaN</td>\n",
       "      <td>NaN</td>\n",
       "      <td>2022-04-30</td>\n",
       "      <td>2022-05-13</td>\n",
       "      <td>vesicular rash</td>\n",
       "      <td>...</td>\n",
       "      <td>NaN</td>\n",
       "      <td>West African Clade</td>\n",
       "      <td>RT-PCR</td>\n",
       "      <td>https://www.gov.uk/government/news/monkeypox-c...</td>\n",
       "      <td>NaN</td>\n",
       "      <td>2022-05-18</td>\n",
       "      <td>2022-05-18</td>\n",
       "      <td>NaN</td>\n",
       "      <td>NaN</td>\n",
       "      <td>GBR</td>\n",
       "    </tr>\n",
       "    <tr>\n",
       "      <th>3</th>\n",
       "      <td>4</td>\n",
       "      <td>confirmed</td>\n",
       "      <td>London</td>\n",
       "      <td>London</td>\n",
       "      <td>England</td>\n",
       "      <td>NaN</td>\n",
       "      <td>male</td>\n",
       "      <td>NaN</td>\n",
       "      <td>2022-05-15</td>\n",
       "      <td>vesicular rash</td>\n",
       "      <td>...</td>\n",
       "      <td>NaN</td>\n",
       "      <td>West African Clade</td>\n",
       "      <td>NaN</td>\n",
       "      <td>https://www.gov.uk/government/news/monkeypox-c...</td>\n",
       "      <td>NaN</td>\n",
       "      <td>2022-05-18</td>\n",
       "      <td>2022-05-18</td>\n",
       "      <td>NaN</td>\n",
       "      <td>NaN</td>\n",
       "      <td>GBR</td>\n",
       "    </tr>\n",
       "    <tr>\n",
       "      <th>4</th>\n",
       "      <td>5</td>\n",
       "      <td>confirmed</td>\n",
       "      <td>London</td>\n",
       "      <td>London</td>\n",
       "      <td>England</td>\n",
       "      <td>NaN</td>\n",
       "      <td>male</td>\n",
       "      <td>NaN</td>\n",
       "      <td>2022-05-15</td>\n",
       "      <td>vesicular rash</td>\n",
       "      <td>...</td>\n",
       "      <td>NaN</td>\n",
       "      <td>West African Clade</td>\n",
       "      <td>NaN</td>\n",
       "      <td>https://www.gov.uk/government/news/monkeypox-c...</td>\n",
       "      <td>NaN</td>\n",
       "      <td>2022-05-18</td>\n",
       "      <td>2022-05-18</td>\n",
       "      <td>NaN</td>\n",
       "      <td>NaN</td>\n",
       "      <td>GBR</td>\n",
       "    </tr>\n",
       "    <tr>\n",
       "      <th>...</th>\n",
       "      <td>...</td>\n",
       "      <td>...</td>\n",
       "      <td>...</td>\n",
       "      <td>...</td>\n",
       "      <td>...</td>\n",
       "      <td>...</td>\n",
       "      <td>...</td>\n",
       "      <td>...</td>\n",
       "      <td>...</td>\n",
       "      <td>...</td>\n",
       "      <td>...</td>\n",
       "      <td>...</td>\n",
       "      <td>...</td>\n",
       "      <td>...</td>\n",
       "      <td>...</td>\n",
       "      <td>...</td>\n",
       "      <td>...</td>\n",
       "      <td>...</td>\n",
       "      <td>...</td>\n",
       "      <td>...</td>\n",
       "      <td>...</td>\n",
       "    </tr>\n",
       "    <tr>\n",
       "      <th>3564</th>\n",
       "      <td>3565</td>\n",
       "      <td>confirmed</td>\n",
       "      <td>Texas</td>\n",
       "      <td>NaN</td>\n",
       "      <td>United States</td>\n",
       "      <td>NaN</td>\n",
       "      <td>NaN</td>\n",
       "      <td>NaN</td>\n",
       "      <td>2022-06-21</td>\n",
       "      <td>NaN</td>\n",
       "      <td>...</td>\n",
       "      <td>NaN</td>\n",
       "      <td>NaN</td>\n",
       "      <td>NaN</td>\n",
       "      <td>https://www.cdc.gov/poxvirus/monkeypox/respons...</td>\n",
       "      <td>NaN</td>\n",
       "      <td>2022-06-21</td>\n",
       "      <td>2022-06-21</td>\n",
       "      <td>NaN</td>\n",
       "      <td>NaN</td>\n",
       "      <td>USA</td>\n",
       "    </tr>\n",
       "    <tr>\n",
       "      <th>3565</th>\n",
       "      <td>3566</td>\n",
       "      <td>confirmed</td>\n",
       "      <td>Utah</td>\n",
       "      <td>NaN</td>\n",
       "      <td>United States</td>\n",
       "      <td>NaN</td>\n",
       "      <td>NaN</td>\n",
       "      <td>NaN</td>\n",
       "      <td>2022-06-21</td>\n",
       "      <td>NaN</td>\n",
       "      <td>...</td>\n",
       "      <td>NaN</td>\n",
       "      <td>NaN</td>\n",
       "      <td>NaN</td>\n",
       "      <td>https://www.cdc.gov/poxvirus/monkeypox/respons...</td>\n",
       "      <td>NaN</td>\n",
       "      <td>2022-06-21</td>\n",
       "      <td>2022-06-21</td>\n",
       "      <td>NaN</td>\n",
       "      <td>NaN</td>\n",
       "      <td>USA</td>\n",
       "    </tr>\n",
       "    <tr>\n",
       "      <th>3566</th>\n",
       "      <td>3567</td>\n",
       "      <td>confirmed</td>\n",
       "      <td>Washington</td>\n",
       "      <td>NaN</td>\n",
       "      <td>United States</td>\n",
       "      <td>NaN</td>\n",
       "      <td>NaN</td>\n",
       "      <td>NaN</td>\n",
       "      <td>2022-06-21</td>\n",
       "      <td>NaN</td>\n",
       "      <td>...</td>\n",
       "      <td>NaN</td>\n",
       "      <td>NaN</td>\n",
       "      <td>NaN</td>\n",
       "      <td>https://www.cdc.gov/poxvirus/monkeypox/respons...</td>\n",
       "      <td>NaN</td>\n",
       "      <td>2022-06-21</td>\n",
       "      <td>2022-06-21</td>\n",
       "      <td>NaN</td>\n",
       "      <td>NaN</td>\n",
       "      <td>USA</td>\n",
       "    </tr>\n",
       "    <tr>\n",
       "      <th>3567</th>\n",
       "      <td>3568</td>\n",
       "      <td>confirmed</td>\n",
       "      <td>Indiana</td>\n",
       "      <td>NaN</td>\n",
       "      <td>United States</td>\n",
       "      <td>NaN</td>\n",
       "      <td>NaN</td>\n",
       "      <td>NaN</td>\n",
       "      <td>2022-06-21</td>\n",
       "      <td>NaN</td>\n",
       "      <td>...</td>\n",
       "      <td>NaN</td>\n",
       "      <td>NaN</td>\n",
       "      <td>NaN</td>\n",
       "      <td>https://www.cdc.gov/poxvirus/monkeypox/respons...</td>\n",
       "      <td>NaN</td>\n",
       "      <td>2022-06-21</td>\n",
       "      <td>2022-06-21</td>\n",
       "      <td>NaN</td>\n",
       "      <td>NaN</td>\n",
       "      <td>USA</td>\n",
       "    </tr>\n",
       "    <tr>\n",
       "      <th>3568</th>\n",
       "      <td>3569</td>\n",
       "      <td>confirmed</td>\n",
       "      <td>Maryland</td>\n",
       "      <td>NaN</td>\n",
       "      <td>United States</td>\n",
       "      <td>NaN</td>\n",
       "      <td>NaN</td>\n",
       "      <td>NaN</td>\n",
       "      <td>2022-06-21</td>\n",
       "      <td>NaN</td>\n",
       "      <td>...</td>\n",
       "      <td>NaN</td>\n",
       "      <td>NaN</td>\n",
       "      <td>NaN</td>\n",
       "      <td>https://www.cdc.gov/poxvirus/monkeypox/respons...</td>\n",
       "      <td>NaN</td>\n",
       "      <td>2022-06-21</td>\n",
       "      <td>2022-06-21</td>\n",
       "      <td>NaN</td>\n",
       "      <td>NaN</td>\n",
       "      <td>USA</td>\n",
       "    </tr>\n",
       "  </tbody>\n",
       "</table>\n",
       "<p>3569 rows × 32 columns</p>\n",
       "</div>"
      ],
      "text/plain": [
       "        ID     Status                             Location    City  \\\n",
       "0        1  confirmed  Guy's and St Thomas Hospital London  London   \n",
       "1        2  confirmed  Guy's and St Thomas Hospital London  London   \n",
       "2        3  confirmed                               London  London   \n",
       "3        4  confirmed                               London  London   \n",
       "4        5  confirmed                               London  London   \n",
       "...    ...        ...                                  ...     ...   \n",
       "3564  3565  confirmed                                Texas     NaN   \n",
       "3565  3566  confirmed                                 Utah     NaN   \n",
       "3566  3567  confirmed                           Washington     NaN   \n",
       "3567  3568  confirmed                              Indiana     NaN   \n",
       "3568  3569  confirmed                             Maryland     NaN   \n",
       "\n",
       "            Country  Age Gender  Date_onset Date_confirmation        Symptoms  \\\n",
       "0           England  NaN    NaN  2022-04-29        2022-05-06            rash   \n",
       "1           England  NaN    NaN  2022-05-05        2022-05-12            rash   \n",
       "2           England  NaN    NaN  2022-04-30        2022-05-13  vesicular rash   \n",
       "3           England  NaN   male         NaN        2022-05-15  vesicular rash   \n",
       "4           England  NaN   male         NaN        2022-05-15  vesicular rash   \n",
       "...             ...  ...    ...         ...               ...             ...   \n",
       "3564  United States  NaN    NaN         NaN        2022-06-21             NaN   \n",
       "3565  United States  NaN    NaN         NaN        2022-06-21             NaN   \n",
       "3566  United States  NaN    NaN         NaN        2022-06-21             NaN   \n",
       "3567  United States  NaN    NaN         NaN        2022-06-21             NaN   \n",
       "3568  United States  NaN    NaN         NaN        2022-06-21             NaN   \n",
       "\n",
       "      ... Travel_history_country   Genomics_Metadata Confirmation_method  \\\n",
       "0     ...                Nigeria  West African Clade              RT-PCR   \n",
       "1     ...                    NaN  West African Clade              RT-PCR   \n",
       "2     ...                    NaN  West African Clade              RT-PCR   \n",
       "3     ...                    NaN  West African Clade                 NaN   \n",
       "4     ...                    NaN  West African Clade                 NaN   \n",
       "...   ...                    ...                 ...                 ...   \n",
       "3564  ...                    NaN                 NaN                 NaN   \n",
       "3565  ...                    NaN                 NaN                 NaN   \n",
       "3566  ...                    NaN                 NaN                 NaN   \n",
       "3567  ...                    NaN                 NaN                 NaN   \n",
       "3568  ...                    NaN                 NaN                 NaN   \n",
       "\n",
       "                                                 Source  \\\n",
       "0     https://www.gov.uk/government/news/monkeypox-c...   \n",
       "1     https://www.gov.uk/government/news/monkeypox-c...   \n",
       "2     https://www.gov.uk/government/news/monkeypox-c...   \n",
       "3     https://www.gov.uk/government/news/monkeypox-c...   \n",
       "4     https://www.gov.uk/government/news/monkeypox-c...   \n",
       "...                                                 ...   \n",
       "3564  https://www.cdc.gov/poxvirus/monkeypox/respons...   \n",
       "3565  https://www.cdc.gov/poxvirus/monkeypox/respons...   \n",
       "3566  https://www.cdc.gov/poxvirus/monkeypox/respons...   \n",
       "3567  https://www.cdc.gov/poxvirus/monkeypox/respons...   \n",
       "3568  https://www.cdc.gov/poxvirus/monkeypox/respons...   \n",
       "\n",
       "                                              Source_II  Date_entry  \\\n",
       "0     https://www.who.int/emergencies/disease-outbre...  2022-05-18   \n",
       "1                                                   NaN  2022-05-18   \n",
       "2                                                   NaN  2022-05-18   \n",
       "3                                                   NaN  2022-05-18   \n",
       "4                                                   NaN  2022-05-18   \n",
       "...                                                 ...         ...   \n",
       "3564                                                NaN  2022-06-21   \n",
       "3565                                                NaN  2022-06-21   \n",
       "3566                                                NaN  2022-06-21   \n",
       "3567                                                NaN  2022-06-21   \n",
       "3568                                                NaN  2022-06-21   \n",
       "\n",
       "      Date_last_modified Source_III Source_IV Country_ISO3  \n",
       "0             2022-05-18        NaN       NaN          GBR  \n",
       "1             2022-05-18        NaN       NaN          GBR  \n",
       "2             2022-05-18        NaN       NaN          GBR  \n",
       "3             2022-05-18        NaN       NaN          GBR  \n",
       "4             2022-05-18        NaN       NaN          GBR  \n",
       "...                  ...        ...       ...          ...  \n",
       "3564          2022-06-21        NaN       NaN          USA  \n",
       "3565          2022-06-21        NaN       NaN          USA  \n",
       "3566          2022-06-21        NaN       NaN          USA  \n",
       "3567          2022-06-21        NaN       NaN          USA  \n",
       "3568          2022-06-21        NaN       NaN          USA  \n",
       "\n",
       "[3569 rows x 32 columns]"
      ]
     },
     "metadata": {},
     "output_type": "display_data"
    }
   ],
   "source": [
    "URL = 'https://raw.githubusercontent.com/globaldothealth/monkeypox/main/latest.csv'\n",
    "\n",
    "data = pd.read_csv(URL)\n",
    "\n",
    "data"
   ]
  },
  {
   "cell_type": "code",
   "execution_count": null,
   "id": "20730190",
   "metadata": {},
   "outputs": [],
   "source": []
  },
  {
   "cell_type": "code",
   "execution_count": 144,
   "id": "2adfde4b",
   "metadata": {},
   "outputs": [],
   "source": [
    "data_pox =data[data.columns[data.isna().sum()/data.shape[0]<0.85]]\n",
    "data_pox = data_pox.loc[~(data_pox['Status'].isin(['discarded']))]\n",
    "data_pox = data_pox.drop(columns=['Location', 'City', 'Gender', 'Source_II', 'ID', 'Source','Date_last_modified'])\n",
    "\n",
    "suspected_data_pox = data_pox.loc[data_pox['Status'].isin(['suspected'])]\n",
    "suspected_data_pox['date'] = pd.to_datetime(suspected_data_pox['Date_entry'], format='%Y-%m-%d')\n",
    "confirmed_data_pox = suspected_data_pox.groupby(['Country', 'date']).agg(suspected=('Status', 'size')).reset_index()\n",
    "\n",
    "\n",
    "confirmed_data_pox = data_pox.loc[data_pox['Status'].isin(['confirmed'])]\n",
    "confirmed_data_pox['date'] = pd.to_datetime(confirmed_data_pox['Date_confirmation'], format='%Y-%m-%d')\n",
    "confirmed_data_pox = confirmed_data_pox.groupby(['Country', 'date']).agg(confirmed=('Status', 'size')).reset_index()\n",
    "#confirmed_data_pox['confirmed'] = confirmed_data_pox.groupby(['Country'])['daily_cases'].cumsum()\n",
    "#confirmed_data_pox = confirmed_data_pox.sort_values(by=['date'], ascending = True)"
   ]
  },
  {
   "cell_type": "code",
   "execution_count": 145,
   "id": "091c412c",
   "metadata": {},
   "outputs": [
    {
     "data": {
      "text/plain": [
       "array(['Argentina', 'Australia', 'Austria', 'Belgium', 'Brazil', 'Canada',\n",
       "       'Chile', 'Czech Republic', 'Denmark', 'England', 'Finland',\n",
       "       'France', 'Georgia', 'Germany', 'Ghana', 'Gibraltar', 'Greece',\n",
       "       'Hungary', 'Iceland', 'Ireland', 'Israel', 'Italy', 'Latvia',\n",
       "       'Lebanon', 'Luxembourg', 'Malta', 'Mexico', 'Morocco',\n",
       "       'Netherlands', 'Northern Ireland', 'Norway', 'Poland', 'Portugal',\n",
       "       'Romania', 'Scotland', 'Serbia', 'Singapore', 'Slovenia', 'Spain',\n",
       "       'Sweden', 'Switzerland', 'United Arab Emirates', 'United States',\n",
       "       'Venezuela', 'Wales'], dtype=object)"
      ]
     },
     "execution_count": 145,
     "metadata": {},
     "output_type": "execute_result"
    }
   ],
   "source": [
    "confirmed_data_pox.Country.unique()"
   ]
  },
  {
   "cell_type": "code",
   "execution_count": 146,
   "id": "08505622",
   "metadata": {},
   "outputs": [
    {
     "data": {
      "text/plain": [
       "45"
      ]
     },
     "execution_count": 146,
     "metadata": {},
     "output_type": "execute_result"
    }
   ],
   "source": [
    "len(confirmed_data_pox.Country.unique())"
   ]
  },
  {
   "cell_type": "code",
   "execution_count": 147,
   "id": "8ed57fc8",
   "metadata": {},
   "outputs": [
    {
     "name": "stdout",
     "output_type": "stream",
     "text": [
      "['Argentina' 'Australia' 'Austria' 'Belgium' 'Brazil' 'Canada' 'Chile'\n",
      " 'Czech Republic' 'Denmark' 'England' 'Finland' 'France' 'Georgia'\n",
      " 'Germany' 'Ghana' 'Gibraltar' 'Greece' 'Hungary' 'Iceland' 'Ireland'\n",
      " 'Israel' 'Italy' 'Latvia' 'Lebanon' 'Luxembourg' 'Malta' 'Mexico'\n",
      " 'Morocco' 'Netherlands' 'Northern Ireland' 'Norway' 'Poland' 'Portugal'\n",
      " 'Romania' 'Scotland' 'Serbia' 'Singapore' 'Slovenia' 'Spain' 'Sweden'\n",
      " 'Switzerland' 'United Arab Emirates' 'United States' 'Venezuela' 'Wales']\n"
     ]
    }
   ],
   "source": [
    "print(confirmed_data_pox.Country.unique())"
   ]
  },
  {
   "cell_type": "code",
   "execution_count": 148,
   "id": "5bb9d5f4",
   "metadata": {},
   "outputs": [],
   "source": [
    "from datetime import date\n",
    "\n",
    "\n",
    "def map_dateRange(df, w_countries):\n",
    "    date_rng = pd.date_range(start='5/1/2022', end=confirmed_data_pox['date'].max())\n",
    "    df_date = pd.DataFrame(date_rng,  columns=['date'])\n",
    "    df = df[df['Country']==w_countries]\n",
    "    df = df.merge(df_date, how='outer', on = ['date'])\n",
    "    df['Country'] = df['Country'].fillna(w_countries)\n",
    "    df['confirmed']=df['confirmed'].fillna(0)\n",
    "    df = df.sort_values(by=['date'],  ascending=True, axis=0)\n",
    "    return df"
   ]
  },
  {
   "cell_type": "code",
   "execution_count": 149,
   "id": "1d85526d",
   "metadata": {},
   "outputs": [],
   "source": [
    "argentina = map_dateRange(confirmed_data_pox,'Argentina')\n",
    "australia = map_dateRange(confirmed_data_pox,'Australia')\n",
    "austria = map_dateRange(confirmed_data_pox,'Austria')\n",
    "belgium = map_dateRange(confirmed_data_pox,'Belgium')\n",
    "brazil = map_dateRange(confirmed_data_pox,'Brazil')\n",
    "canada = map_dateRange(confirmed_data_pox,'Canada')\n",
    "czechrepublic = map_dateRange(confirmed_data_pox,'Czech Republic')\n",
    "Chile =  map_dateRange(confirmed_data_pox, 'Chile')\n",
    "Denmark = map_dateRange(confirmed_data_pox,'Denmark')\n",
    "England = map_dateRange(confirmed_data_pox,'England')\n",
    "Finland = map_dateRange(confirmed_data_pox,'Finland')\n",
    "France = map_dateRange(confirmed_data_pox,'France')\n",
    "Germany = map_dateRange(confirmed_data_pox,'Germany')\n",
    "Georgia = map_dateRange(confirmed_data_pox,'Georgia')\n",
    "Ghana = map_dateRange(confirmed_data_pox,'Ghana')\n",
    "Gibraltar = map_dateRange(confirmed_data_pox,'Gibraltar')\n",
    "Greece = map_dateRange(confirmed_data_pox,'Greece')\n",
    "Hungary = map_dateRange(confirmed_data_pox,'Hungary')\n",
    "Iceland = map_dateRange(confirmed_data_pox,'Iceland')\n",
    "Ireland = map_dateRange(confirmed_data_pox,'Ireland')\n",
    "Israel = map_dateRange(confirmed_data_pox,'Israel')\n",
    "Italy = map_dateRange(confirmed_data_pox,'Italy')\n",
    "Latvia = map_dateRange(confirmed_data_pox,'Latvia')\n",
    "Lebanon = map_dateRange(confirmed_data_pox,'Lebanon')\n",
    "Luxembourg = map_dateRange(confirmed_data_pox,'Luxembourg')\n",
    "Mexico = map_dateRange(confirmed_data_pox,'Mexico')\n",
    "Malta = map_dateRange(confirmed_data_pox,'Malta')\n",
    "Morocco = map_dateRange(confirmed_data_pox,'Morocco')\n",
    "Netherlands = map_dateRange(confirmed_data_pox,'Netherlands')\n",
    "NorthernIreland = map_dateRange(confirmed_data_pox,'Northern Ireland')\n",
    "Norway = map_dateRange(confirmed_data_pox,'Norway')\n",
    "Poland = map_dateRange(confirmed_data_pox,'Poland')\n",
    "Portugal = map_dateRange(confirmed_data_pox,'Portugal')\n",
    "Romania = map_dateRange(confirmed_data_pox,'Romania')\n",
    "Scotland = map_dateRange(confirmed_data_pox,'Scotland')\n",
    "Serbia = map_dateRange(confirmed_data_pox,'Serbia')\n",
    "Slovenia = map_dateRange(confirmed_data_pox,'Slovenia')\n",
    "Spain = map_dateRange(confirmed_data_pox,'Spain')\n",
    "Sweden = map_dateRange(confirmed_data_pox,'Sweden')\n",
    "Switzerland = map_dateRange(confirmed_data_pox,'Switzerland')\n",
    "UnitedArabEmirates = map_dateRange(confirmed_data_pox,'United Arab Emirates')\n",
    "UnitedStates = map_dateRange(confirmed_data_pox,'United States')\n",
    "Venezuela = map_dateRange(confirmed_data_pox,'Venezuela')\n",
    "Wales = map_dateRange(confirmed_data_pox,'Wales')\n",
    "\n",
    "\n",
    "\n",
    "\n",
    "\n"
   ]
  },
  {
   "cell_type": "code",
   "execution_count": 150,
   "id": "5849a7a2",
   "metadata": {},
   "outputs": [],
   "source": [
    "df_monkeypox = pd.concat([argentina, australia, austria, \n",
    "                          belgium, brazil, canada, czechrepublic, \n",
    "                          Denmark, England, Finland, France, Germany, \n",
    "                          Ghana, Gibraltar, Greece, Hungary, Ireland, Israel, \n",
    "                          Italy, Latvia, Mexico, Malta, Morocco, Netherlands, \n",
    "                          NorthernIreland, Norway, Poland, Portugal, Scotland, Slovenia, \n",
    "                          Spain, Sweden, Switzerland, UnitedArabEmirates, \n",
    "                          UnitedStates, Wales, Georgia, Chile, Iceland, Lebanon, Luxembourg, Venezuela, Romania, Serbia], axis=0, ignore_index=True)\n"
   ]
  },
  {
   "cell_type": "code",
   "execution_count": 151,
   "id": "99f0d9bd",
   "metadata": {},
   "outputs": [],
   "source": [
    "df_monkeypox['acc_confirmed'] = df_monkeypox.groupby(['Country'])['confirmed'].cumsum()\n",
    "df_monkeypox['acc_confirmed'] = pd.to_numeric(df_monkeypox['acc_confirmed'], downcast='integer', errors='coerce')\n",
    "df_monkeypox['confirmed'] = pd.to_numeric(df_monkeypox['confirmed'], downcast='integer', errors='coerce')\n"
   ]
  },
  {
   "cell_type": "code",
   "execution_count": 152,
   "id": "aa08066b",
   "metadata": {},
   "outputs": [],
   "source": [
    "df_world = df_monkeypox.groupby(['date']).agg(acc_confirmed_sum=('acc_confirmed', 'sum'), confirmed_sum=('confirmed', 'sum')).reset_index()\n",
    "df_world['World'] = 'World'"
   ]
  },
  {
   "cell_type": "code",
   "execution_count": 153,
   "id": "7b6587e5",
   "metadata": {},
   "outputs": [
    {
     "data": {
      "application/vnd.jupyter.widget-view+json": {
       "model_id": "474fd8f470724944b631f13eda409b2f"
      },
      "text/html": [
       "<div>\n",
       "<style scoped>\n",
       "    .dataframe tbody tr th:only-of-type {\n",
       "        vertical-align: middle;\n",
       "    }\n",
       "\n",
       "    .dataframe tbody tr th {\n",
       "        vertical-align: top;\n",
       "    }\n",
       "\n",
       "    .dataframe thead th {\n",
       "        text-align: right;\n",
       "    }\n",
       "</style>\n",
       "<table border=\"1\" class=\"dataframe\">\n",
       "  <thead>\n",
       "    <tr style=\"text-align: right;\">\n",
       "      <th></th>\n",
       "      <th>Country</th>\n",
       "      <th>date</th>\n",
       "      <th>confirmed</th>\n",
       "      <th>acc_confirmed</th>\n",
       "    </tr>\n",
       "  </thead>\n",
       "  <tbody>\n",
       "    <tr>\n",
       "      <th>0</th>\n",
       "      <td>World</td>\n",
       "      <td>2022-05-01</td>\n",
       "      <td>0</td>\n",
       "      <td>0</td>\n",
       "    </tr>\n",
       "    <tr>\n",
       "      <th>1</th>\n",
       "      <td>World</td>\n",
       "      <td>2022-05-02</td>\n",
       "      <td>0</td>\n",
       "      <td>0</td>\n",
       "    </tr>\n",
       "    <tr>\n",
       "      <th>2</th>\n",
       "      <td>World</td>\n",
       "      <td>2022-05-03</td>\n",
       "      <td>0</td>\n",
       "      <td>0</td>\n",
       "    </tr>\n",
       "    <tr>\n",
       "      <th>3</th>\n",
       "      <td>World</td>\n",
       "      <td>2022-05-04</td>\n",
       "      <td>0</td>\n",
       "      <td>0</td>\n",
       "    </tr>\n",
       "    <tr>\n",
       "      <th>4</th>\n",
       "      <td>World</td>\n",
       "      <td>2022-05-05</td>\n",
       "      <td>0</td>\n",
       "      <td>0</td>\n",
       "    </tr>\n",
       "    <tr>\n",
       "      <th>...</th>\n",
       "      <td>...</td>\n",
       "      <td>...</td>\n",
       "      <td>...</td>\n",
       "      <td>...</td>\n",
       "    </tr>\n",
       "    <tr>\n",
       "      <th>2335</th>\n",
       "      <td>Serbia</td>\n",
       "      <td>2022-06-17</td>\n",
       "      <td>1</td>\n",
       "      <td>1</td>\n",
       "    </tr>\n",
       "    <tr>\n",
       "      <th>2336</th>\n",
       "      <td>Serbia</td>\n",
       "      <td>2022-06-18</td>\n",
       "      <td>0</td>\n",
       "      <td>1</td>\n",
       "    </tr>\n",
       "    <tr>\n",
       "      <th>2337</th>\n",
       "      <td>Serbia</td>\n",
       "      <td>2022-06-19</td>\n",
       "      <td>0</td>\n",
       "      <td>1</td>\n",
       "    </tr>\n",
       "    <tr>\n",
       "      <th>2338</th>\n",
       "      <td>Serbia</td>\n",
       "      <td>2022-06-20</td>\n",
       "      <td>0</td>\n",
       "      <td>1</td>\n",
       "    </tr>\n",
       "    <tr>\n",
       "      <th>2339</th>\n",
       "      <td>Serbia</td>\n",
       "      <td>2022-06-21</td>\n",
       "      <td>0</td>\n",
       "      <td>1</td>\n",
       "    </tr>\n",
       "  </tbody>\n",
       "</table>\n",
       "<p>2340 rows × 4 columns</p>\n",
       "</div>"
      ],
      "text/plain": [
       "     Country       date  confirmed  acc_confirmed\n",
       "0      World 2022-05-01          0              0\n",
       "1      World 2022-05-02          0              0\n",
       "2      World 2022-05-03          0              0\n",
       "3      World 2022-05-04          0              0\n",
       "4      World 2022-05-05          0              0\n",
       "...      ...        ...        ...            ...\n",
       "2335  Serbia 2022-06-17          1              1\n",
       "2336  Serbia 2022-06-18          0              1\n",
       "2337  Serbia 2022-06-19          0              1\n",
       "2338  Serbia 2022-06-20          0              1\n",
       "2339  Serbia 2022-06-21          0              1\n",
       "\n",
       "[2340 rows x 4 columns]"
      ]
     },
     "metadata": {},
     "output_type": "display_data"
    }
   ],
   "source": [
    "df_world = df_world[['World'] + ['date', 'acc_confirmed_sum', 'confirmed_sum']]\n",
    "df_world['confirmed_sum'] = pd.to_numeric(df_world['confirmed_sum'], downcast='integer', errors='coerce')\n",
    "df_world = df_world[['World', 'date', 'confirmed_sum'] + ['acc_confirmed_sum']]\n",
    "df_world = df_world.rename(columns={'confirmed_sum': 'confirmed', 'acc_confirmed_sum': 'acc_confirmed', 'World': 'Country'})\n",
    "df_monkeypox = pd.concat([df_world, df_monkeypox], axis=0, ignore_index=True)\n",
    "df_monkeypox"
   ]
  },
  {
   "cell_type": "code",
   "execution_count": 154,
   "id": "0e9ee576",
   "metadata": {},
   "outputs": [
    {
     "data": {
      "text/plain": [
       "3156"
      ]
     },
     "execution_count": 154,
     "metadata": {},
     "output_type": "execute_result"
    }
   ],
   "source": [
    "#get world count\n",
    "world_count = df_monkeypox.loc[df_monkeypox['Country'].isin(['World'])]['acc_confirmed'].iloc[-1]\n",
    "world_count"
   ]
  },
  {
   "cell_type": "code",
   "execution_count": 155,
   "id": "6265a235",
   "metadata": {},
   "outputs": [
    {
     "data": {
      "text/plain": [
       "Timestamp('2022-06-21 00:00:00')"
      ]
     },
     "execution_count": 155,
     "metadata": {},
     "output_type": "execute_result"
    }
   ],
   "source": [
    "#set update date\n",
    "\n",
    "df_monkeypox['date'].iloc[-1]"
   ]
  },
  {
   "cell_type": "code",
   "execution_count": 156,
   "id": "a8f8db67",
   "metadata": {},
   "outputs": [
    {
     "data": {
      "text/plain": [
       "271"
      ]
     },
     "execution_count": 156,
     "metadata": {},
     "output_type": "execute_result"
    }
   ],
   "source": [
    "df_monkeypox.loc[df_monkeypox['Country'].isin(['World'])]['acc_confirmed'].iloc[-1]-df_monkeypox.loc[df_monkeypox['Country'].isin(['World'])]['acc_confirmed'].iloc[-2]\n",
    "\n"
   ]
  },
  {
   "cell_type": "code",
   "execution_count": 157,
   "id": "db29171f",
   "metadata": {},
   "outputs": [],
   "source": [
    "geo = pd.read_csv('world_country_and_usa_states_latitude_and_longitude_values.csv')\n"
   ]
  },
  {
   "cell_type": "code",
   "execution_count": 158,
   "id": "746b6aac",
   "metadata": {},
   "outputs": [],
   "source": [
    "df_monkeypox_uk = df_monkeypox.loc[df_monkeypox['Country'].isin(['England', 'Northern Ireland', 'Scotland', 'Wales'])]\n"
   ]
  },
  {
   "cell_type": "code",
   "execution_count": 159,
   "id": "e7f5baa9",
   "metadata": {},
   "outputs": [],
   "source": [
    "df_monkeypox_word = df_monkeypox.loc[df_monkeypox['Country'].isin(['World'])]\n"
   ]
  },
  {
   "cell_type": "code",
   "execution_count": 160,
   "id": "4c4bd56e",
   "metadata": {},
   "outputs": [],
   "source": [
    "df_monkeypox = df_monkeypox.loc[~(df_monkeypox['Country'].isin(['World', 'England', 'Northern Ireland', 'Scotland', 'Wales']))]\n"
   ]
  },
  {
   "cell_type": "code",
   "execution_count": 161,
   "id": "69ba0394",
   "metadata": {},
   "outputs": [],
   "source": [
    "df_monkeypox_uk['latitude'] = 55.378051\n",
    "df_monkeypox_uk['longitude'] = -3.435973"
   ]
  },
  {
   "cell_type": "code",
   "execution_count": 162,
   "id": "fa04f9d6",
   "metadata": {},
   "outputs": [],
   "source": [
    "df_monkeypox = pd.merge(df_monkeypox, geo[['country', 'latitude', 'longitude']], how='inner', left_on=['Country'], right_on=['country'])\n",
    "df_monkeypox = df_monkeypox.reset_index()\n"
   ]
  },
  {
   "cell_type": "code",
   "execution_count": 163,
   "id": "2bec67a9",
   "metadata": {},
   "outputs": [],
   "source": [
    "df_monkeypox = pd.concat([df_monkeypox, df_monkeypox_uk], axis=0, ignore_index=True)\n",
    "df_monkeypox = df_monkeypox.drop(columns=['index', 'country'])\n"
   ]
  },
  {
   "cell_type": "code",
   "execution_count": 164,
   "id": "cc830fb7",
   "metadata": {},
   "outputs": [],
   "source": [
    "df_monkeypox_word['latitude']=0\n",
    "df_monkeypox_word['longitude']=0"
   ]
  },
  {
   "cell_type": "code",
   "execution_count": 165,
   "id": "1cacb73d",
   "metadata": {},
   "outputs": [],
   "source": [
    "df_monkeypox = pd.concat([df_monkeypox, df_monkeypox_word], axis=0, ignore_index=True)"
   ]
  },
  {
   "cell_type": "code",
   "execution_count": 166,
   "id": "1812bbfe",
   "metadata": {},
   "outputs": [],
   "source": [
    "df_monkeypox = df_monkeypox.rename(columns={'confirmed': 'new_daily_cases'})"
   ]
  },
  {
   "cell_type": "code",
   "execution_count": 167,
   "id": "6b1288ac",
   "metadata": {},
   "outputs": [],
   "source": [
    "df_monkeypox.to_csv('df_monkeyPoxTimeSerie.csv', index_label=False)"
   ]
  },
  {
   "cell_type": "code",
   "execution_count": 168,
   "id": "0b990046",
   "metadata": {},
   "outputs": [
    {
     "data": {
      "text/plain": [
       "3156"
      ]
     },
     "execution_count": 168,
     "metadata": {},
     "output_type": "execute_result"
    }
   ],
   "source": [
    "#today world cases\n",
    "df_monkeypox[df_monkeypox['Country']=='World']['acc_confirmed'].max()"
   ]
  },
  {
   "cell_type": "code",
   "execution_count": 169,
   "id": "d9c70008",
   "metadata": {},
   "outputs": [
    {
     "name": "stdout",
     "output_type": "stream",
     "text": [
      "['Argentina' 'Australia' 'Austria' 'Belgium' 'Brazil' 'Canada'\n",
      " 'Czech Republic' 'Denmark' 'Finland' 'France' 'Germany' 'Ghana'\n",
      " 'Gibraltar' 'Greece' 'Hungary' 'Ireland' 'Israel' 'Italy' 'Latvia'\n",
      " 'Mexico' 'Malta' 'Morocco' 'Netherlands' 'Norway' 'Poland' 'Portugal'\n",
      " 'Slovenia' 'Spain' 'Sweden' 'Switzerland' 'United Arab Emirates'\n",
      " 'United States' 'Georgia' 'Chile' 'Iceland' 'Lebanon' 'Luxembourg'\n",
      " 'Venezuela' 'Romania' 'Serbia' 'England' 'Northern Ireland' 'Scotland'\n",
      " 'Wales' 'World']\n"
     ]
    }
   ],
   "source": [
    "df_monkeypox\n",
    "print(df_monkeypox.Country.unique())"
   ]
  },
  {
   "cell_type": "code",
   "execution_count": 170,
   "id": "1cafb9f6",
   "metadata": {},
   "outputs": [
    {
     "data": {
      "text/plain": [
       "'3,156'"
      ]
     },
     "execution_count": 170,
     "metadata": {},
     "output_type": "execute_result"
    }
   ],
   "source": [
    "f\"{world_count:,.0f}\""
   ]
  },
  {
   "cell_type": "code",
   "execution_count": 171,
   "id": "5810f65c",
   "metadata": {},
   "outputs": [
    {
     "name": "stdout",
     "output_type": "stream",
     "text": [
      "271\n",
      "289\n"
     ]
    }
   ],
   "source": [
    "print(df_monkeypox[df_monkeypox['Country']=='World']['new_daily_cases'].iloc[-1]) \n",
    "print(df_monkeypox[df_monkeypox['Country']=='World']['new_daily_cases'].iloc[-2])"
   ]
  },
  {
   "cell_type": "code",
   "execution_count": 172,
   "id": "155c3018",
   "metadata": {},
   "outputs": [],
   "source": [
    "#set data for map\n",
    "\n",
    "#df_monkeypox.groupby(['Country', 'latitude', 'longitude'])['acc_confirmed'].max().reset_index()"
   ]
  },
  {
   "cell_type": "code",
   "execution_count": 173,
   "id": "41a24839",
   "metadata": {},
   "outputs": [],
   "source": [
    "# Create dictionary of list\n",
    "#testlist = df_monkeypox[['Country', 'latitude', 'longitude']]\n",
    "#dict_of_locations = testlist.set_index('Country')[['latitude', 'longitude']].T.to_dict('dict')"
   ]
  },
  {
   "cell_type": "code",
   "execution_count": 174,
   "id": "cfce7b50",
   "metadata": {},
   "outputs": [],
   "source": [
    "#dict_of_locations"
   ]
  },
  {
   "cell_type": "code",
   "execution_count": null,
   "id": "a31141c2",
   "metadata": {},
   "outputs": [],
   "source": []
  }
 ],
 "metadata": {
  "kernelspec": {
   "display_name": "Python 3.8.2 64-bit ('3.8.2')",
   "language": "python",
   "name": "python3"
  },
  "language_info": {
   "codemirror_mode": {
    "name": "ipython",
    "version": 3
   },
   "file_extension": ".py",
   "mimetype": "text/x-python",
   "name": "python",
   "nbconvert_exporter": "python",
   "pygments_lexer": "ipython3",
   "version": "3.8.2"
  },
  "nbTranslate": {
   "displayLangs": [
    "*"
   ],
   "hotkey": "alt-t",
   "langInMainMenu": true,
   "sourceLang": "en",
   "targetLang": "fr",
   "useGoogleTranslate": true
  },
  "vscode": {
   "interpreter": {
    "hash": "6172bc7c2c6224e96af60849adeee58773c2c143c869fb9f4da1521cec9d5c5c"
   }
  }
 },
 "nbformat": 4,
 "nbformat_minor": 5
}
