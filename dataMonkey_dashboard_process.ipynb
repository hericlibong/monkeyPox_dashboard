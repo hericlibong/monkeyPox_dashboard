{
 "cells": [
  {
   "cell_type": "code",
   "execution_count": 130,
   "id": "9d3bfed6",
   "metadata": {},
   "outputs": [],
   "source": [
    "import pandas as pd\n",
    "import numpy as np\n",
    "\n",
    "import bamboolib as bam"
   ]
  },
  {
   "cell_type": "code",
   "execution_count": 131,
   "id": "fb7a8c3a",
   "metadata": {},
   "outputs": [],
   "source": [
    "URL = 'https://raw.githubusercontent.com/globaldothealth/monkeypox/main/latest.csv'\n",
    "\n",
    "data = pd.read_csv(URL)\n",
    "\n"
   ]
  },
  {
   "cell_type": "code",
   "execution_count": null,
   "id": "20730190",
   "metadata": {},
   "outputs": [],
   "source": []
  },
  {
   "cell_type": "code",
   "execution_count": 132,
   "id": "2adfde4b",
   "metadata": {},
   "outputs": [],
   "source": [
    "data_pox =data[data.columns[data.isna().sum()/data.shape[0]<0.85]]\n",
    "data_pox = data_pox.loc[~(data_pox['Status'].isin(['discarded']))]\n",
    "data_pox = data_pox.drop(columns=['Location', 'Gender', 'Source_II', 'ID', 'Source','Date_last_modified'])\n",
    "\n",
    "suspected_data_pox = data_pox.loc[data_pox['Status'].isin(['suspected'])]\n",
    "suspected_data_pox['date'] = pd.to_datetime(suspected_data_pox['Date_entry'], format='%Y-%m-%d')\n",
    "confirmed_data_pox = suspected_data_pox.groupby(['Country', 'date']).agg(suspected=('Status', 'size')).reset_index()\n",
    "\n",
    "\n",
    "confirmed_data_pox = data_pox.loc[data_pox['Status'].isin(['confirmed'])]\n",
    "confirmed_data_pox['date'] = pd.to_datetime(confirmed_data_pox['Date_confirmation'], format='%Y-%m-%d')\n",
    "confirmed_data_pox = confirmed_data_pox.groupby(['Country', 'date']).agg(confirmed=('Status', 'size')).reset_index()\n",
    "#confirmed_data_pox['confirmed'] = confirmed_data_pox.groupby(['Country'])['daily_cases'].cumsum()\n",
    "#confirmed_data_pox = confirmed_data_pox.sort_values(by=['date'], ascending = True)"
   ]
  },
  {
   "cell_type": "code",
   "execution_count": 133,
   "id": "091c412c",
   "metadata": {},
   "outputs": [
    {
     "data": {
      "text/plain": [
       "array(['Argentina', 'Australia', 'Austria', 'Belgium', 'Benin', 'Brazil',\n",
       "       'Bulgaria', 'Canada', 'Chile', 'Colombia', 'Croatia',\n",
       "       'Czech Republic', 'Denmark', 'England', 'Estonia', 'Finland',\n",
       "       'France', 'Georgia', 'Germany', 'Ghana', 'Gibraltar', 'Greece',\n",
       "       'Hungary', 'Iceland', 'Ireland', 'Israel', 'Italy', 'Latvia',\n",
       "       'Lebanon', 'Luxembourg', 'Malta', 'Mexico', 'Morocco',\n",
       "       'Netherlands', 'Northern Ireland', 'Norway', 'Peru', 'Poland',\n",
       "       'Portugal', 'Puerto Rico', 'Romania', 'Scotland', 'Serbia',\n",
       "       'Singapore', 'Slovenia', 'South Africa', 'South Korea', 'Spain',\n",
       "       'Sweden', 'Switzerland', 'Taiwan', 'Turkey',\n",
       "       'United Arab Emirates', 'United States', 'Venezuela', 'Wales'],\n",
       "      dtype=object)"
      ]
     },
     "execution_count": 133,
     "metadata": {},
     "output_type": "execute_result"
    }
   ],
   "source": [
    "confirmed_data_pox.Country.unique()"
   ]
  },
  {
   "cell_type": "code",
   "execution_count": 134,
   "id": "08505622",
   "metadata": {},
   "outputs": [
    {
     "data": {
      "text/plain": [
       "56"
      ]
     },
     "execution_count": 134,
     "metadata": {},
     "output_type": "execute_result"
    }
   ],
   "source": [
    "len(confirmed_data_pox.Country.unique())"
   ]
  },
  {
   "cell_type": "code",
   "execution_count": 135,
   "id": "8ed57fc8",
   "metadata": {},
   "outputs": [
    {
     "name": "stdout",
     "output_type": "stream",
     "text": [
      "['Argentina' 'Australia' 'Austria' 'Belgium' 'Benin' 'Brazil' 'Bulgaria'\n",
      " 'Canada' 'Chile' 'Colombia' 'Croatia' 'Czech Republic' 'Denmark'\n",
      " 'England' 'Estonia' 'Finland' 'France' 'Georgia' 'Germany' 'Ghana'\n",
      " 'Gibraltar' 'Greece' 'Hungary' 'Iceland' 'Ireland' 'Israel' 'Italy'\n",
      " 'Latvia' 'Lebanon' 'Luxembourg' 'Malta' 'Mexico' 'Morocco' 'Netherlands'\n",
      " 'Northern Ireland' 'Norway' 'Peru' 'Poland' 'Portugal' 'Puerto Rico'\n",
      " 'Romania' 'Scotland' 'Serbia' 'Singapore' 'Slovenia' 'South Africa'\n",
      " 'South Korea' 'Spain' 'Sweden' 'Switzerland' 'Taiwan' 'Turkey'\n",
      " 'United Arab Emirates' 'United States' 'Venezuela' 'Wales']\n"
     ]
    }
   ],
   "source": [
    "print(confirmed_data_pox.Country.unique())"
   ]
  },
  {
   "cell_type": "code",
   "execution_count": 136,
   "id": "5bb9d5f4",
   "metadata": {},
   "outputs": [],
   "source": [
    "from datetime import date\n",
    "\n",
    "\n",
    "def map_dateRange(df, w_countries):\n",
    "    date_rng = pd.date_range(start='5/6/2022', end=confirmed_data_pox['date'].max())\n",
    "    df_date = pd.DataFrame(date_rng,  columns=['date'])\n",
    "    df = df[df['Country']==w_countries]\n",
    "    df = df.merge(df_date, how='outer', on = ['date'])\n",
    "    df['Country'] = df['Country'].fillna(w_countries)\n",
    "    df['confirmed']=df['confirmed'].fillna(0)\n",
    "    df = df.sort_values(by=['date'],  ascending=True, axis=0)\n",
    "    return df"
   ]
  },
  {
   "cell_type": "code",
   "execution_count": 137,
   "id": "1d85526d",
   "metadata": {},
   "outputs": [],
   "source": [
    "argentina = map_dateRange(confirmed_data_pox,'Argentina')\n",
    "australia = map_dateRange(confirmed_data_pox,'Australia')\n",
    "austria = map_dateRange(confirmed_data_pox,'Austria')\n",
    "belgium = map_dateRange(confirmed_data_pox,'Belgium')\n",
    "Bulgaria = map_dateRange(confirmed_data_pox,'Bulgaria')\n",
    "brazil = map_dateRange(confirmed_data_pox,'Brazil')\n",
    "Benin = map_dateRange(confirmed_data_pox,'Benin')\n",
    "canada = map_dateRange(confirmed_data_pox,'Canada')\n",
    "czechrepublic = map_dateRange(confirmed_data_pox,'Czech Republic')\n",
    "Chile =  map_dateRange(confirmed_data_pox, 'Chile')\n",
    "Colombia =  map_dateRange(confirmed_data_pox, 'Colombia')\n",
    "Croatia =  map_dateRange(confirmed_data_pox, 'Croatia')\n",
    "Denmark = map_dateRange(confirmed_data_pox,'Denmark')\n",
    "England = map_dateRange(confirmed_data_pox,'England')\n",
    "Estonia = map_dateRange(confirmed_data_pox,'Estonia')\n",
    "Finland = map_dateRange(confirmed_data_pox,'Finland')\n",
    "France = map_dateRange(confirmed_data_pox,'France')\n",
    "Germany = map_dateRange(confirmed_data_pox,'Germany')\n",
    "Georgia = map_dateRange(confirmed_data_pox,'Georgia')\n",
    "Ghana = map_dateRange(confirmed_data_pox,'Ghana')\n",
    "Gibraltar = map_dateRange(confirmed_data_pox,'Gibraltar')\n",
    "Greece = map_dateRange(confirmed_data_pox,'Greece')\n",
    "Hungary = map_dateRange(confirmed_data_pox,'Hungary')\n",
    "Iceland = map_dateRange(confirmed_data_pox,'Iceland')\n",
    "Ireland = map_dateRange(confirmed_data_pox,'Ireland')\n",
    "Israel = map_dateRange(confirmed_data_pox,'Israel')\n",
    "Italy = map_dateRange(confirmed_data_pox,'Italy')\n",
    "Latvia = map_dateRange(confirmed_data_pox,'Latvia')\n",
    "Lebanon = map_dateRange(confirmed_data_pox,'Lebanon')\n",
    "Luxembourg = map_dateRange(confirmed_data_pox,'Luxembourg')\n",
    "Mexico = map_dateRange(confirmed_data_pox,'Mexico')\n",
    "Malta = map_dateRange(confirmed_data_pox,'Malta')\n",
    "Morocco = map_dateRange(confirmed_data_pox,'Morocco')\n",
    "Netherlands = map_dateRange(confirmed_data_pox,'Netherlands')\n",
    "NorthernIreland = map_dateRange(confirmed_data_pox,'Northern Ireland')\n",
    "Norway = map_dateRange(confirmed_data_pox,'Norway')\n",
    "Poland = map_dateRange(confirmed_data_pox,'Poland')\n",
    "Peru = map_dateRange(confirmed_data_pox,'Peru')\n",
    "Portugal = map_dateRange(confirmed_data_pox,'Portugal')\n",
    "PuertoRico =  map_dateRange(confirmed_data_pox, 'Puerto Rico')\n",
    "Romania = map_dateRange(confirmed_data_pox,'Romania')\n",
    "Scotland = map_dateRange(confirmed_data_pox,'Scotland')\n",
    "Serbia = map_dateRange(confirmed_data_pox,'Serbia')\n",
    "Singapore =map_dateRange(confirmed_data_pox,'Singapore')\n",
    "Slovenia = map_dateRange(confirmed_data_pox,'Slovenia')\n",
    "Spain = map_dateRange(confirmed_data_pox,'Spain')\n",
    "SouthAfrica = map_dateRange(confirmed_data_pox,'South Africa')\n",
    "SouthKorea = map_dateRange(confirmed_data_pox,'South Korea')\n",
    "Sweden = map_dateRange(confirmed_data_pox,'Sweden')\n",
    "Switzerland = map_dateRange(confirmed_data_pox,'Switzerland')\n",
    "Taiwan =  map_dateRange(confirmed_data_pox, 'Taiwan')\n",
    "Turkey =  map_dateRange(confirmed_data_pox, 'Turkey')\n",
    "UnitedArabEmirates = map_dateRange(confirmed_data_pox,'United Arab Emirates')\n",
    "UnitedStates = map_dateRange(confirmed_data_pox,'United States')\n",
    "Venezuela = map_dateRange(confirmed_data_pox,'Venezuela')\n",
    "Wales = map_dateRange(confirmed_data_pox,'Wales')\n",
    "\n",
    "\n",
    "\n",
    "\n",
    "\n"
   ]
  },
  {
   "cell_type": "code",
   "execution_count": 138,
   "id": "5849a7a2",
   "metadata": {},
   "outputs": [],
   "source": [
    "df_monkeypox = pd.concat([argentina, australia, austria, \n",
    "                          belgium, Bulgaria, brazil, Benin, canada, czechrepublic, Colombia,\n",
    "                          Denmark, England, Finland, France, Germany, \n",
    "                          Ghana, Gibraltar, Greece, Hungary, Ireland, Israel, \n",
    "                          Italy, Latvia, Mexico, Malta, Morocco, Netherlands, \n",
    "                          NorthernIreland, Norway, Poland, Peru, PuertoRico, Portugal, Scotland, Singapore, Slovenia, \n",
    "                          Spain, SouthKorea, SouthAfrica, Sweden, Switzerland,  Taiwan,  Turkey, UnitedArabEmirates, \n",
    "                          UnitedStates, Wales, Georgia, Croatia, Chile, Iceland, Lebanon, Luxembourg, Venezuela, Romania, Serbia], axis=0, ignore_index=True)\n"
   ]
  },
  {
   "cell_type": "code",
   "execution_count": 139,
   "id": "99f0d9bd",
   "metadata": {},
   "outputs": [],
   "source": [
    "df_monkeypox['acc_confirmed'] = df_monkeypox.groupby(['Country'])['confirmed'].cumsum()\n",
    "df_monkeypox['acc_confirmed'] = pd.to_numeric(df_monkeypox['acc_confirmed'], downcast='integer', errors='coerce')\n",
    "df_monkeypox['confirmed'] = pd.to_numeric(df_monkeypox['confirmed'], downcast='integer', errors='coerce')\n"
   ]
  },
  {
   "cell_type": "code",
   "execution_count": 140,
   "id": "aa08066b",
   "metadata": {},
   "outputs": [],
   "source": [
    "df_world = df_monkeypox.groupby(['date']).agg(acc_confirmed_sum=('acc_confirmed', 'sum'), confirmed_sum=('confirmed', 'sum')).reset_index()\n",
    "df_world['World'] = 'World'"
   ]
  },
  {
   "cell_type": "code",
   "execution_count": 141,
   "id": "7b6587e5",
   "metadata": {},
   "outputs": [
    {
     "data": {
      "application/vnd.jupyter.widget-view+json": {
       "model_id": "b639b2fdd5d0452ea21e47395ee6adff"
      },
      "text/html": [
       "<div>\n",
       "<style scoped>\n",
       "    .dataframe tbody tr th:only-of-type {\n",
       "        vertical-align: middle;\n",
       "    }\n",
       "\n",
       "    .dataframe tbody tr th {\n",
       "        vertical-align: top;\n",
       "    }\n",
       "\n",
       "    .dataframe thead th {\n",
       "        text-align: right;\n",
       "    }\n",
       "</style>\n",
       "<table border=\"1\" class=\"dataframe\">\n",
       "  <thead>\n",
       "    <tr style=\"text-align: right;\">\n",
       "      <th></th>\n",
       "      <th>Country</th>\n",
       "      <th>date</th>\n",
       "      <th>confirmed</th>\n",
       "      <th>acc_confirmed</th>\n",
       "    </tr>\n",
       "  </thead>\n",
       "  <tbody>\n",
       "    <tr>\n",
       "      <th>0</th>\n",
       "      <td>World</td>\n",
       "      <td>2022-05-06</td>\n",
       "      <td>1</td>\n",
       "      <td>1</td>\n",
       "    </tr>\n",
       "    <tr>\n",
       "      <th>1</th>\n",
       "      <td>World</td>\n",
       "      <td>2022-05-07</td>\n",
       "      <td>0</td>\n",
       "      <td>1</td>\n",
       "    </tr>\n",
       "    <tr>\n",
       "      <th>2</th>\n",
       "      <td>World</td>\n",
       "      <td>2022-05-08</td>\n",
       "      <td>0</td>\n",
       "      <td>1</td>\n",
       "    </tr>\n",
       "    <tr>\n",
       "      <th>3</th>\n",
       "      <td>World</td>\n",
       "      <td>2022-05-09</td>\n",
       "      <td>0</td>\n",
       "      <td>1</td>\n",
       "    </tr>\n",
       "    <tr>\n",
       "      <th>4</th>\n",
       "      <td>World</td>\n",
       "      <td>2022-05-10</td>\n",
       "      <td>0</td>\n",
       "      <td>1</td>\n",
       "    </tr>\n",
       "    <tr>\n",
       "      <th>...</th>\n",
       "      <td>...</td>\n",
       "      <td>...</td>\n",
       "      <td>...</td>\n",
       "      <td>...</td>\n",
       "    </tr>\n",
       "    <tr>\n",
       "      <th>3187</th>\n",
       "      <td>Serbia</td>\n",
       "      <td>2022-06-27</td>\n",
       "      <td>0</td>\n",
       "      <td>1</td>\n",
       "    </tr>\n",
       "    <tr>\n",
       "      <th>3188</th>\n",
       "      <td>Serbia</td>\n",
       "      <td>2022-06-28</td>\n",
       "      <td>0</td>\n",
       "      <td>1</td>\n",
       "    </tr>\n",
       "    <tr>\n",
       "      <th>3189</th>\n",
       "      <td>Serbia</td>\n",
       "      <td>2022-06-29</td>\n",
       "      <td>0</td>\n",
       "      <td>1</td>\n",
       "    </tr>\n",
       "    <tr>\n",
       "      <th>3190</th>\n",
       "      <td>Serbia</td>\n",
       "      <td>2022-06-30</td>\n",
       "      <td>0</td>\n",
       "      <td>1</td>\n",
       "    </tr>\n",
       "    <tr>\n",
       "      <th>3191</th>\n",
       "      <td>Serbia</td>\n",
       "      <td>2022-07-01</td>\n",
       "      <td>0</td>\n",
       "      <td>1</td>\n",
       "    </tr>\n",
       "  </tbody>\n",
       "</table>\n",
       "<p>3192 rows × 4 columns</p>\n",
       "</div>"
      ],
      "text/plain": [
       "     Country       date  confirmed  acc_confirmed\n",
       "0      World 2022-05-06          1              1\n",
       "1      World 2022-05-07          0              1\n",
       "2      World 2022-05-08          0              1\n",
       "3      World 2022-05-09          0              1\n",
       "4      World 2022-05-10          0              1\n",
       "...      ...        ...        ...            ...\n",
       "3187  Serbia 2022-06-27          0              1\n",
       "3188  Serbia 2022-06-28          0              1\n",
       "3189  Serbia 2022-06-29          0              1\n",
       "3190  Serbia 2022-06-30          0              1\n",
       "3191  Serbia 2022-07-01          0              1\n",
       "\n",
       "[3192 rows x 4 columns]"
      ]
     },
     "metadata": {},
     "output_type": "display_data"
    }
   ],
   "source": [
    "df_world = df_world[['World'] + ['date', 'acc_confirmed_sum', 'confirmed_sum']]\n",
    "df_world['confirmed_sum'] = pd.to_numeric(df_world['confirmed_sum'], downcast='integer', errors='coerce')\n",
    "df_world = df_world[['World', 'date', 'confirmed_sum'] + ['acc_confirmed_sum']]\n",
    "df_world = df_world.rename(columns={'confirmed_sum': 'confirmed', 'acc_confirmed_sum': 'acc_confirmed', 'World': 'Country'})\n",
    "df_monkeypox = pd.concat([df_world, df_monkeypox], axis=0, ignore_index=True)\n",
    "df_monkeypox"
   ]
  },
  {
   "cell_type": "code",
   "execution_count": 142,
   "id": "0e9ee576",
   "metadata": {},
   "outputs": [
    {
     "data": {
      "text/plain": [
       "6177"
      ]
     },
     "execution_count": 142,
     "metadata": {},
     "output_type": "execute_result"
    }
   ],
   "source": [
    "#get world count\n",
    "world_count = df_monkeypox.loc[df_monkeypox['Country'].isin(['World'])]['acc_confirmed'].iloc[-1]\n",
    "world_count"
   ]
  },
  {
   "cell_type": "code",
   "execution_count": 143,
   "id": "6265a235",
   "metadata": {},
   "outputs": [
    {
     "data": {
      "text/plain": [
       "Timestamp('2022-07-01 00:00:00')"
      ]
     },
     "execution_count": 143,
     "metadata": {},
     "output_type": "execute_result"
    }
   ],
   "source": [
    "#set update date\n",
    "\n",
    "df_monkeypox['date'].iloc[-1]"
   ]
  },
  {
   "cell_type": "code",
   "execution_count": 144,
   "id": "a8f8db67",
   "metadata": {},
   "outputs": [
    {
     "data": {
      "text/plain": [
       "207"
      ]
     },
     "execution_count": 144,
     "metadata": {},
     "output_type": "execute_result"
    }
   ],
   "source": [
    "df_monkeypox.loc[df_monkeypox['Country'].isin(['World'])]['acc_confirmed'].iloc[-1]-df_monkeypox.loc[df_monkeypox['Country'].isin(['World'])]['acc_confirmed'].iloc[-2]\n",
    "\n"
   ]
  },
  {
   "cell_type": "code",
   "execution_count": 145,
   "id": "db29171f",
   "metadata": {},
   "outputs": [],
   "source": [
    "geo = pd.read_csv('world_country_and_usa_states_latitude_and_longitude_values.csv')\n"
   ]
  },
  {
   "cell_type": "code",
   "execution_count": 146,
   "id": "746b6aac",
   "metadata": {},
   "outputs": [],
   "source": [
    "df_monkeypox_uk = df_monkeypox.loc[df_monkeypox['Country'].isin(['England', 'Northern Ireland', 'Scotland', 'Wales'])]\n"
   ]
  },
  {
   "cell_type": "code",
   "execution_count": 147,
   "id": "e7f5baa9",
   "metadata": {},
   "outputs": [],
   "source": [
    "df_monkeypox_word = df_monkeypox.loc[df_monkeypox['Country'].isin(['World'])]\n"
   ]
  },
  {
   "cell_type": "code",
   "execution_count": 148,
   "id": "4c4bd56e",
   "metadata": {},
   "outputs": [],
   "source": [
    "df_monkeypox = df_monkeypox.loc[~(df_monkeypox['Country'].isin(['World', 'England', 'Northern Ireland', 'Scotland', 'Wales']))]\n"
   ]
  },
  {
   "cell_type": "code",
   "execution_count": 149,
   "id": "69ba0394",
   "metadata": {},
   "outputs": [],
   "source": [
    "df_monkeypox_uk['latitude'] = 55.378051\n",
    "df_monkeypox_uk['longitude'] = -3.435973"
   ]
  },
  {
   "cell_type": "code",
   "execution_count": 150,
   "id": "fa04f9d6",
   "metadata": {},
   "outputs": [],
   "source": [
    "df_monkeypox = pd.merge(df_monkeypox, geo[['country', 'latitude', 'longitude']], how='inner', left_on=['Country'], right_on=['country'])\n",
    "df_monkeypox = df_monkeypox.reset_index()\n"
   ]
  },
  {
   "cell_type": "code",
   "execution_count": 151,
   "id": "2bec67a9",
   "metadata": {},
   "outputs": [],
   "source": [
    "df_monkeypox = pd.concat([df_monkeypox, df_monkeypox_uk], axis=0, ignore_index=True)\n",
    "df_monkeypox = df_monkeypox.drop(columns=['index', 'country'])\n"
   ]
  },
  {
   "cell_type": "code",
   "execution_count": 152,
   "id": "cc830fb7",
   "metadata": {},
   "outputs": [],
   "source": [
    "df_monkeypox_word['latitude']=0\n",
    "df_monkeypox_word['longitude']=0"
   ]
  },
  {
   "cell_type": "code",
   "execution_count": 153,
   "id": "1cacb73d",
   "metadata": {},
   "outputs": [],
   "source": [
    "df_monkeypox = pd.concat([df_monkeypox, df_monkeypox_word], axis=0, ignore_index=True)"
   ]
  },
  {
   "cell_type": "code",
   "execution_count": 154,
   "id": "1812bbfe",
   "metadata": {},
   "outputs": [],
   "source": [
    "df_monkeypox = df_monkeypox.rename(columns={'confirmed': 'new_daily_cases'})"
   ]
  },
  {
   "cell_type": "code",
   "execution_count": 155,
   "id": "d79c0471",
   "metadata": {},
   "outputs": [],
   "source": [
    "df_code = pd.read_csv('code_contries.csv')"
   ]
  },
  {
   "cell_type": "code",
   "execution_count": 156,
   "id": "f7e4a8e8",
   "metadata": {},
   "outputs": [],
   "source": [
    "data_world = {'Country': ['World'], 'Continents':['World'], 'Country_ISO3':['WWW']}"
   ]
  },
  {
   "cell_type": "code",
   "execution_count": 157,
   "id": "9f067ef1",
   "metadata": {},
   "outputs": [],
   "source": [
    "code_world = pd.DataFrame(data_world)"
   ]
  },
  {
   "cell_type": "code",
   "execution_count": 158,
   "id": "d3d0506c",
   "metadata": {},
   "outputs": [
    {
     "data": {
      "application/vnd.jupyter.widget-view+json": {
       "model_id": "8330c27163ff4e969db1530a3bcfc4c1"
      },
      "text/html": [
       "<div>\n",
       "<style scoped>\n",
       "    .dataframe tbody tr th:only-of-type {\n",
       "        vertical-align: middle;\n",
       "    }\n",
       "\n",
       "    .dataframe tbody tr th {\n",
       "        vertical-align: top;\n",
       "    }\n",
       "\n",
       "    .dataframe thead th {\n",
       "        text-align: right;\n",
       "    }\n",
       "</style>\n",
       "<table border=\"1\" class=\"dataframe\">\n",
       "  <thead>\n",
       "    <tr style=\"text-align: right;\">\n",
       "      <th></th>\n",
       "      <th>Country</th>\n",
       "      <th>Continents</th>\n",
       "      <th>Country_ISO3</th>\n",
       "    </tr>\n",
       "  </thead>\n",
       "  <tbody>\n",
       "    <tr>\n",
       "      <th>0</th>\n",
       "      <td>England</td>\n",
       "      <td>Europe</td>\n",
       "      <td>GBR</td>\n",
       "    </tr>\n",
       "    <tr>\n",
       "      <th>1</th>\n",
       "      <td>Portugal</td>\n",
       "      <td>Europe</td>\n",
       "      <td>PRT</td>\n",
       "    </tr>\n",
       "    <tr>\n",
       "      <th>2</th>\n",
       "      <td>Spain</td>\n",
       "      <td>Europe</td>\n",
       "      <td>ESP</td>\n",
       "    </tr>\n",
       "    <tr>\n",
       "      <th>3</th>\n",
       "      <td>United States</td>\n",
       "      <td>North America</td>\n",
       "      <td>USA</td>\n",
       "    </tr>\n",
       "    <tr>\n",
       "      <th>4</th>\n",
       "      <td>Canada</td>\n",
       "      <td>North America</td>\n",
       "      <td>CAN</td>\n",
       "    </tr>\n",
       "    <tr>\n",
       "      <th>...</th>\n",
       "      <td>...</td>\n",
       "      <td>...</td>\n",
       "      <td>...</td>\n",
       "    </tr>\n",
       "    <tr>\n",
       "      <th>77</th>\n",
       "      <td>Fiji</td>\n",
       "      <td>Oceania</td>\n",
       "      <td>FJI</td>\n",
       "    </tr>\n",
       "    <tr>\n",
       "      <th>78</th>\n",
       "      <td>Benin</td>\n",
       "      <td>Africa</td>\n",
       "      <td>BEN</td>\n",
       "    </tr>\n",
       "    <tr>\n",
       "      <th>79</th>\n",
       "      <td>Estonia</td>\n",
       "      <td>Europe</td>\n",
       "      <td>EST</td>\n",
       "    </tr>\n",
       "    <tr>\n",
       "      <th>80</th>\n",
       "      <td>Puerto Rico</td>\n",
       "      <td>North America</td>\n",
       "      <td>PRI</td>\n",
       "    </tr>\n",
       "    <tr>\n",
       "      <th>81</th>\n",
       "      <td>World</td>\n",
       "      <td>World</td>\n",
       "      <td>WWW</td>\n",
       "    </tr>\n",
       "  </tbody>\n",
       "</table>\n",
       "<p>82 rows × 3 columns</p>\n",
       "</div>"
      ],
      "text/plain": [
       "          Country     Continents Country_ISO3\n",
       "0         England         Europe          GBR\n",
       "1        Portugal         Europe          PRT\n",
       "2           Spain         Europe          ESP\n",
       "3   United States  North America          USA\n",
       "4          Canada  North America          CAN\n",
       "..            ...            ...          ...\n",
       "77           Fiji        Oceania          FJI\n",
       "78          Benin         Africa          BEN\n",
       "79        Estonia         Europe          EST\n",
       "80    Puerto Rico  North America          PRI\n",
       "81          World          World          WWW\n",
       "\n",
       "[82 rows x 3 columns]"
      ]
     },
     "metadata": {},
     "output_type": "display_data"
    }
   ],
   "source": [
    "df_code = pd.concat([df_code, code_world], axis=0, ignore_index=True)\n",
    "df_code"
   ]
  },
  {
   "cell_type": "code",
   "execution_count": 159,
   "id": "d3ecbad4",
   "metadata": {},
   "outputs": [
    {
     "data": {
      "application/vnd.jupyter.widget-view+json": {
       "model_id": "b234e0a962d44d97b20c464b54e926e2"
      },
      "text/html": [
       "<div>\n",
       "<style scoped>\n",
       "    .dataframe tbody tr th:only-of-type {\n",
       "        vertical-align: middle;\n",
       "    }\n",
       "\n",
       "    .dataframe tbody tr th {\n",
       "        vertical-align: top;\n",
       "    }\n",
       "\n",
       "    .dataframe thead th {\n",
       "        text-align: right;\n",
       "    }\n",
       "</style>\n",
       "<table border=\"1\" class=\"dataframe\">\n",
       "  <thead>\n",
       "    <tr style=\"text-align: right;\">\n",
       "      <th></th>\n",
       "      <th>Country</th>\n",
       "      <th>date</th>\n",
       "      <th>new_daily_cases</th>\n",
       "      <th>acc_confirmed</th>\n",
       "      <th>latitude</th>\n",
       "      <th>longitude</th>\n",
       "      <th>Continents</th>\n",
       "      <th>Country_ISO3</th>\n",
       "    </tr>\n",
       "  </thead>\n",
       "  <tbody>\n",
       "    <tr>\n",
       "      <th>0</th>\n",
       "      <td>Argentina</td>\n",
       "      <td>2022-05-06</td>\n",
       "      <td>0</td>\n",
       "      <td>0</td>\n",
       "      <td>-38.416097</td>\n",
       "      <td>-63.616672</td>\n",
       "      <td>South America</td>\n",
       "      <td>ARG</td>\n",
       "    </tr>\n",
       "    <tr>\n",
       "      <th>1</th>\n",
       "      <td>Argentina</td>\n",
       "      <td>2022-05-07</td>\n",
       "      <td>0</td>\n",
       "      <td>0</td>\n",
       "      <td>-38.416097</td>\n",
       "      <td>-63.616672</td>\n",
       "      <td>South America</td>\n",
       "      <td>ARG</td>\n",
       "    </tr>\n",
       "    <tr>\n",
       "      <th>2</th>\n",
       "      <td>Argentina</td>\n",
       "      <td>2022-05-08</td>\n",
       "      <td>0</td>\n",
       "      <td>0</td>\n",
       "      <td>-38.416097</td>\n",
       "      <td>-63.616672</td>\n",
       "      <td>South America</td>\n",
       "      <td>ARG</td>\n",
       "    </tr>\n",
       "    <tr>\n",
       "      <th>3</th>\n",
       "      <td>Argentina</td>\n",
       "      <td>2022-05-09</td>\n",
       "      <td>0</td>\n",
       "      <td>0</td>\n",
       "      <td>-38.416097</td>\n",
       "      <td>-63.616672</td>\n",
       "      <td>South America</td>\n",
       "      <td>ARG</td>\n",
       "    </tr>\n",
       "    <tr>\n",
       "      <th>4</th>\n",
       "      <td>Argentina</td>\n",
       "      <td>2022-05-10</td>\n",
       "      <td>0</td>\n",
       "      <td>0</td>\n",
       "      <td>-38.416097</td>\n",
       "      <td>-63.616672</td>\n",
       "      <td>South America</td>\n",
       "      <td>ARG</td>\n",
       "    </tr>\n",
       "    <tr>\n",
       "      <th>...</th>\n",
       "      <td>...</td>\n",
       "      <td>...</td>\n",
       "      <td>...</td>\n",
       "      <td>...</td>\n",
       "      <td>...</td>\n",
       "      <td>...</td>\n",
       "      <td>...</td>\n",
       "      <td>...</td>\n",
       "    </tr>\n",
       "    <tr>\n",
       "      <th>3130</th>\n",
       "      <td>World</td>\n",
       "      <td>2022-06-27</td>\n",
       "      <td>367</td>\n",
       "      <td>4642</td>\n",
       "      <td>0.000000</td>\n",
       "      <td>0.000000</td>\n",
       "      <td>World</td>\n",
       "      <td>WWW</td>\n",
       "    </tr>\n",
       "    <tr>\n",
       "      <th>3131</th>\n",
       "      <td>World</td>\n",
       "      <td>2022-06-28</td>\n",
       "      <td>365</td>\n",
       "      <td>5007</td>\n",
       "      <td>0.000000</td>\n",
       "      <td>0.000000</td>\n",
       "      <td>World</td>\n",
       "      <td>WWW</td>\n",
       "    </tr>\n",
       "    <tr>\n",
       "      <th>3132</th>\n",
       "      <td>World</td>\n",
       "      <td>2022-06-29</td>\n",
       "      <td>147</td>\n",
       "      <td>5154</td>\n",
       "      <td>0.000000</td>\n",
       "      <td>0.000000</td>\n",
       "      <td>World</td>\n",
       "      <td>WWW</td>\n",
       "    </tr>\n",
       "    <tr>\n",
       "      <th>3133</th>\n",
       "      <td>World</td>\n",
       "      <td>2022-06-30</td>\n",
       "      <td>816</td>\n",
       "      <td>5970</td>\n",
       "      <td>0.000000</td>\n",
       "      <td>0.000000</td>\n",
       "      <td>World</td>\n",
       "      <td>WWW</td>\n",
       "    </tr>\n",
       "    <tr>\n",
       "      <th>3134</th>\n",
       "      <td>World</td>\n",
       "      <td>2022-07-01</td>\n",
       "      <td>207</td>\n",
       "      <td>6177</td>\n",
       "      <td>0.000000</td>\n",
       "      <td>0.000000</td>\n",
       "      <td>World</td>\n",
       "      <td>WWW</td>\n",
       "    </tr>\n",
       "  </tbody>\n",
       "</table>\n",
       "<p>3135 rows × 8 columns</p>\n",
       "</div>"
      ],
      "text/plain": [
       "        Country       date  new_daily_cases  acc_confirmed   latitude  \\\n",
       "0     Argentina 2022-05-06                0              0 -38.416097   \n",
       "1     Argentina 2022-05-07                0              0 -38.416097   \n",
       "2     Argentina 2022-05-08                0              0 -38.416097   \n",
       "3     Argentina 2022-05-09                0              0 -38.416097   \n",
       "4     Argentina 2022-05-10                0              0 -38.416097   \n",
       "...         ...        ...              ...            ...        ...   \n",
       "3130      World 2022-06-27              367           4642   0.000000   \n",
       "3131      World 2022-06-28              365           5007   0.000000   \n",
       "3132      World 2022-06-29              147           5154   0.000000   \n",
       "3133      World 2022-06-30              816           5970   0.000000   \n",
       "3134      World 2022-07-01              207           6177   0.000000   \n",
       "\n",
       "      longitude     Continents Country_ISO3  \n",
       "0    -63.616672  South America          ARG  \n",
       "1    -63.616672  South America          ARG  \n",
       "2    -63.616672  South America          ARG  \n",
       "3    -63.616672  South America          ARG  \n",
       "4    -63.616672  South America          ARG  \n",
       "...         ...            ...          ...  \n",
       "3130   0.000000          World          WWW  \n",
       "3131   0.000000          World          WWW  \n",
       "3132   0.000000          World          WWW  \n",
       "3133   0.000000          World          WWW  \n",
       "3134   0.000000          World          WWW  \n",
       "\n",
       "[3135 rows x 8 columns]"
      ]
     },
     "metadata": {},
     "output_type": "display_data"
    }
   ],
   "source": [
    "df_monkeypox = pd.merge(df_monkeypox, df_code[['Country', 'Continents', 'Country_ISO3']], how='inner', on=['Country'])\n",
    "df_monkeypox"
   ]
  },
  {
   "cell_type": "code",
   "execution_count": 160,
   "id": "6b1288ac",
   "metadata": {},
   "outputs": [],
   "source": [
    "df_monkeypox.to_csv('df_monkeyPoxTimeSerie.csv', index_label=False)\n",
    "df_monkeypox.to_csv('df_monkeyPoxTimeSerie2.csv')"
   ]
  },
  {
   "cell_type": "code",
   "execution_count": 161,
   "id": "0b990046",
   "metadata": {},
   "outputs": [
    {
     "data": {
      "text/plain": [
       "6177"
      ]
     },
     "execution_count": 161,
     "metadata": {},
     "output_type": "execute_result"
    }
   ],
   "source": [
    "#today world cases\n",
    "df_monkeypox[df_monkeypox['Country']=='World']['acc_confirmed'].max()"
   ]
  },
  {
   "cell_type": "code",
   "execution_count": 162,
   "id": "d9c70008",
   "metadata": {},
   "outputs": [
    {
     "name": "stdout",
     "output_type": "stream",
     "text": [
      "['Argentina' 'Australia' 'Austria' 'Belgium' 'Bulgaria' 'Brazil' 'Benin'\n",
      " 'Canada' 'Colombia' 'Denmark' 'Finland' 'France' 'Germany' 'Ghana'\n",
      " 'Gibraltar' 'Greece' 'Hungary' 'Ireland' 'Israel' 'Italy' 'Latvia'\n",
      " 'Mexico' 'Malta' 'Morocco' 'Netherlands' 'Norway' 'Poland' 'Peru'\n",
      " 'Puerto Rico' 'Portugal' 'Singapore' 'Slovenia' 'Spain' 'South Korea'\n",
      " 'South Africa' 'Sweden' 'Switzerland' 'Taiwan' 'Turkey'\n",
      " 'United Arab Emirates' 'United States' 'Georgia' 'Croatia' 'Chile'\n",
      " 'Iceland' 'Lebanon' 'Luxembourg' 'Venezuela' 'Romania' 'Serbia' 'England'\n",
      " 'Northern Ireland' 'Scotland' 'Wales' 'World']\n"
     ]
    }
   ],
   "source": [
    "df_monkeypox\n",
    "print(df_monkeypox.Country.unique())"
   ]
  },
  {
   "cell_type": "code",
   "execution_count": 163,
   "id": "28f821ba",
   "metadata": {},
   "outputs": [
    {
     "data": {
      "text/plain": [
       "55"
      ]
     },
     "execution_count": 163,
     "metadata": {},
     "output_type": "execute_result"
    }
   ],
   "source": [
    "len(df_monkeypox['Country'].unique())"
   ]
  },
  {
   "cell_type": "code",
   "execution_count": 164,
   "id": "1cafb9f6",
   "metadata": {},
   "outputs": [
    {
     "data": {
      "text/plain": [
       "'6,177'"
      ]
     },
     "execution_count": 164,
     "metadata": {},
     "output_type": "execute_result"
    }
   ],
   "source": [
    "f\"{world_count:,.0f}\""
   ]
  },
  {
   "cell_type": "code",
   "execution_count": 165,
   "id": "6b6a1a97",
   "metadata": {},
   "outputs": [
    {
     "data": {
      "application/vnd.jupyter.widget-view+json": {
       "model_id": "a0c4ae69c7c545b498f35e1d22668540"
      },
      "text/html": [
       "<div>\n",
       "<style scoped>\n",
       "    .dataframe tbody tr th:only-of-type {\n",
       "        vertical-align: middle;\n",
       "    }\n",
       "\n",
       "    .dataframe tbody tr th {\n",
       "        vertical-align: top;\n",
       "    }\n",
       "\n",
       "    .dataframe thead th {\n",
       "        text-align: right;\n",
       "    }\n",
       "</style>\n",
       "<table border=\"1\" class=\"dataframe\">\n",
       "  <thead>\n",
       "    <tr style=\"text-align: right;\">\n",
       "      <th></th>\n",
       "      <th>Country</th>\n",
       "      <th>date</th>\n",
       "      <th>new_daily_cases</th>\n",
       "      <th>acc_confirmed</th>\n",
       "      <th>latitude</th>\n",
       "      <th>longitude</th>\n",
       "      <th>Continents</th>\n",
       "      <th>Country_ISO3</th>\n",
       "    </tr>\n",
       "  </thead>\n",
       "  <tbody>\n",
       "    <tr>\n",
       "      <th>0</th>\n",
       "      <td>Argentina</td>\n",
       "      <td>2022-05-06</td>\n",
       "      <td>0</td>\n",
       "      <td>0</td>\n",
       "      <td>-38.416097</td>\n",
       "      <td>-63.616672</td>\n",
       "      <td>South America</td>\n",
       "      <td>ARG</td>\n",
       "    </tr>\n",
       "    <tr>\n",
       "      <th>1</th>\n",
       "      <td>Argentina</td>\n",
       "      <td>2022-05-07</td>\n",
       "      <td>0</td>\n",
       "      <td>0</td>\n",
       "      <td>-38.416097</td>\n",
       "      <td>-63.616672</td>\n",
       "      <td>South America</td>\n",
       "      <td>ARG</td>\n",
       "    </tr>\n",
       "    <tr>\n",
       "      <th>2</th>\n",
       "      <td>Argentina</td>\n",
       "      <td>2022-05-08</td>\n",
       "      <td>0</td>\n",
       "      <td>0</td>\n",
       "      <td>-38.416097</td>\n",
       "      <td>-63.616672</td>\n",
       "      <td>South America</td>\n",
       "      <td>ARG</td>\n",
       "    </tr>\n",
       "    <tr>\n",
       "      <th>3</th>\n",
       "      <td>Argentina</td>\n",
       "      <td>2022-05-09</td>\n",
       "      <td>0</td>\n",
       "      <td>0</td>\n",
       "      <td>-38.416097</td>\n",
       "      <td>-63.616672</td>\n",
       "      <td>South America</td>\n",
       "      <td>ARG</td>\n",
       "    </tr>\n",
       "    <tr>\n",
       "      <th>4</th>\n",
       "      <td>Argentina</td>\n",
       "      <td>2022-05-10</td>\n",
       "      <td>0</td>\n",
       "      <td>0</td>\n",
       "      <td>-38.416097</td>\n",
       "      <td>-63.616672</td>\n",
       "      <td>South America</td>\n",
       "      <td>ARG</td>\n",
       "    </tr>\n",
       "    <tr>\n",
       "      <th>...</th>\n",
       "      <td>...</td>\n",
       "      <td>...</td>\n",
       "      <td>...</td>\n",
       "      <td>...</td>\n",
       "      <td>...</td>\n",
       "      <td>...</td>\n",
       "      <td>...</td>\n",
       "      <td>...</td>\n",
       "    </tr>\n",
       "    <tr>\n",
       "      <th>3130</th>\n",
       "      <td>World</td>\n",
       "      <td>2022-06-27</td>\n",
       "      <td>367</td>\n",
       "      <td>4642</td>\n",
       "      <td>0.000000</td>\n",
       "      <td>0.000000</td>\n",
       "      <td>World</td>\n",
       "      <td>WWW</td>\n",
       "    </tr>\n",
       "    <tr>\n",
       "      <th>3131</th>\n",
       "      <td>World</td>\n",
       "      <td>2022-06-28</td>\n",
       "      <td>365</td>\n",
       "      <td>5007</td>\n",
       "      <td>0.000000</td>\n",
       "      <td>0.000000</td>\n",
       "      <td>World</td>\n",
       "      <td>WWW</td>\n",
       "    </tr>\n",
       "    <tr>\n",
       "      <th>3132</th>\n",
       "      <td>World</td>\n",
       "      <td>2022-06-29</td>\n",
       "      <td>147</td>\n",
       "      <td>5154</td>\n",
       "      <td>0.000000</td>\n",
       "      <td>0.000000</td>\n",
       "      <td>World</td>\n",
       "      <td>WWW</td>\n",
       "    </tr>\n",
       "    <tr>\n",
       "      <th>3133</th>\n",
       "      <td>World</td>\n",
       "      <td>2022-06-30</td>\n",
       "      <td>816</td>\n",
       "      <td>5970</td>\n",
       "      <td>0.000000</td>\n",
       "      <td>0.000000</td>\n",
       "      <td>World</td>\n",
       "      <td>WWW</td>\n",
       "    </tr>\n",
       "    <tr>\n",
       "      <th>3134</th>\n",
       "      <td>World</td>\n",
       "      <td>2022-07-01</td>\n",
       "      <td>207</td>\n",
       "      <td>6177</td>\n",
       "      <td>0.000000</td>\n",
       "      <td>0.000000</td>\n",
       "      <td>World</td>\n",
       "      <td>WWW</td>\n",
       "    </tr>\n",
       "  </tbody>\n",
       "</table>\n",
       "<p>3135 rows × 8 columns</p>\n",
       "</div>"
      ],
      "text/plain": [
       "        Country       date  new_daily_cases  acc_confirmed   latitude  \\\n",
       "0     Argentina 2022-05-06                0              0 -38.416097   \n",
       "1     Argentina 2022-05-07                0              0 -38.416097   \n",
       "2     Argentina 2022-05-08                0              0 -38.416097   \n",
       "3     Argentina 2022-05-09                0              0 -38.416097   \n",
       "4     Argentina 2022-05-10                0              0 -38.416097   \n",
       "...         ...        ...              ...            ...        ...   \n",
       "3130      World 2022-06-27              367           4642   0.000000   \n",
       "3131      World 2022-06-28              365           5007   0.000000   \n",
       "3132      World 2022-06-29              147           5154   0.000000   \n",
       "3133      World 2022-06-30              816           5970   0.000000   \n",
       "3134      World 2022-07-01              207           6177   0.000000   \n",
       "\n",
       "      longitude     Continents Country_ISO3  \n",
       "0    -63.616672  South America          ARG  \n",
       "1    -63.616672  South America          ARG  \n",
       "2    -63.616672  South America          ARG  \n",
       "3    -63.616672  South America          ARG  \n",
       "4    -63.616672  South America          ARG  \n",
       "...         ...            ...          ...  \n",
       "3130   0.000000          World          WWW  \n",
       "3131   0.000000          World          WWW  \n",
       "3132   0.000000          World          WWW  \n",
       "3133   0.000000          World          WWW  \n",
       "3134   0.000000          World          WWW  \n",
       "\n",
       "[3135 rows x 8 columns]"
      ]
     },
     "metadata": {},
     "output_type": "display_data"
    }
   ],
   "source": [
    "df_monkeypox"
   ]
  },
  {
   "cell_type": "code",
   "execution_count": null,
   "id": "fdb41814",
   "metadata": {},
   "outputs": [],
   "source": []
  },
  {
   "cell_type": "code",
   "execution_count": 166,
   "id": "5810f65c",
   "metadata": {},
   "outputs": [
    {
     "name": "stdout",
     "output_type": "stream",
     "text": [
      "207\n",
      "816\n"
     ]
    }
   ],
   "source": [
    "print(df_monkeypox[df_monkeypox['Country']=='World']['new_daily_cases'].iloc[-1]) \n",
    "print(df_monkeypox[df_monkeypox['Country']=='World']['new_daily_cases'].iloc[-2])"
   ]
  },
  {
   "cell_type": "code",
   "execution_count": 167,
   "id": "daee764d",
   "metadata": {},
   "outputs": [
    {
     "data": {
      "text/plain": [
       "Index(['Country', 'date', 'new_daily_cases', 'acc_confirmed', 'latitude',\n",
       "       'longitude', 'Continents', 'Country_ISO3'],\n",
       "      dtype='object')"
      ]
     },
     "execution_count": 167,
     "metadata": {},
     "output_type": "execute_result"
    }
   ],
   "source": [
    "df_monkeypox.columns"
   ]
  },
  {
   "cell_type": "code",
   "execution_count": 168,
   "id": "ea36802a",
   "metadata": {},
   "outputs": [],
   "source": [
    "# set rolling av\n",
    "\n"
   ]
  },
  {
   "cell_type": "code",
   "execution_count": 169,
   "id": "15e00cd9",
   "metadata": {},
   "outputs": [],
   "source": [
    "#df_monkeypox[df_monkeypox['Country']=='Argentina']"
   ]
  },
  {
   "cell_type": "code",
   "execution_count": 170,
   "id": "155c3018",
   "metadata": {},
   "outputs": [],
   "source": [
    "#set data for map\n",
    "\n",
    "#df_monkeypox.groupby(['Country', 'latitude', 'longitude'])['acc_confirmed'].max().reset_index()"
   ]
  },
  {
   "cell_type": "code",
   "execution_count": 171,
   "id": "41a24839",
   "metadata": {},
   "outputs": [],
   "source": [
    "# Create dictionary of list\n",
    "#testlist = df_monkeypox[['Country', 'latitude', 'longitude']]\n",
    "#dict_of_locations = testlist.set_index('Country')[['latitude', 'longitude']].T.to_dict('dict')"
   ]
  },
  {
   "cell_type": "code",
   "execution_count": 172,
   "id": "cfce7b50",
   "metadata": {},
   "outputs": [],
   "source": [
    "#dict_of_locations"
   ]
  },
  {
   "cell_type": "code",
   "execution_count": null,
   "id": "a31141c2",
   "metadata": {},
   "outputs": [],
   "source": []
  }
 ],
 "metadata": {
  "kernelspec": {
   "display_name": "Python 3",
   "language": "python",
   "name": "python3"
  },
  "language_info": {
   "codemirror_mode": {
    "name": "ipython",
    "version": 3
   },
   "file_extension": ".py",
   "mimetype": "text/x-python",
   "name": "python",
   "nbconvert_exporter": "python",
   "pygments_lexer": "ipython3",
   "version": "3.8.2"
  },
  "nbTranslate": {
   "displayLangs": [
    "*"
   ],
   "hotkey": "alt-t",
   "langInMainMenu": true,
   "sourceLang": "en",
   "targetLang": "fr",
   "useGoogleTranslate": true
  },
  "vscode": {
   "interpreter": {
    "hash": "6172bc7c2c6224e96af60849adeee58773c2c143c869fb9f4da1521cec9d5c5c"
   }
  }
 },
 "nbformat": 4,
 "nbformat_minor": 5
}
